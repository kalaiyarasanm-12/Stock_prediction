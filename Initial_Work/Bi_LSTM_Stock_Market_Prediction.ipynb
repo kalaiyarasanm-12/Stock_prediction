{
  "nbformat": 4,
  "nbformat_minor": 0,
  "metadata": {
    "colab": {
      "provenance": []
    },
    "kernelspec": {
      "name": "python3",
      "display_name": "Python 3"
    },
    "language_info": {
      "name": "python"
    },
    "gpuClass": "standard",
    "accelerator": "GPU"
  },
  "cells": [
    {
      "cell_type": "code",
      "execution_count": null,
      "metadata": {
        "id": "V-zVY1TdYP7C"
      },
      "outputs": [],
      "source": [
        "import pandas_datareader as pdr"
      ]
    },
    {
      "cell_type": "code",
      "source": [
        "key = '8138a60a6bcc7cdfa486834b128d5ce3c3a3e417'"
      ],
      "metadata": {
        "id": "zcBsn543YlVy"
      },
      "execution_count": null,
      "outputs": []
    },
    {
      "cell_type": "code",
      "source": [
        "df = pdr.get_data_tiingo('AAPL', api_key=key)\n"
      ],
      "metadata": {
        "colab": {
          "base_uri": "https://localhost:8080/"
        },
        "id": "_JjYFTj-Yl2E",
        "outputId": "76048408-d48d-4a33-99c0-895cbcfad4d3"
      },
      "execution_count": null,
      "outputs": [
        {
          "output_type": "stream",
          "name": "stderr",
          "text": [
            "/usr/local/lib/python3.8/dist-packages/pandas_datareader/tiingo.py:234: FutureWarning: In a future version of pandas all arguments of concat except for the argument 'objs' will be keyword-only\n",
            "  return pd.concat(dfs, self._concat_axis)\n"
          ]
        }
      ]
    },
    {
      "cell_type": "code",
      "source": [
        "df.to_csv('AAPL.csv')"
      ],
      "metadata": {
        "id": "8yajwOF5Yp0t"
      },
      "execution_count": null,
      "outputs": []
    },
    {
      "cell_type": "code",
      "source": [
        "import pandas as pd"
      ],
      "metadata": {
        "id": "GHMS1ZgMYtr8"
      },
      "execution_count": null,
      "outputs": []
    },
    {
      "cell_type": "code",
      "source": [
        "df.head()"
      ],
      "metadata": {
        "colab": {
          "base_uri": "https://localhost:8080/",
          "height": 238
        },
        "id": "VfeKbscPYv00",
        "outputId": "af40b332-ef64-4989-8b3c-9b92fbf0b568"
      },
      "execution_count": null,
      "outputs": [
        {
          "output_type": "execute_result",
          "data": {
            "text/plain": [
              "                                   close    high     low    open    volume  \\\n",
              "symbol date                                                                  \n",
              "AAPL   2018-01-02 00:00:00+00:00  172.26  172.30  169.26  170.16  25048048   \n",
              "       2018-01-03 00:00:00+00:00  172.23  174.55  171.96  172.53  28819653   \n",
              "       2018-01-04 00:00:00+00:00  173.03  173.47  172.08  172.54  22211345   \n",
              "       2018-01-05 00:00:00+00:00  175.00  175.37  173.05  173.44  23016177   \n",
              "       2018-01-08 00:00:00+00:00  174.35  175.61  173.93  174.35  20134092   \n",
              "\n",
              "                                   adjClose    adjHigh     adjLow    adjOpen  \\\n",
              "symbol date                                                                    \n",
              "AAPL   2018-01-02 00:00:00+00:00  40.896905  40.906402  40.184664  40.398336   \n",
              "       2018-01-03 00:00:00+00:00  40.889783  41.440583  40.825681  40.961007   \n",
              "       2018-01-04 00:00:00+00:00  41.079714  41.184176  40.854171  40.963381   \n",
              "       2018-01-05 00:00:00+00:00  41.547419  41.635262  41.084462  41.177054   \n",
              "       2018-01-08 00:00:00+00:00  41.393100  41.692242  41.293386  41.393100   \n",
              "\n",
              "                                  adjVolume  divCash  splitFactor  \n",
              "symbol date                                                        \n",
              "AAPL   2018-01-02 00:00:00+00:00  100192192      0.0          1.0  \n",
              "       2018-01-03 00:00:00+00:00  115278612      0.0          1.0  \n",
              "       2018-01-04 00:00:00+00:00   88845380      0.0          1.0  \n",
              "       2018-01-05 00:00:00+00:00   92064708      0.0          1.0  \n",
              "       2018-01-08 00:00:00+00:00   80536368      0.0          1.0  "
            ],
            "text/html": [
              "\n",
              "  <div id=\"df-d2ed1b28-fe62-4044-bece-dbffb7501c22\">\n",
              "    <div class=\"colab-df-container\">\n",
              "      <div>\n",
              "<style scoped>\n",
              "    .dataframe tbody tr th:only-of-type {\n",
              "        vertical-align: middle;\n",
              "    }\n",
              "\n",
              "    .dataframe tbody tr th {\n",
              "        vertical-align: top;\n",
              "    }\n",
              "\n",
              "    .dataframe thead th {\n",
              "        text-align: right;\n",
              "    }\n",
              "</style>\n",
              "<table border=\"1\" class=\"dataframe\">\n",
              "  <thead>\n",
              "    <tr style=\"text-align: right;\">\n",
              "      <th></th>\n",
              "      <th></th>\n",
              "      <th>close</th>\n",
              "      <th>high</th>\n",
              "      <th>low</th>\n",
              "      <th>open</th>\n",
              "      <th>volume</th>\n",
              "      <th>adjClose</th>\n",
              "      <th>adjHigh</th>\n",
              "      <th>adjLow</th>\n",
              "      <th>adjOpen</th>\n",
              "      <th>adjVolume</th>\n",
              "      <th>divCash</th>\n",
              "      <th>splitFactor</th>\n",
              "    </tr>\n",
              "    <tr>\n",
              "      <th>symbol</th>\n",
              "      <th>date</th>\n",
              "      <th></th>\n",
              "      <th></th>\n",
              "      <th></th>\n",
              "      <th></th>\n",
              "      <th></th>\n",
              "      <th></th>\n",
              "      <th></th>\n",
              "      <th></th>\n",
              "      <th></th>\n",
              "      <th></th>\n",
              "      <th></th>\n",
              "      <th></th>\n",
              "    </tr>\n",
              "  </thead>\n",
              "  <tbody>\n",
              "    <tr>\n",
              "      <th rowspan=\"5\" valign=\"top\">AAPL</th>\n",
              "      <th>2018-01-02 00:00:00+00:00</th>\n",
              "      <td>172.26</td>\n",
              "      <td>172.30</td>\n",
              "      <td>169.26</td>\n",
              "      <td>170.16</td>\n",
              "      <td>25048048</td>\n",
              "      <td>40.896905</td>\n",
              "      <td>40.906402</td>\n",
              "      <td>40.184664</td>\n",
              "      <td>40.398336</td>\n",
              "      <td>100192192</td>\n",
              "      <td>0.0</td>\n",
              "      <td>1.0</td>\n",
              "    </tr>\n",
              "    <tr>\n",
              "      <th>2018-01-03 00:00:00+00:00</th>\n",
              "      <td>172.23</td>\n",
              "      <td>174.55</td>\n",
              "      <td>171.96</td>\n",
              "      <td>172.53</td>\n",
              "      <td>28819653</td>\n",
              "      <td>40.889783</td>\n",
              "      <td>41.440583</td>\n",
              "      <td>40.825681</td>\n",
              "      <td>40.961007</td>\n",
              "      <td>115278612</td>\n",
              "      <td>0.0</td>\n",
              "      <td>1.0</td>\n",
              "    </tr>\n",
              "    <tr>\n",
              "      <th>2018-01-04 00:00:00+00:00</th>\n",
              "      <td>173.03</td>\n",
              "      <td>173.47</td>\n",
              "      <td>172.08</td>\n",
              "      <td>172.54</td>\n",
              "      <td>22211345</td>\n",
              "      <td>41.079714</td>\n",
              "      <td>41.184176</td>\n",
              "      <td>40.854171</td>\n",
              "      <td>40.963381</td>\n",
              "      <td>88845380</td>\n",
              "      <td>0.0</td>\n",
              "      <td>1.0</td>\n",
              "    </tr>\n",
              "    <tr>\n",
              "      <th>2018-01-05 00:00:00+00:00</th>\n",
              "      <td>175.00</td>\n",
              "      <td>175.37</td>\n",
              "      <td>173.05</td>\n",
              "      <td>173.44</td>\n",
              "      <td>23016177</td>\n",
              "      <td>41.547419</td>\n",
              "      <td>41.635262</td>\n",
              "      <td>41.084462</td>\n",
              "      <td>41.177054</td>\n",
              "      <td>92064708</td>\n",
              "      <td>0.0</td>\n",
              "      <td>1.0</td>\n",
              "    </tr>\n",
              "    <tr>\n",
              "      <th>2018-01-08 00:00:00+00:00</th>\n",
              "      <td>174.35</td>\n",
              "      <td>175.61</td>\n",
              "      <td>173.93</td>\n",
              "      <td>174.35</td>\n",
              "      <td>20134092</td>\n",
              "      <td>41.393100</td>\n",
              "      <td>41.692242</td>\n",
              "      <td>41.293386</td>\n",
              "      <td>41.393100</td>\n",
              "      <td>80536368</td>\n",
              "      <td>0.0</td>\n",
              "      <td>1.0</td>\n",
              "    </tr>\n",
              "  </tbody>\n",
              "</table>\n",
              "</div>\n",
              "      <button class=\"colab-df-convert\" onclick=\"convertToInteractive('df-d2ed1b28-fe62-4044-bece-dbffb7501c22')\"\n",
              "              title=\"Convert this dataframe to an interactive table.\"\n",
              "              style=\"display:none;\">\n",
              "        \n",
              "  <svg xmlns=\"http://www.w3.org/2000/svg\" height=\"24px\"viewBox=\"0 0 24 24\"\n",
              "       width=\"24px\">\n",
              "    <path d=\"M0 0h24v24H0V0z\" fill=\"none\"/>\n",
              "    <path d=\"M18.56 5.44l.94 2.06.94-2.06 2.06-.94-2.06-.94-.94-2.06-.94 2.06-2.06.94zm-11 1L8.5 8.5l.94-2.06 2.06-.94-2.06-.94L8.5 2.5l-.94 2.06-2.06.94zm10 10l.94 2.06.94-2.06 2.06-.94-2.06-.94-.94-2.06-.94 2.06-2.06.94z\"/><path d=\"M17.41 7.96l-1.37-1.37c-.4-.4-.92-.59-1.43-.59-.52 0-1.04.2-1.43.59L10.3 9.45l-7.72 7.72c-.78.78-.78 2.05 0 2.83L4 21.41c.39.39.9.59 1.41.59.51 0 1.02-.2 1.41-.59l7.78-7.78 2.81-2.81c.8-.78.8-2.07 0-2.86zM5.41 20L4 18.59l7.72-7.72 1.47 1.35L5.41 20z\"/>\n",
              "  </svg>\n",
              "      </button>\n",
              "      \n",
              "  <style>\n",
              "    .colab-df-container {\n",
              "      display:flex;\n",
              "      flex-wrap:wrap;\n",
              "      gap: 12px;\n",
              "    }\n",
              "\n",
              "    .colab-df-convert {\n",
              "      background-color: #E8F0FE;\n",
              "      border: none;\n",
              "      border-radius: 50%;\n",
              "      cursor: pointer;\n",
              "      display: none;\n",
              "      fill: #1967D2;\n",
              "      height: 32px;\n",
              "      padding: 0 0 0 0;\n",
              "      width: 32px;\n",
              "    }\n",
              "\n",
              "    .colab-df-convert:hover {\n",
              "      background-color: #E2EBFA;\n",
              "      box-shadow: 0px 1px 2px rgba(60, 64, 67, 0.3), 0px 1px 3px 1px rgba(60, 64, 67, 0.15);\n",
              "      fill: #174EA6;\n",
              "    }\n",
              "\n",
              "    [theme=dark] .colab-df-convert {\n",
              "      background-color: #3B4455;\n",
              "      fill: #D2E3FC;\n",
              "    }\n",
              "\n",
              "    [theme=dark] .colab-df-convert:hover {\n",
              "      background-color: #434B5C;\n",
              "      box-shadow: 0px 1px 3px 1px rgba(0, 0, 0, 0.15);\n",
              "      filter: drop-shadow(0px 1px 2px rgba(0, 0, 0, 0.3));\n",
              "      fill: #FFFFFF;\n",
              "    }\n",
              "  </style>\n",
              "\n",
              "      <script>\n",
              "        const buttonEl =\n",
              "          document.querySelector('#df-d2ed1b28-fe62-4044-bece-dbffb7501c22 button.colab-df-convert');\n",
              "        buttonEl.style.display =\n",
              "          google.colab.kernel.accessAllowed ? 'block' : 'none';\n",
              "\n",
              "        async function convertToInteractive(key) {\n",
              "          const element = document.querySelector('#df-d2ed1b28-fe62-4044-bece-dbffb7501c22');\n",
              "          const dataTable =\n",
              "            await google.colab.kernel.invokeFunction('convertToInteractive',\n",
              "                                                     [key], {});\n",
              "          if (!dataTable) return;\n",
              "\n",
              "          const docLinkHtml = 'Like what you see? Visit the ' +\n",
              "            '<a target=\"_blank\" href=https://colab.research.google.com/notebooks/data_table.ipynb>data table notebook</a>'\n",
              "            + ' to learn more about interactive tables.';\n",
              "          element.innerHTML = '';\n",
              "          dataTable['output_type'] = 'display_data';\n",
              "          await google.colab.output.renderOutput(dataTable, element);\n",
              "          const docLink = document.createElement('div');\n",
              "          docLink.innerHTML = docLinkHtml;\n",
              "          element.appendChild(docLink);\n",
              "        }\n",
              "      </script>\n",
              "    </div>\n",
              "  </div>\n",
              "  "
            ]
          },
          "metadata": {},
          "execution_count": 6
        }
      ]
    },
    {
      "cell_type": "code",
      "source": [
        "df.info()"
      ],
      "metadata": {
        "colab": {
          "base_uri": "https://localhost:8080/"
        },
        "id": "O6wd1zTseXar",
        "outputId": "898540c2-3f85-4199-cc07-9f0bb92790b8"
      },
      "execution_count": null,
      "outputs": [
        {
          "output_type": "stream",
          "name": "stdout",
          "text": [
            "<class 'pandas.core.frame.DataFrame'>\n",
            "MultiIndex: 1258 entries, ('AAPL', Timestamp('2018-01-02 00:00:00+0000', tz='UTC')) to ('AAPL', Timestamp('2022-12-29 00:00:00+0000', tz='UTC'))\n",
            "Data columns (total 12 columns):\n",
            " #   Column       Non-Null Count  Dtype  \n",
            "---  ------       --------------  -----  \n",
            " 0   close        1258 non-null   float64\n",
            " 1   high         1258 non-null   float64\n",
            " 2   low          1258 non-null   float64\n",
            " 3   open         1258 non-null   float64\n",
            " 4   volume       1258 non-null   int64  \n",
            " 5   adjClose     1258 non-null   float64\n",
            " 6   adjHigh      1258 non-null   float64\n",
            " 7   adjLow       1258 non-null   float64\n",
            " 8   adjOpen      1258 non-null   float64\n",
            " 9   adjVolume    1258 non-null   int64  \n",
            " 10  divCash      1258 non-null   float64\n",
            " 11  splitFactor  1258 non-null   float64\n",
            "dtypes: float64(10), int64(2)\n",
            "memory usage: 164.0+ KB\n"
          ]
        }
      ]
    },
    {
      "cell_type": "code",
      "source": [
        "df1 = df.reset_index() ['close']"
      ],
      "metadata": {
        "id": "a5YxWUjJY0g9"
      },
      "execution_count": null,
      "outputs": []
    },
    {
      "cell_type": "code",
      "source": [
        "df1.shape"
      ],
      "metadata": {
        "colab": {
          "base_uri": "https://localhost:8080/"
        },
        "id": "cECVAhqzY1pX",
        "outputId": "f1b3e921-28e5-43b6-f561-6997f002a474"
      },
      "execution_count": null,
      "outputs": [
        {
          "output_type": "execute_result",
          "data": {
            "text/plain": [
              "(1258,)"
            ]
          },
          "metadata": {},
          "execution_count": 9
        }
      ]
    },
    {
      "cell_type": "code",
      "source": [
        "import matplotlib.pyplot as plt\n",
        "plt.plot(df1)"
      ],
      "metadata": {
        "colab": {
          "base_uri": "https://localhost:8080/",
          "height": 282
        },
        "id": "IA-QWh-rY7pZ",
        "outputId": "65bcec9a-2b09-448f-8c91-350d39fabc25"
      },
      "execution_count": null,
      "outputs": [
        {
          "output_type": "execute_result",
          "data": {
            "text/plain": [
              "[<matplotlib.lines.Line2D at 0x7f7434cbb3d0>]"
            ]
          },
          "metadata": {},
          "execution_count": 10
        },
        {
          "output_type": "display_data",
          "data": {
            "text/plain": [
              "<Figure size 432x288 with 1 Axes>"
            ],
            "image/png": "[encoded data removed]"
          },
          "metadata": {
            "needs_background": "light"
          }
        }
      ]
    },
    {
      "cell_type": "code",
      "source": [
        "import numpy as np"
      ],
      "metadata": {
        "id": "gAeYWVGOY_E2"
      },
      "execution_count": null,
      "outputs": []
    },
    {
      "cell_type": "code",
      "source": [
        "from sklearn.preprocessing import MinMaxScaler\n",
        "scaler = MinMaxScaler(feature_range=(0,1))\n",
        "df1 = scaler.fit_transform(np.array(df1).reshape(-1,1))"
      ],
      "metadata": {
        "id": "MkElM-QlZD-Q"
      },
      "execution_count": null,
      "outputs": []
    },
    {
      "cell_type": "code",
      "source": [
        "df1.shape"
      ],
      "metadata": {
        "colab": {
          "base_uri": "https://localhost:8080/"
        },
        "id": "xjIHOMuQZGRB",
        "outputId": "10391af7-e090-4b87-b5a4-6d3e774154d9"
      },
      "execution_count": null,
      "outputs": [
        {
          "output_type": "execute_result",
          "data": {
            "text/plain": [
              "(1258, 1)"
            ]
          },
          "metadata": {},
          "execution_count": 13
        }
      ]
    },
    {
      "cell_type": "code",
      "source": [
        "training_size = int(len(df1)*0.65)\n",
        "test_size = len(df1)-training_size\n",
        "train_data,test_data = df1[0:training_size,:], df1[training_size:len(df1),:1]"
      ],
      "metadata": {
        "id": "DaQXM-AXZJRi"
      },
      "execution_count": null,
      "outputs": []
    },
    {
      "cell_type": "code",
      "source": [
        "import numpy\n",
        "#converting the array of values into a dataset matrix\n",
        "\n",
        "def create_dataset(dataset, time_step=1):\n",
        "  dataX, dataY = [], []\n",
        "  for i in range(len(dataset)-time_step):\n",
        "    a = dataset[i:(i+time_step), 0]  # 1,2,3 ... 100 where y will get 101 value\n",
        "    dataX.append(a)\n",
        "    dataY.append(dataset[i+time_step, 0])\n",
        "  return numpy.array(dataX), numpy.array(dataY)"
      ],
      "metadata": {
        "id": "RQ2oELZkZL64"
      },
      "execution_count": null,
      "outputs": []
    },
    {
      "cell_type": "code",
      "source": [
        "time_step = 100\n",
        "X_train, y_train = create_dataset(train_data, time_step)\n",
        "X_test, y_test = create_dataset(test_data, time_step)"
      ],
      "metadata": {
        "id": "Anup2kO3ZM7R"
      },
      "execution_count": null,
      "outputs": []
    },
    {
      "cell_type": "code",
      "source": [
        "print(X_train.shape[1])"
      ],
      "metadata": {
        "colab": {
          "base_uri": "https://localhost:8080/"
        },
        "id": "jRiAK5bZZRvp",
        "outputId": "5fc559f3-1768-48d1-b2b5-35425015e042"
      },
      "execution_count": null,
      "outputs": [
        {
          "output_type": "stream",
          "name": "stdout",
          "text": [
            "100\n"
          ]
        }
      ]
    },
    {
      "cell_type": "code",
      "source": [
        "len(test_data)"
      ],
      "metadata": {
        "colab": {
          "base_uri": "https://localhost:8080/"
        },
        "id": "DUFPvAI2ZV0_",
        "outputId": "19f3e765-8a79-4287-ac91-716860b1f803"
      },
      "execution_count": null,
      "outputs": [
        {
          "output_type": "execute_result",
          "data": {
            "text/plain": [
              "441"
            ]
          },
          "metadata": {},
          "execution_count": 18
        }
      ]
    },
    {
      "cell_type": "code",
      "source": [
        "print(X_test.shape, \"\", y_test.shape)"
      ],
      "metadata": {
        "colab": {
          "base_uri": "https://localhost:8080/"
        },
        "id": "E7xFPwpzZaVd",
        "outputId": "443e0941-a1db-43e6-a5a1-567af04b5158"
      },
      "execution_count": null,
      "outputs": [
        {
          "output_type": "stream",
          "name": "stdout",
          "text": [
            "(341, 100)  (341,)\n"
          ]
        }
      ]
    },
    {
      "cell_type": "code",
      "source": [
        "from tensorflow.keras.layers import Bidirectional\n",
        "from tensorflow.keras.models import Sequential\n",
        "from tensorflow.keras.layers import Dense\n",
        "from tensorflow.keras.layers import LSTM\n",
        "import tensorflow as tf\n"
      ],
      "metadata": {
        "id": "ZjvC_ImNZpMc"
      },
      "execution_count": null,
      "outputs": []
    },
    {
      "cell_type": "code",
      "source": [
        "def build_LSTM_model():\n",
        "    input = tf.keras.layers.Input(\n",
        "        shape=(X_train.shape[1], 1), name =\"input\"\n",
        "    )\n",
        "    x = tf.keras.layers.Bidirectional(LSTM(128, return_sequences=True))(input)\n",
        "       \n",
        "    x = tf.keras.layers.Bidirectional(LSTM(64, return_sequences=False, dropout=0.5))(x)\n",
        "    \n",
        "    x = tf.keras.layers.Dense(25 , activation=\"softmax\")(x)\n",
        "    \n",
        "    output = tf.keras.layers.Dense(1)(x)\n",
        "               \n",
        "    model = tf.keras.Model(inputs=input, outputs=output, name=\"BI_LSTM\")\n",
        "    \n",
        "    return model\n",
        "\n",
        "model = build_LSTM_model()\n",
        "model.summary()"
      ],
      "metadata": {
        "colab": {
          "base_uri": "https://localhost:8080/"
        },
        "id": "-iGUiv3Ga55q",
        "outputId": "dee3cf72-47b2-4b47-d978-494b947e6960"
      },
      "execution_count": null,
      "outputs": [
        {
          "output_type": "stream",
          "name": "stdout",
          "text": [
            "Model: \"BI_LSTM\"\n",
            "_________________________________________________________________\n",
            " Layer (type)                Output Shape              Param #   \n",
            "=================================================================\n",
            " input (InputLayer)          [(None, 100, 1)]          0         \n",
            "                                                                 \n",
            " bidirectional (Bidirectiona  (None, 100, 256)         133120    \n",
            " l)                                                              \n",
            "                                                                 \n",
            " bidirectional_1 (Bidirectio  (None, 128)              164352    \n",
            " nal)                                                            \n",
            "                                                                 \n",
            " dense (Dense)               (None, 25)                3225      \n",
            "                                                                 \n",
            " dense_1 (Dense)             (None, 1)                 26        \n",
            "                                                                 \n",
            "=================================================================\n",
            "Total params: 300,723\n",
            "Trainable params: 300,723\n",
            "Non-trainable params: 0\n",
            "_________________________________________________________________\n"
          ]
        }
      ]
    },
    {
      "cell_type": "code",
      "source": [
        "model.compile(loss='mean_squared_error', optimizer='adam', metrics=['accuracy'])"
      ],
      "metadata": {
        "id": "WnZ_WfGcdv38"
      },
      "execution_count": null,
      "outputs": []
    },
    {
      "cell_type": "markdown",
      "source": [],
      "metadata": {
        "id": "_bTX6zwl8Zxq"
      }
    },
    {
      "cell_type": "code",
      "source": [
        "model.fit(X_train,y_train,validation_data=(X_test,y_test), epochs=100, batch_size=64, verbose=1)"
      ],
      "metadata": {
        "colab": {
          "base_uri": "https://localhost:8080/"
        },
        "id": "YNkcAYRcdxBG",
        "outputId": "ea497953-c477-44cc-8af1-b0abde7ac7d4"
      },
      "execution_count": null,
      "outputs": [
        {
          "output_type": "stream",
          "name": "stdout",
          "text": [
            "Epoch 1/100\n",
            "12/12 [==============================] - 17s 165ms/step - loss: 0.0659 - accuracy: 0.0014 - val_loss: 0.0467 - val_accuracy: 0.0000e+00\n",
            "Epoch 2/100\n",
            "12/12 [==============================] - 0s 32ms/step - loss: 0.0365 - accuracy: 0.0014 - val_loss: 0.0112 - val_accuracy: 0.0000e+00\n",
            "Epoch 3/100\n",
            "12/12 [==============================] - 0s 33ms/step - loss: 0.0224 - accuracy: 0.0014 - val_loss: 0.0012 - val_accuracy: 0.0000e+00\n",
            "Epoch 4/100\n",
            "12/12 [==============================] - 0s 32ms/step - loss: 0.0126 - accuracy: 0.0014 - val_loss: 8.3571e-04 - val_accuracy: 0.0000e+00\n",
            "Epoch 5/100\n",
            "12/12 [==============================] - 0s 33ms/step - loss: 0.0095 - accuracy: 0.0014 - val_loss: 3.1030e-04 - val_accuracy: 0.0000e+00\n",
            "Epoch 6/100\n",
            "12/12 [==============================] - 0s 33ms/step - loss: 0.0082 - accuracy: 0.0028 - val_loss: 5.4498e-04 - val_accuracy: 0.0000e+00\n",
            "Epoch 7/100\n",
            "12/12 [==============================] - 0s 32ms/step - loss: 0.0074 - accuracy: 0.0028 - val_loss: 1.8351e-04 - val_accuracy: 0.0000e+00\n",
            "Epoch 8/100\n",
            "12/12 [==============================] - 0s 32ms/step - loss: 0.0070 - accuracy: 0.0028 - val_loss: 2.7397e-04 - val_accuracy: 0.0000e+00\n",
            "Epoch 9/100\n",
            "12/12 [==============================] - 0s 34ms/step - loss: 0.0076 - accuracy: 0.0028 - val_loss: 8.2314e-04 - val_accuracy: 0.0000e+00\n",
            "Epoch 10/100\n",
            "12/12 [==============================] - 0s 33ms/step - loss: 0.0060 - accuracy: 0.0028 - val_loss: 7.5519e-04 - val_accuracy: 0.0000e+00\n",
            "Epoch 11/100\n",
            "12/12 [==============================] - 0s 32ms/step - loss: 0.0054 - accuracy: 0.0028 - val_loss: 6.2261e-04 - val_accuracy: 0.0000e+00\n",
            "Epoch 12/100\n",
            "12/12 [==============================] - 0s 33ms/step - loss: 0.0058 - accuracy: 0.0028 - val_loss: 9.4929e-04 - val_accuracy: 0.0000e+00\n",
            "Epoch 13/100\n",
            "12/12 [==============================] - 0s 34ms/step - loss: 0.0059 - accuracy: 0.0028 - val_loss: 5.5536e-04 - val_accuracy: 0.0000e+00\n",
            "Epoch 14/100\n",
            "12/12 [==============================] - 0s 34ms/step - loss: 0.0053 - accuracy: 0.0028 - val_loss: 5.0702e-04 - val_accuracy: 0.0000e+00\n",
            "Epoch 15/100\n",
            "12/12 [==============================] - 0s 34ms/step - loss: 0.0050 - accuracy: 0.0028 - val_loss: 6.7444e-04 - val_accuracy: 0.0000e+00\n",
            "Epoch 16/100\n",
            "12/12 [==============================] - 0s 35ms/step - loss: 0.0045 - accuracy: 0.0028 - val_loss: 5.5578e-04 - val_accuracy: 0.0000e+00\n",
            "Epoch 17/100\n",
            "12/12 [==============================] - 0s 33ms/step - loss: 0.0045 - accuracy: 0.0028 - val_loss: 8.7932e-04 - val_accuracy: 0.0000e+00\n",
            "Epoch 18/100\n",
            "12/12 [==============================] - 0s 33ms/step - loss: 0.0043 - accuracy: 0.0028 - val_loss: 7.0401e-04 - val_accuracy: 0.0000e+00\n",
            "Epoch 19/100\n",
            "12/12 [==============================] - 0s 32ms/step - loss: 0.0038 - accuracy: 0.0028 - val_loss: 6.5972e-04 - val_accuracy: 0.0000e+00\n",
            "Epoch 20/100\n",
            "12/12 [==============================] - 0s 33ms/step - loss: 0.0039 - accuracy: 0.0028 - val_loss: 5.9549e-04 - val_accuracy: 0.0000e+00\n",
            "Epoch 21/100\n",
            "12/12 [==============================] - 0s 34ms/step - loss: 0.0035 - accuracy: 0.0028 - val_loss: 7.7325e-04 - val_accuracy: 0.0000e+00\n",
            "Epoch 22/100\n",
            "12/12 [==============================] - 0s 31ms/step - loss: 0.0033 - accuracy: 0.0028 - val_loss: 7.4295e-04 - val_accuracy: 0.0000e+00\n",
            "Epoch 23/100\n",
            "12/12 [==============================] - 0s 33ms/step - loss: 0.0032 - accuracy: 0.0028 - val_loss: 6.0422e-04 - val_accuracy: 0.0000e+00\n",
            "Epoch 24/100\n",
            "12/12 [==============================] - 0s 32ms/step - loss: 0.0032 - accuracy: 0.0028 - val_loss: 5.7014e-04 - val_accuracy: 0.0000e+00\n",
            "Epoch 25/100\n",
            "12/12 [==============================] - 0s 34ms/step - loss: 0.0031 - accuracy: 0.0028 - val_loss: 3.6767e-04 - val_accuracy: 0.0000e+00\n",
            "Epoch 26/100\n",
            "12/12 [==============================] - 0s 34ms/step - loss: 0.0032 - accuracy: 0.0028 - val_loss: 8.7266e-04 - val_accuracy: 0.0000e+00\n",
            "Epoch 27/100\n",
            "12/12 [==============================] - 0s 33ms/step - loss: 0.0030 - accuracy: 0.0028 - val_loss: 6.5173e-04 - val_accuracy: 0.0000e+00\n",
            "Epoch 28/100\n",
            "12/12 [==============================] - 0s 33ms/step - loss: 0.0029 - accuracy: 0.0028 - val_loss: 6.7914e-04 - val_accuracy: 0.0000e+00\n",
            "Epoch 29/100\n",
            "12/12 [==============================] - 0s 33ms/step - loss: 0.0030 - accuracy: 0.0028 - val_loss: 7.3707e-04 - val_accuracy: 0.0000e+00\n",
            "Epoch 30/100\n",
            "12/12 [==============================] - 0s 34ms/step - loss: 0.0028 - accuracy: 0.0028 - val_loss: 4.6970e-04 - val_accuracy: 0.0000e+00\n",
            "Epoch 31/100\n",
            "12/12 [==============================] - 0s 35ms/step - loss: 0.0027 - accuracy: 0.0028 - val_loss: 7.8311e-04 - val_accuracy: 0.0000e+00\n",
            "Epoch 32/100\n",
            "12/12 [==============================] - 0s 32ms/step - loss: 0.0026 - accuracy: 0.0028 - val_loss: 6.1068e-04 - val_accuracy: 0.0000e+00\n",
            "Epoch 33/100\n",
            "12/12 [==============================] - 0s 36ms/step - loss: 0.0026 - accuracy: 0.0028 - val_loss: 8.0575e-04 - val_accuracy: 0.0000e+00\n",
            "Epoch 34/100\n",
            "12/12 [==============================] - 0s 33ms/step - loss: 0.0028 - accuracy: 0.0028 - val_loss: 5.1295e-04 - val_accuracy: 0.0000e+00\n",
            "Epoch 35/100\n",
            "12/12 [==============================] - 0s 34ms/step - loss: 0.0028 - accuracy: 0.0028 - val_loss: 2.9266e-04 - val_accuracy: 0.0000e+00\n",
            "Epoch 36/100\n",
            "12/12 [==============================] - 0s 36ms/step - loss: 0.0027 - accuracy: 0.0028 - val_loss: 5.4768e-04 - val_accuracy: 0.0000e+00\n",
            "Epoch 37/100\n",
            "12/12 [==============================] - 0s 33ms/step - loss: 0.0023 - accuracy: 0.0028 - val_loss: 6.3230e-04 - val_accuracy: 0.0000e+00\n",
            "Epoch 38/100\n",
            "12/12 [==============================] - 0s 34ms/step - loss: 0.0024 - accuracy: 0.0028 - val_loss: 7.4202e-04 - val_accuracy: 0.0000e+00\n",
            "Epoch 39/100\n",
            "12/12 [==============================] - 0s 34ms/step - loss: 0.0028 - accuracy: 0.0028 - val_loss: 6.5525e-04 - val_accuracy: 0.0000e+00\n",
            "Epoch 40/100\n",
            "12/12 [==============================] - 0s 33ms/step - loss: 0.0025 - accuracy: 0.0028 - val_loss: 4.9903e-04 - val_accuracy: 0.0000e+00\n",
            "Epoch 41/100\n",
            "12/12 [==============================] - 0s 34ms/step - loss: 0.0021 - accuracy: 0.0028 - val_loss: 6.1187e-04 - val_accuracy: 0.0000e+00\n",
            "Epoch 42/100\n",
            "12/12 [==============================] - 0s 33ms/step - loss: 0.0019 - accuracy: 0.0028 - val_loss: 4.8900e-04 - val_accuracy: 0.0000e+00\n",
            "Epoch 43/100\n",
            "12/12 [==============================] - 0s 36ms/step - loss: 0.0021 - accuracy: 0.0028 - val_loss: 6.2931e-04 - val_accuracy: 0.0000e+00\n",
            "Epoch 44/100\n",
            "12/12 [==============================] - 0s 33ms/step - loss: 0.0020 - accuracy: 0.0028 - val_loss: 7.2741e-04 - val_accuracy: 0.0000e+00\n",
            "Epoch 45/100\n",
            "12/12 [==============================] - 0s 34ms/step - loss: 0.0020 - accuracy: 0.0028 - val_loss: 3.9352e-04 - val_accuracy: 0.0000e+00\n",
            "Epoch 46/100\n",
            "12/12 [==============================] - 0s 35ms/step - loss: 0.0026 - accuracy: 0.0028 - val_loss: 4.2501e-04 - val_accuracy: 0.0000e+00\n",
            "Epoch 47/100\n",
            "12/12 [==============================] - 0s 33ms/step - loss: 0.0026 - accuracy: 0.0028 - val_loss: 3.4108e-04 - val_accuracy: 0.0000e+00\n",
            "Epoch 48/100\n",
            "12/12 [==============================] - 0s 33ms/step - loss: 0.0023 - accuracy: 0.0028 - val_loss: 6.1337e-04 - val_accuracy: 0.0000e+00\n",
            "Epoch 49/100\n",
            "12/12 [==============================] - 0s 33ms/step - loss: 0.0023 - accuracy: 0.0028 - val_loss: 2.2460e-04 - val_accuracy: 0.0000e+00\n",
            "Epoch 50/100\n",
            "12/12 [==============================] - 0s 33ms/step - loss: 0.0020 - accuracy: 0.0028 - val_loss: 9.2605e-04 - val_accuracy: 0.0000e+00\n",
            "Epoch 51/100\n",
            "12/12 [==============================] - 0s 35ms/step - loss: 0.0020 - accuracy: 0.0028 - val_loss: 1.2802e-04 - val_accuracy: 0.0000e+00\n",
            "Epoch 52/100\n",
            "12/12 [==============================] - 0s 33ms/step - loss: 0.0020 - accuracy: 0.0028 - val_loss: 1.2834e-04 - val_accuracy: 0.0000e+00\n",
            "Epoch 53/100\n",
            "12/12 [==============================] - 0s 34ms/step - loss: 0.0019 - accuracy: 0.0028 - val_loss: 2.4112e-04 - val_accuracy: 0.0000e+00\n",
            "Epoch 54/100\n",
            "12/12 [==============================] - 0s 34ms/step - loss: 0.0018 - accuracy: 0.0028 - val_loss: 3.0490e-04 - val_accuracy: 0.0000e+00\n",
            "Epoch 55/100\n",
            "12/12 [==============================] - 0s 32ms/step - loss: 0.0018 - accuracy: 0.0028 - val_loss: 2.4265e-04 - val_accuracy: 0.0000e+00\n",
            "Epoch 56/100\n",
            "12/12 [==============================] - 0s 33ms/step - loss: 0.0017 - accuracy: 0.0028 - val_loss: 2.5206e-04 - val_accuracy: 0.0000e+00\n",
            "Epoch 57/100\n",
            "12/12 [==============================] - 0s 32ms/step - loss: 0.0016 - accuracy: 0.0028 - val_loss: 2.2531e-04 - val_accuracy: 0.0000e+00\n",
            "Epoch 58/100\n",
            "12/12 [==============================] - 0s 32ms/step - loss: 0.0016 - accuracy: 0.0028 - val_loss: 1.9301e-04 - val_accuracy: 0.0000e+00\n",
            "Epoch 59/100\n",
            "12/12 [==============================] - 0s 35ms/step - loss: 0.0015 - accuracy: 0.0028 - val_loss: 1.9246e-04 - val_accuracy: 0.0000e+00\n",
            "Epoch 60/100\n",
            "12/12 [==============================] - 0s 33ms/step - loss: 0.0015 - accuracy: 0.0028 - val_loss: 1.5574e-04 - val_accuracy: 0.0000e+00\n",
            "Epoch 61/100\n",
            "12/12 [==============================] - 0s 33ms/step - loss: 0.0015 - accuracy: 0.0028 - val_loss: 1.4803e-04 - val_accuracy: 0.0000e+00\n",
            "Epoch 62/100\n",
            "12/12 [==============================] - 0s 34ms/step - loss: 0.0016 - accuracy: 0.0028 - val_loss: 1.9449e-04 - val_accuracy: 0.0000e+00\n",
            "Epoch 63/100\n",
            "12/12 [==============================] - 0s 33ms/step - loss: 0.0018 - accuracy: 0.0028 - val_loss: 1.7505e-04 - val_accuracy: 0.0000e+00\n",
            "Epoch 64/100\n",
            "12/12 [==============================] - 0s 33ms/step - loss: 0.0015 - accuracy: 0.0028 - val_loss: 4.1305e-04 - val_accuracy: 0.0000e+00\n",
            "Epoch 65/100\n",
            "12/12 [==============================] - 0s 32ms/step - loss: 0.0015 - accuracy: 0.0028 - val_loss: 1.4517e-04 - val_accuracy: 0.0000e+00\n",
            "Epoch 66/100\n",
            "12/12 [==============================] - 0s 33ms/step - loss: 0.0016 - accuracy: 0.0028 - val_loss: 1.8333e-04 - val_accuracy: 0.0000e+00\n",
            "Epoch 67/100\n",
            "12/12 [==============================] - 0s 32ms/step - loss: 0.0026 - accuracy: 0.0028 - val_loss: 6.7868e-04 - val_accuracy: 0.0000e+00\n",
            "Epoch 68/100\n",
            "12/12 [==============================] - 0s 36ms/step - loss: 0.0026 - accuracy: 0.0028 - val_loss: 2.9993e-04 - val_accuracy: 0.0000e+00\n",
            "Epoch 69/100\n",
            "12/12 [==============================] - 0s 37ms/step - loss: 0.0022 - accuracy: 0.0028 - val_loss: 2.5209e-04 - val_accuracy: 0.0000e+00\n",
            "Epoch 70/100\n",
            "12/12 [==============================] - 0s 36ms/step - loss: 0.0022 - accuracy: 0.0028 - val_loss: 1.7216e-04 - val_accuracy: 0.0000e+00\n",
            "Epoch 71/100\n",
            "12/12 [==============================] - 0s 34ms/step - loss: 0.0019 - accuracy: 0.0028 - val_loss: 2.3009e-04 - val_accuracy: 0.0000e+00\n",
            "Epoch 72/100\n",
            "12/12 [==============================] - 0s 33ms/step - loss: 0.0020 - accuracy: 0.0028 - val_loss: 4.0317e-04 - val_accuracy: 0.0000e+00\n",
            "Epoch 73/100\n",
            "12/12 [==============================] - 0s 33ms/step - loss: 0.0021 - accuracy: 0.0028 - val_loss: 4.3824e-04 - val_accuracy: 0.0000e+00\n",
            "Epoch 74/100\n",
            "12/12 [==============================] - 0s 34ms/step - loss: 0.0020 - accuracy: 0.0028 - val_loss: 2.9865e-04 - val_accuracy: 0.0000e+00\n",
            "Epoch 75/100\n",
            "12/12 [==============================] - 0s 34ms/step - loss: 0.0017 - accuracy: 0.0028 - val_loss: 1.5548e-04 - val_accuracy: 0.0000e+00\n",
            "Epoch 76/100\n",
            "12/12 [==============================] - 0s 33ms/step - loss: 0.0016 - accuracy: 0.0028 - val_loss: 1.0952e-04 - val_accuracy: 0.0000e+00\n",
            "Epoch 77/100\n",
            "12/12 [==============================] - 0s 33ms/step - loss: 0.0017 - accuracy: 0.0028 - val_loss: 3.2669e-04 - val_accuracy: 0.0000e+00\n",
            "Epoch 78/100\n",
            "12/12 [==============================] - 0s 34ms/step - loss: 0.0016 - accuracy: 0.0028 - val_loss: 1.1464e-04 - val_accuracy: 0.0000e+00\n",
            "Epoch 79/100\n",
            "12/12 [==============================] - 0s 34ms/step - loss: 0.0016 - accuracy: 0.0028 - val_loss: 1.1423e-04 - val_accuracy: 0.0000e+00\n",
            "Epoch 80/100\n",
            "12/12 [==============================] - 0s 33ms/step - loss: 0.0016 - accuracy: 0.0028 - val_loss: 1.7368e-04 - val_accuracy: 0.0000e+00\n",
            "Epoch 81/100\n",
            "12/12 [==============================] - 0s 32ms/step - loss: 0.0016 - accuracy: 0.0028 - val_loss: 9.9182e-05 - val_accuracy: 0.0000e+00\n",
            "Epoch 82/100\n",
            "12/12 [==============================] - 0s 34ms/step - loss: 0.0016 - accuracy: 0.0028 - val_loss: 1.7217e-04 - val_accuracy: 0.0000e+00\n",
            "Epoch 83/100\n",
            "12/12 [==============================] - 0s 33ms/step - loss: 0.0015 - accuracy: 0.0028 - val_loss: 2.1024e-04 - val_accuracy: 0.0000e+00\n",
            "Epoch 84/100\n",
            "12/12 [==============================] - 0s 34ms/step - loss: 0.0015 - accuracy: 0.0028 - val_loss: 1.6729e-04 - val_accuracy: 0.0000e+00\n",
            "Epoch 85/100\n",
            "12/12 [==============================] - 0s 33ms/step - loss: 0.0015 - accuracy: 0.0028 - val_loss: 1.0988e-04 - val_accuracy: 0.0000e+00\n",
            "Epoch 86/100\n",
            "12/12 [==============================] - 0s 33ms/step - loss: 0.0015 - accuracy: 0.0028 - val_loss: 2.9361e-04 - val_accuracy: 0.0000e+00\n",
            "Epoch 87/100\n",
            "12/12 [==============================] - 0s 35ms/step - loss: 0.0015 - accuracy: 0.0028 - val_loss: 1.0583e-04 - val_accuracy: 0.0000e+00\n",
            "Epoch 88/100\n",
            "12/12 [==============================] - 0s 35ms/step - loss: 0.0015 - accuracy: 0.0028 - val_loss: 1.6182e-04 - val_accuracy: 0.0000e+00\n",
            "Epoch 89/100\n",
            "12/12 [==============================] - 0s 34ms/step - loss: 0.0015 - accuracy: 0.0028 - val_loss: 1.0593e-04 - val_accuracy: 0.0000e+00\n",
            "Epoch 90/100\n",
            "12/12 [==============================] - 0s 34ms/step - loss: 0.0015 - accuracy: 0.0028 - val_loss: 3.3873e-04 - val_accuracy: 0.0000e+00\n",
            "Epoch 91/100\n",
            "12/12 [==============================] - 0s 33ms/step - loss: 0.0015 - accuracy: 0.0028 - val_loss: 1.2630e-04 - val_accuracy: 0.0000e+00\n",
            "Epoch 92/100\n",
            "12/12 [==============================] - 0s 33ms/step - loss: 0.0014 - accuracy: 0.0028 - val_loss: 1.7863e-04 - val_accuracy: 0.0000e+00\n",
            "Epoch 93/100\n",
            "12/12 [==============================] - 0s 34ms/step - loss: 0.0014 - accuracy: 0.0028 - val_loss: 1.1017e-04 - val_accuracy: 0.0000e+00\n",
            "Epoch 94/100\n",
            "12/12 [==============================] - 0s 34ms/step - loss: 0.0014 - accuracy: 0.0028 - val_loss: 1.6430e-04 - val_accuracy: 0.0000e+00\n",
            "Epoch 95/100\n",
            "12/12 [==============================] - 0s 34ms/step - loss: 0.0014 - accuracy: 0.0028 - val_loss: 1.1053e-04 - val_accuracy: 0.0000e+00\n",
            "Epoch 96/100\n",
            "12/12 [==============================] - 0s 34ms/step - loss: 0.0014 - accuracy: 0.0028 - val_loss: 1.3657e-04 - val_accuracy: 0.0000e+00\n",
            "Epoch 97/100\n",
            "12/12 [==============================] - 0s 34ms/step - loss: 0.0014 - accuracy: 0.0028 - val_loss: 1.2169e-04 - val_accuracy: 0.0000e+00\n",
            "Epoch 98/100\n",
            "12/12 [==============================] - 0s 35ms/step - loss: 0.0014 - accuracy: 0.0028 - val_loss: 1.2033e-04 - val_accuracy: 0.0000e+00\n",
            "Epoch 99/100\n",
            "12/12 [==============================] - 0s 34ms/step - loss: 0.0014 - accuracy: 0.0028 - val_loss: 1.1885e-04 - val_accuracy: 0.0000e+00\n",
            "Epoch 100/100\n",
            "12/12 [==============================] - 0s 34ms/step - loss: 0.0014 - accuracy: 0.0028 - val_loss: 1.1331e-04 - val_accuracy: 0.0000e+00\n"
          ]
        },
        {
          "output_type": "execute_result",
          "data": {
            "text/plain": [
              "<keras.callbacks.History at 0x7f73725aafd0>"
            ]
          },
          "metadata": {},
          "execution_count": 23
        }
      ]
    },
    {
      "cell_type": "code",
      "source": [
        "train_predict = model.predict(X_train)\n",
        "test_predict = model.predict(X_test)"
      ],
      "metadata": {
        "colab": {
          "base_uri": "https://localhost:8080/"
        },
        "id": "sMZyn5LKjwxO",
        "outputId": "8c31c03b-2a7a-4a1a-a637-6c46be7f41be"
      },
      "execution_count": null,
      "outputs": [
        {
          "output_type": "stream",
          "name": "stdout",
          "text": [
            "23/23 [==============================] - 2s 11ms/step\n",
            "11/11 [==============================] - 0s 11ms/step\n"
          ]
        }
      ]
    },
    {
      "cell_type": "code",
      "source": [
        "train_predict=scaler.inverse_transform(train_predict)\n",
        "test_predict=scaler.inverse_transform(test_predict)"
      ],
      "metadata": {
        "id": "w3005kS8j6pw"
      },
      "execution_count": null,
      "outputs": []
    },
    {
      "cell_type": "code",
      "source": [
        "import math\n",
        "from sklearn.metrics import mean_squared_error\n",
        "math.sqrt(mean_squared_error(y_train, train_predict))"
      ],
      "metadata": {
        "colab": {
          "base_uri": "https://localhost:8080/"
        },
        "id": "ucQd0Mbnj7nO",
        "outputId": "445e7fc3-4648-4b64-db19-319cf8ebc1c3"
      },
      "execution_count": null,
      "outputs": [
        {
          "output_type": "execute_result",
          "data": {
            "text/plain": [
              "232.65724336065736"
            ]
          },
          "metadata": {},
          "execution_count": 26
        }
      ]
    },
    {
      "cell_type": "code",
      "source": [
        "math.sqrt(mean_squared_error(y_test, test_predict))"
      ],
      "metadata": {
        "colab": {
          "base_uri": "https://localhost:8080/"
        },
        "id": "6bBXZR1Rj_9o",
        "outputId": "cfd85951-874a-4704-caf9-8681ad194d12"
      },
      "execution_count": null,
      "outputs": [
        {
          "output_type": "execute_result",
          "data": {
            "text/plain": [
              "154.71793132887055"
            ]
          },
          "metadata": {},
          "execution_count": 27
        }
      ]
    },
    {
      "cell_type": "code",
      "source": [
        "#Plotting\n",
        "#shift train predictions for plotting\n",
        "look_back = 100\n",
        "trainPredictPlot = numpy.empty_like(df1)\n",
        "trainPredictPlot[:, :] = np.nan\n",
        "trainPredictPlot[look_back:len(train_predict)+look_back, :] = train_predict\n",
        "#shift test predict for plotting\n",
        "testPredictPlot = numpy.empty_like(df1)\n",
        "testPredictPlot[:, :] = numpy.nan\n",
        "testPredictPlot[len(train_predict)+(look_back*2):len(df1), :] = test_predict\n",
        "#plot baseline and predictions\n",
        "plt.plot(scaler.inverse_transform(df1))\n",
        "plt.plot(trainPredictPlot)\n",
        "plt.plot(testPredictPlot)\n",
        "plt.show()"
      ],
      "metadata": {
        "colab": {
          "base_uri": "https://localhost:8080/",
          "height": 265
        },
        "id": "ZtLng3x6kH68",
        "outputId": "ed85762c-a7f6-47b8-c069-e49dac93af7c"
      },
      "execution_count": null,
      "outputs": [
        {
          "output_type": "display_data",
          "data": {
            "text/plain": [
              "<Figure size 432x288 with 1 Axes>"
            ],
            "image/png": "[encoded data removed]"
          },
          "metadata": {
            "needs_background": "light"
          }
        }
      ]
    },
    {
      "cell_type": "code",
      "source": [
        "len(test_data)"
      ],
      "metadata": {
        "colab": {
          "base_uri": "https://localhost:8080/"
        },
        "id": "5O7lo8qiC5Lf",
        "outputId": "ce00203b-6a0a-4267-ee90-8d6d3a500084"
      },
      "execution_count": null,
      "outputs": [
        {
          "output_type": "execute_result",
          "data": {
            "text/plain": [
              "441"
            ]
          },
          "metadata": {},
          "execution_count": 29
        }
      ]
    },
    {
      "cell_type": "code",
      "source": [
        "x_input=test_data[340:].reshape(1,-1)\n",
        "x_input.shape"
      ],
      "metadata": {
        "colab": {
          "base_uri": "https://localhost:8080/"
        },
        "id": "5nfpRqejC7xZ",
        "outputId": "1f49950f-b98f-474f-c2d8-93b1047bc529"
      },
      "execution_count": null,
      "outputs": [
        {
          "output_type": "execute_result",
          "data": {
            "text/plain": [
              "(1, 101)"
            ]
          },
          "metadata": {},
          "execution_count": 30
        }
      ]
    },
    {
      "cell_type": "code",
      "source": [
        "temp_input = list(x_input)\n",
        "temp_input = temp_input[0].tolist()"
      ],
      "metadata": {
        "id": "L4EEkU9eDJCt"
      },
      "execution_count": null,
      "outputs": []
    },
    {
      "cell_type": "code",
      "source": [
        "from numpy import array\n",
        "\n",
        "lst_output=[]\n",
        "n_steps = 100\n",
        "i=0\n",
        "while(i<30):\n",
        "  if(len(temp_input)>100):\n",
        "    #print(temp_input)\n",
        "    x_input=np.array(temp_input[1:])\n",
        "    print(\"{} day input {}\".format(i,x_input))\n",
        "    x_input=x_input.reshape(1,-1)\n",
        "    x_input=x_input.reshape((1,n_steps,1))\n",
        "    #print(x_input)\n",
        "    yhat = model.predict(x_input, verbose=0)\n",
        "    print(\"{} day output {}\".format(i,yhat))\n",
        "    temp_input.extend(yhat[0].tolist())\n",
        "    temp_input=temp_input[1:]\n",
        "    #print(temp_input)\n",
        "    lst_output.extend(yhat.tolist())\n",
        "    i=i+1\n",
        "  else:\n",
        "    x_input=x_input.reshape((1, n_steps,1))\n",
        "    yhat = model.predict(x_input,verbose=0)\n",
        "    print(yhat[0])\n",
        "    temp_input.extend(yhat[0].tolist())\n",
        "    print(len(temp_input))\n",
        "    lst_output.extend(yhat.tolist())\n",
        "    i=i+1\n",
        "\n",
        "print(lst_output)"
      ],
      "metadata": {
        "colab": {
          "base_uri": "https://localhost:8080/"
        },
        "id": "pKguNyM3DPHm",
        "outputId": "afdbb3d0-c289-409d-aada-930b9903246c"
      },
      "execution_count": null,
      "outputs": [
        {
          "output_type": "stream",
          "name": "stdout",
          "text": [
            "0 day input [0.14547276 0.15629305 0.15441453 0.16345648 0.1661866  0.16578585\n",
            " 0.16959299 0.16859111 0.16200376 0.15211021 0.15125861 0.15201002\n",
            " 0.15827176 0.14221666 0.13660614 0.13041954 0.1261866  0.12804008\n",
            " 0.12265498 0.11944897 0.12303068 0.11927364 0.1265623  0.14174076\n",
            " 0.11772073 0.12140263 0.11403882 0.10985598 0.11932373 0.1253851\n",
            " 0.11742016 0.11496556 0.10917971 0.11003131 0.11251096 0.10770194\n",
            " 0.08926738 0.07854728 0.08919224 0.09833438 0.09908579 0.09665623\n",
            " 0.08328115 0.0841077  0.08050094 0.07889793 0.09054477 0.07899812\n",
            " 0.08909205 0.09244834 0.09272386 0.09154665 0.10126487 0.10672511\n",
            " 0.11396368 0.10647464 0.09507827 0.12247965 0.11646838 0.10973075\n",
            " 0.09565435 0.08025047 0.07899812 0.08035066 0.08180338 0.07020664\n",
            " 0.10026299 0.10735128 0.10379461 0.10820288 0.10507201 0.10990607\n",
            " 0.11133375 0.10311835 0.10855354 0.11078272 0.10336882 0.09362555\n",
            " 0.08598622 0.10316844 0.10386976 0.10261741 0.09966187 0.0903444\n",
            " 0.08541014 0.08969317 0.08846587 0.09430182 0.09675642 0.0910958\n",
            " 0.07428929 0.06930495 0.0639449  0.06376957 0.07165936 0.06359424\n",
            " 0.0626675  0.05808391 0.04809017 0.05703193]\n",
            "0 day output [[0.05320708]]\n",
            "1 day input [0.15629305 0.15441453 0.16345648 0.1661866  0.16578585 0.16959299\n",
            " 0.16859111 0.16200376 0.15211021 0.15125861 0.15201002 0.15827176\n",
            " 0.14221666 0.13660614 0.13041954 0.1261866  0.12804008 0.12265498\n",
            " 0.11944897 0.12303068 0.11927364 0.1265623  0.14174076 0.11772073\n",
            " 0.12140263 0.11403882 0.10985598 0.11932373 0.1253851  0.11742016\n",
            " 0.11496556 0.10917971 0.11003131 0.11251096 0.10770194 0.08926738\n",
            " 0.07854728 0.08919224 0.09833438 0.09908579 0.09665623 0.08328115\n",
            " 0.0841077  0.08050094 0.07889793 0.09054477 0.07899812 0.08909205\n",
            " 0.09244834 0.09272386 0.09154665 0.10126487 0.10672511 0.11396368\n",
            " 0.10647464 0.09507827 0.12247965 0.11646838 0.10973075 0.09565435\n",
            " 0.08025047 0.07899812 0.08035066 0.08180338 0.07020664 0.10026299\n",
            " 0.10735128 0.10379461 0.10820288 0.10507201 0.10990607 0.11133375\n",
            " 0.10311835 0.10855354 0.11078272 0.10336882 0.09362555 0.08598622\n",
            " 0.10316844 0.10386976 0.10261741 0.09966187 0.0903444  0.08541014\n",
            " 0.08969317 0.08846587 0.09430182 0.09675642 0.0910958  0.07428929\n",
            " 0.06930495 0.0639449  0.06376957 0.07165936 0.06359424 0.0626675\n",
            " 0.05808391 0.04809017 0.05703193 0.05320708]\n",
            "1 day output [[0.0515999]]\n",
            "2 day input [0.15441453 0.16345648 0.1661866  0.16578585 0.16959299 0.16859111\n",
            " 0.16200376 0.15211021 0.15125861 0.15201002 0.15827176 0.14221666\n",
            " 0.13660614 0.13041954 0.1261866  0.12804008 0.12265498 0.11944897\n",
            " 0.12303068 0.11927364 0.1265623  0.14174076 0.11772073 0.12140263\n",
            " 0.11403882 0.10985598 0.11932373 0.1253851  0.11742016 0.11496556\n",
            " 0.10917971 0.11003131 0.11251096 0.10770194 0.08926738 0.07854728\n",
            " 0.08919224 0.09833438 0.09908579 0.09665623 0.08328115 0.0841077\n",
            " 0.08050094 0.07889793 0.09054477 0.07899812 0.08909205 0.09244834\n",
            " 0.09272386 0.09154665 0.10126487 0.10672511 0.11396368 0.10647464\n",
            " 0.09507827 0.12247965 0.11646838 0.10973075 0.09565435 0.08025047\n",
            " 0.07899812 0.08035066 0.08180338 0.07020664 0.10026299 0.10735128\n",
            " 0.10379461 0.10820288 0.10507201 0.10990607 0.11133375 0.10311835\n",
            " 0.10855354 0.11078272 0.10336882 0.09362555 0.08598622 0.10316844\n",
            " 0.10386976 0.10261741 0.09966187 0.0903444  0.08541014 0.08969317\n",
            " 0.08846587 0.09430182 0.09675642 0.0910958  0.07428929 0.06930495\n",
            " 0.0639449  0.06376957 0.07165936 0.06359424 0.0626675  0.05808391\n",
            " 0.04809017 0.05703193 0.05320708 0.0515999 ]\n",
            "2 day output [[0.05016743]]\n",
            "3 day input [0.16345648 0.1661866  0.16578585 0.16959299 0.16859111 0.16200376\n",
            " 0.15211021 0.15125861 0.15201002 0.15827176 0.14221666 0.13660614\n",
            " 0.13041954 0.1261866  0.12804008 0.12265498 0.11944897 0.12303068\n",
            " 0.11927364 0.1265623  0.14174076 0.11772073 0.12140263 0.11403882\n",
            " 0.10985598 0.11932373 0.1253851  0.11742016 0.11496556 0.10917971\n",
            " 0.11003131 0.11251096 0.10770194 0.08926738 0.07854728 0.08919224\n",
            " 0.09833438 0.09908579 0.09665623 0.08328115 0.0841077  0.08050094\n",
            " 0.07889793 0.09054477 0.07899812 0.08909205 0.09244834 0.09272386\n",
            " 0.09154665 0.10126487 0.10672511 0.11396368 0.10647464 0.09507827\n",
            " 0.12247965 0.11646838 0.10973075 0.09565435 0.08025047 0.07899812\n",
            " 0.08035066 0.08180338 0.07020664 0.10026299 0.10735128 0.10379461\n",
            " 0.10820288 0.10507201 0.10990607 0.11133375 0.10311835 0.10855354\n",
            " 0.11078272 0.10336882 0.09362555 0.08598622 0.10316844 0.10386976\n",
            " 0.10261741 0.09966187 0.0903444  0.08541014 0.08969317 0.08846587\n",
            " 0.09430182 0.09675642 0.0910958  0.07428929 0.06930495 0.0639449\n",
            " 0.06376957 0.07165936 0.06359424 0.0626675  0.05808391 0.04809017\n",
            " 0.05703193 0.05320708 0.0515999  0.05016743]\n",
            "3 day output [[0.04890943]]\n",
            "4 day input [0.1661866  0.16578585 0.16959299 0.16859111 0.16200376 0.15211021\n",
            " 0.15125861 0.15201002 0.15827176 0.14221666 0.13660614 0.13041954\n",
            " 0.1261866  0.12804008 0.12265498 0.11944897 0.12303068 0.11927364\n",
            " 0.1265623  0.14174076 0.11772073 0.12140263 0.11403882 0.10985598\n",
            " 0.11932373 0.1253851  0.11742016 0.11496556 0.10917971 0.11003131\n",
            " 0.11251096 0.10770194 0.08926738 0.07854728 0.08919224 0.09833438\n",
            " 0.09908579 0.09665623 0.08328115 0.0841077  0.08050094 0.07889793\n",
            " 0.09054477 0.07899812 0.08909205 0.09244834 0.09272386 0.09154665\n",
            " 0.10126487 0.10672511 0.11396368 0.10647464 0.09507827 0.12247965\n",
            " 0.11646838 0.10973075 0.09565435 0.08025047 0.07899812 0.08035066\n",
            " 0.08180338 0.07020664 0.10026299 0.10735128 0.10379461 0.10820288\n",
            " 0.10507201 0.10990607 0.11133375 0.10311835 0.10855354 0.11078272\n",
            " 0.10336882 0.09362555 0.08598622 0.10316844 0.10386976 0.10261741\n",
            " 0.09966187 0.0903444  0.08541014 0.08969317 0.08846587 0.09430182\n",
            " 0.09675642 0.0910958  0.07428929 0.06930495 0.0639449  0.06376957\n",
            " 0.07165936 0.06359424 0.0626675  0.05808391 0.04809017 0.05703193\n",
            " 0.05320708 0.0515999  0.05016743 0.04890943]\n",
            "4 day output [[0.04778221]]\n",
            "5 day input [0.16578585 0.16959299 0.16859111 0.16200376 0.15211021 0.15125861\n",
            " 0.15201002 0.15827176 0.14221666 0.13660614 0.13041954 0.1261866\n",
            " 0.12804008 0.12265498 0.11944897 0.12303068 0.11927364 0.1265623\n",
            " 0.14174076 0.11772073 0.12140263 0.11403882 0.10985598 0.11932373\n",
            " 0.1253851  0.11742016 0.11496556 0.10917971 0.11003131 0.11251096\n",
            " 0.10770194 0.08926738 0.07854728 0.08919224 0.09833438 0.09908579\n",
            " 0.09665623 0.08328115 0.0841077  0.08050094 0.07889793 0.09054477\n",
            " 0.07899812 0.08909205 0.09244834 0.09272386 0.09154665 0.10126487\n",
            " 0.10672511 0.11396368 0.10647464 0.09507827 0.12247965 0.11646838\n",
            " 0.10973075 0.09565435 0.08025047 0.07899812 0.08035066 0.08180338\n",
            " 0.07020664 0.10026299 0.10735128 0.10379461 0.10820288 0.10507201\n",
            " 0.10990607 0.11133375 0.10311835 0.10855354 0.11078272 0.10336882\n",
            " 0.09362555 0.08598622 0.10316844 0.10386976 0.10261741 0.09966187\n",
            " 0.0903444  0.08541014 0.08969317 0.08846587 0.09430182 0.09675642\n",
            " 0.0910958  0.07428929 0.06930495 0.0639449  0.06376957 0.07165936\n",
            " 0.06359424 0.0626675  0.05808391 0.04809017 0.05703193 0.05320708\n",
            " 0.0515999  0.05016743 0.04890943 0.04778221]\n",
            "5 day output [[0.04675809]]\n",
            "6 day input [0.16959299 0.16859111 0.16200376 0.15211021 0.15125861 0.15201002\n",
            " 0.15827176 0.14221666 0.13660614 0.13041954 0.1261866  0.12804008\n",
            " 0.12265498 0.11944897 0.12303068 0.11927364 0.1265623  0.14174076\n",
            " 0.11772073 0.12140263 0.11403882 0.10985598 0.11932373 0.1253851\n",
            " 0.11742016 0.11496556 0.10917971 0.11003131 0.11251096 0.10770194\n",
            " 0.08926738 0.07854728 0.08919224 0.09833438 0.09908579 0.09665623\n",
            " 0.08328115 0.0841077  0.08050094 0.07889793 0.09054477 0.07899812\n",
            " 0.08909205 0.09244834 0.09272386 0.09154665 0.10126487 0.10672511\n",
            " 0.11396368 0.10647464 0.09507827 0.12247965 0.11646838 0.10973075\n",
            " 0.09565435 0.08025047 0.07899812 0.08035066 0.08180338 0.07020664\n",
            " 0.10026299 0.10735128 0.10379461 0.10820288 0.10507201 0.10990607\n",
            " 0.11133375 0.10311835 0.10855354 0.11078272 0.10336882 0.09362555\n",
            " 0.08598622 0.10316844 0.10386976 0.10261741 0.09966187 0.0903444\n",
            " 0.08541014 0.08969317 0.08846587 0.09430182 0.09675642 0.0910958\n",
            " 0.07428929 0.06930495 0.0639449  0.06376957 0.07165936 0.06359424\n",
            " 0.0626675  0.05808391 0.04809017 0.05703193 0.05320708 0.0515999\n",
            " 0.05016743 0.04890943 0.04778221 0.04675809]\n",
            "6 day output [[0.04582854]]\n",
            "7 day input [0.16859111 0.16200376 0.15211021 0.15125861 0.15201002 0.15827176\n",
            " 0.14221666 0.13660614 0.13041954 0.1261866  0.12804008 0.12265498\n",
            " 0.11944897 0.12303068 0.11927364 0.1265623  0.14174076 0.11772073\n",
            " 0.12140263 0.11403882 0.10985598 0.11932373 0.1253851  0.11742016\n",
            " 0.11496556 0.10917971 0.11003131 0.11251096 0.10770194 0.08926738\n",
            " 0.07854728 0.08919224 0.09833438 0.09908579 0.09665623 0.08328115\n",
            " 0.0841077  0.08050094 0.07889793 0.09054477 0.07899812 0.08909205\n",
            " 0.09244834 0.09272386 0.09154665 0.10126487 0.10672511 0.11396368\n",
            " 0.10647464 0.09507827 0.12247965 0.11646838 0.10973075 0.09565435\n",
            " 0.08025047 0.07899812 0.08035066 0.08180338 0.07020664 0.10026299\n",
            " 0.10735128 0.10379461 0.10820288 0.10507201 0.10990607 0.11133375\n",
            " 0.10311835 0.10855354 0.11078272 0.10336882 0.09362555 0.08598622\n",
            " 0.10316844 0.10386976 0.10261741 0.09966187 0.0903444  0.08541014\n",
            " 0.08969317 0.08846587 0.09430182 0.09675642 0.0910958  0.07428929\n",
            " 0.06930495 0.0639449  0.06376957 0.07165936 0.06359424 0.0626675\n",
            " 0.05808391 0.04809017 0.05703193 0.05320708 0.0515999  0.05016743\n",
            " 0.04890943 0.04778221 0.04675809 0.04582854]\n",
            "7 day output [[0.04498401]]\n",
            "8 day input [0.16200376 0.15211021 0.15125861 0.15201002 0.15827176 0.14221666\n",
            " 0.13660614 0.13041954 0.1261866  0.12804008 0.12265498 0.11944897\n",
            " 0.12303068 0.11927364 0.1265623  0.14174076 0.11772073 0.12140263\n",
            " 0.11403882 0.10985598 0.11932373 0.1253851  0.11742016 0.11496556\n",
            " 0.10917971 0.11003131 0.11251096 0.10770194 0.08926738 0.07854728\n",
            " 0.08919224 0.09833438 0.09908579 0.09665623 0.08328115 0.0841077\n",
            " 0.08050094 0.07889793 0.09054477 0.07899812 0.08909205 0.09244834\n",
            " 0.09272386 0.09154665 0.10126487 0.10672511 0.11396368 0.10647464\n",
            " 0.09507827 0.12247965 0.11646838 0.10973075 0.09565435 0.08025047\n",
            " 0.07899812 0.08035066 0.08180338 0.07020664 0.10026299 0.10735128\n",
            " 0.10379461 0.10820288 0.10507201 0.10990607 0.11133375 0.10311835\n",
            " 0.10855354 0.11078272 0.10336882 0.09362555 0.08598622 0.10316844\n",
            " 0.10386976 0.10261741 0.09966187 0.0903444  0.08541014 0.08969317\n",
            " 0.08846587 0.09430182 0.09675642 0.0910958  0.07428929 0.06930495\n",
            " 0.0639449  0.06376957 0.07165936 0.06359424 0.0626675  0.05808391\n",
            " 0.04809017 0.05703193 0.05320708 0.0515999  0.05016743 0.04890943\n",
            " 0.04778221 0.04675809 0.04582854 0.04498401]\n",
            "8 day output [[0.04422354]]\n",
            "9 day input [0.15211021 0.15125861 0.15201002 0.15827176 0.14221666 0.13660614\n",
            " 0.13041954 0.1261866  0.12804008 0.12265498 0.11944897 0.12303068\n",
            " 0.11927364 0.1265623  0.14174076 0.11772073 0.12140263 0.11403882\n",
            " 0.10985598 0.11932373 0.1253851  0.11742016 0.11496556 0.10917971\n",
            " 0.11003131 0.11251096 0.10770194 0.08926738 0.07854728 0.08919224\n",
            " 0.09833438 0.09908579 0.09665623 0.08328115 0.0841077  0.08050094\n",
            " 0.07889793 0.09054477 0.07899812 0.08909205 0.09244834 0.09272386\n",
            " 0.09154665 0.10126487 0.10672511 0.11396368 0.10647464 0.09507827\n",
            " 0.12247965 0.11646838 0.10973075 0.09565435 0.08025047 0.07899812\n",
            " 0.08035066 0.08180338 0.07020664 0.10026299 0.10735128 0.10379461\n",
            " 0.10820288 0.10507201 0.10990607 0.11133375 0.10311835 0.10855354\n",
            " 0.11078272 0.10336882 0.09362555 0.08598622 0.10316844 0.10386976\n",
            " 0.10261741 0.09966187 0.0903444  0.08541014 0.08969317 0.08846587\n",
            " 0.09430182 0.09675642 0.0910958  0.07428929 0.06930495 0.0639449\n",
            " 0.06376957 0.07165936 0.06359424 0.0626675  0.05808391 0.04809017\n",
            " 0.05703193 0.05320708 0.0515999  0.05016743 0.04890943 0.04778221\n",
            " 0.04675809 0.04582854 0.04498401 0.04422354]\n",
            "9 day output [[0.04354604]]\n",
            "10 day input [0.15125861 0.15201002 0.15827176 0.14221666 0.13660614 0.13041954\n",
            " 0.1261866  0.12804008 0.12265498 0.11944897 0.12303068 0.11927364\n",
            " 0.1265623  0.14174076 0.11772073 0.12140263 0.11403882 0.10985598\n",
            " 0.11932373 0.1253851  0.11742016 0.11496556 0.10917971 0.11003131\n",
            " 0.11251096 0.10770194 0.08926738 0.07854728 0.08919224 0.09833438\n",
            " 0.09908579 0.09665623 0.08328115 0.0841077  0.08050094 0.07889793\n",
            " 0.09054477 0.07899812 0.08909205 0.09244834 0.09272386 0.09154665\n",
            " 0.10126487 0.10672511 0.11396368 0.10647464 0.09507827 0.12247965\n",
            " 0.11646838 0.10973075 0.09565435 0.08025047 0.07899812 0.08035066\n",
            " 0.08180338 0.07020664 0.10026299 0.10735128 0.10379461 0.10820288\n",
            " 0.10507201 0.10990607 0.11133375 0.10311835 0.10855354 0.11078272\n",
            " 0.10336882 0.09362555 0.08598622 0.10316844 0.10386976 0.10261741\n",
            " 0.09966187 0.0903444  0.08541014 0.08969317 0.08846587 0.09430182\n",
            " 0.09675642 0.0910958  0.07428929 0.06930495 0.0639449  0.06376957\n",
            " 0.07165936 0.06359424 0.0626675  0.05808391 0.04809017 0.05703193\n",
            " 0.05320708 0.0515999  0.05016743 0.04890943 0.04778221 0.04675809\n",
            " 0.04582854 0.04498401 0.04422354 0.04354604]\n",
            "10 day output [[0.0429545]]\n",
            "11 day input [0.15201002 0.15827176 0.14221666 0.13660614 0.13041954 0.1261866\n",
            " 0.12804008 0.12265498 0.11944897 0.12303068 0.11927364 0.1265623\n",
            " 0.14174076 0.11772073 0.12140263 0.11403882 0.10985598 0.11932373\n",
            " 0.1253851  0.11742016 0.11496556 0.10917971 0.11003131 0.11251096\n",
            " 0.10770194 0.08926738 0.07854728 0.08919224 0.09833438 0.09908579\n",
            " 0.09665623 0.08328115 0.0841077  0.08050094 0.07889793 0.09054477\n",
            " 0.07899812 0.08909205 0.09244834 0.09272386 0.09154665 0.10126487\n",
            " 0.10672511 0.11396368 0.10647464 0.09507827 0.12247965 0.11646838\n",
            " 0.10973075 0.09565435 0.08025047 0.07899812 0.08035066 0.08180338\n",
            " 0.07020664 0.10026299 0.10735128 0.10379461 0.10820288 0.10507201\n",
            " 0.10990607 0.11133375 0.10311835 0.10855354 0.11078272 0.10336882\n",
            " 0.09362555 0.08598622 0.10316844 0.10386976 0.10261741 0.09966187\n",
            " 0.0903444  0.08541014 0.08969317 0.08846587 0.09430182 0.09675642\n",
            " 0.0910958  0.07428929 0.06930495 0.0639449  0.06376957 0.07165936\n",
            " 0.06359424 0.0626675  0.05808391 0.04809017 0.05703193 0.05320708\n",
            " 0.0515999  0.05016743 0.04890943 0.04778221 0.04675809 0.04582854\n",
            " 0.04498401 0.04422354 0.04354604 0.0429545 ]\n",
            "11 day output [[0.042428]]\n",
            "12 day input [0.15827176 0.14221666 0.13660614 0.13041954 0.1261866  0.12804008\n",
            " 0.12265498 0.11944897 0.12303068 0.11927364 0.1265623  0.14174076\n",
            " 0.11772073 0.12140263 0.11403882 0.10985598 0.11932373 0.1253851\n",
            " 0.11742016 0.11496556 0.10917971 0.11003131 0.11251096 0.10770194\n",
            " 0.08926738 0.07854728 0.08919224 0.09833438 0.09908579 0.09665623\n",
            " 0.08328115 0.0841077  0.08050094 0.07889793 0.09054477 0.07899812\n",
            " 0.08909205 0.09244834 0.09272386 0.09154665 0.10126487 0.10672511\n",
            " 0.11396368 0.10647464 0.09507827 0.12247965 0.11646838 0.10973075\n",
            " 0.09565435 0.08025047 0.07899812 0.08035066 0.08180338 0.07020664\n",
            " 0.10026299 0.10735128 0.10379461 0.10820288 0.10507201 0.10990607\n",
            " 0.11133375 0.10311835 0.10855354 0.11078272 0.10336882 0.09362555\n",
            " 0.08598622 0.10316844 0.10386976 0.10261741 0.09966187 0.0903444\n",
            " 0.08541014 0.08969317 0.08846587 0.09430182 0.09675642 0.0910958\n",
            " 0.07428929 0.06930495 0.0639449  0.06376957 0.07165936 0.06359424\n",
            " 0.0626675  0.05808391 0.04809017 0.05703193 0.05320708 0.0515999\n",
            " 0.05016743 0.04890943 0.04778221 0.04675809 0.04582854 0.04498401\n",
            " 0.04422354 0.04354604 0.0429545  0.042428  ]\n",
            "12 day output [[0.04196362]]\n",
            "13 day input [0.14221666 0.13660614 0.13041954 0.1261866  0.12804008 0.12265498\n",
            " 0.11944897 0.12303068 0.11927364 0.1265623  0.14174076 0.11772073\n",
            " 0.12140263 0.11403882 0.10985598 0.11932373 0.1253851  0.11742016\n",
            " 0.11496556 0.10917971 0.11003131 0.11251096 0.10770194 0.08926738\n",
            " 0.07854728 0.08919224 0.09833438 0.09908579 0.09665623 0.08328115\n",
            " 0.0841077  0.08050094 0.07889793 0.09054477 0.07899812 0.08909205\n",
            " 0.09244834 0.09272386 0.09154665 0.10126487 0.10672511 0.11396368\n",
            " 0.10647464 0.09507827 0.12247965 0.11646838 0.10973075 0.09565435\n",
            " 0.08025047 0.07899812 0.08035066 0.08180338 0.07020664 0.10026299\n",
            " 0.10735128 0.10379461 0.10820288 0.10507201 0.10990607 0.11133375\n",
            " 0.10311835 0.10855354 0.11078272 0.10336882 0.09362555 0.08598622\n",
            " 0.10316844 0.10386976 0.10261741 0.09966187 0.0903444  0.08541014\n",
            " 0.08969317 0.08846587 0.09430182 0.09675642 0.0910958  0.07428929\n",
            " 0.06930495 0.0639449  0.06376957 0.07165936 0.06359424 0.0626675\n",
            " 0.05808391 0.04809017 0.05703193 0.05320708 0.0515999  0.05016743\n",
            " 0.04890943 0.04778221 0.04675809 0.04582854 0.04498401 0.04422354\n",
            " 0.04354604 0.0429545  0.042428   0.04196362]\n",
            "13 day output [[0.0415297]]\n",
            "14 day input [0.13660614 0.13041954 0.1261866  0.12804008 0.12265498 0.11944897\n",
            " 0.12303068 0.11927364 0.1265623  0.14174076 0.11772073 0.12140263\n",
            " 0.11403882 0.10985598 0.11932373 0.1253851  0.11742016 0.11496556\n",
            " 0.10917971 0.11003131 0.11251096 0.10770194 0.08926738 0.07854728\n",
            " 0.08919224 0.09833438 0.09908579 0.09665623 0.08328115 0.0841077\n",
            " 0.08050094 0.07889793 0.09054477 0.07899812 0.08909205 0.09244834\n",
            " 0.09272386 0.09154665 0.10126487 0.10672511 0.11396368 0.10647464\n",
            " 0.09507827 0.12247965 0.11646838 0.10973075 0.09565435 0.08025047\n",
            " 0.07899812 0.08035066 0.08180338 0.07020664 0.10026299 0.10735128\n",
            " 0.10379461 0.10820288 0.10507201 0.10990607 0.11133375 0.10311835\n",
            " 0.10855354 0.11078272 0.10336882 0.09362555 0.08598622 0.10316844\n",
            " 0.10386976 0.10261741 0.09966187 0.0903444  0.08541014 0.08969317\n",
            " 0.08846587 0.09430182 0.09675642 0.0910958  0.07428929 0.06930495\n",
            " 0.0639449  0.06376957 0.07165936 0.06359424 0.0626675  0.05808391\n",
            " 0.04809017 0.05703193 0.05320708 0.0515999  0.05016743 0.04890943\n",
            " 0.04778221 0.04675809 0.04582854 0.04498401 0.04422354 0.04354604\n",
            " 0.0429545  0.042428   0.04196362 0.0415297 ]\n",
            "14 day output [[0.04115091]]\n",
            "15 day input [0.13041954 0.1261866  0.12804008 0.12265498 0.11944897 0.12303068\n",
            " 0.11927364 0.1265623  0.14174076 0.11772073 0.12140263 0.11403882\n",
            " 0.10985598 0.11932373 0.1253851  0.11742016 0.11496556 0.10917971\n",
            " 0.11003131 0.11251096 0.10770194 0.08926738 0.07854728 0.08919224\n",
            " 0.09833438 0.09908579 0.09665623 0.08328115 0.0841077  0.08050094\n",
            " 0.07889793 0.09054477 0.07899812 0.08909205 0.09244834 0.09272386\n",
            " 0.09154665 0.10126487 0.10672511 0.11396368 0.10647464 0.09507827\n",
            " 0.12247965 0.11646838 0.10973075 0.09565435 0.08025047 0.07899812\n",
            " 0.08035066 0.08180338 0.07020664 0.10026299 0.10735128 0.10379461\n",
            " 0.10820288 0.10507201 0.10990607 0.11133375 0.10311835 0.10855354\n",
            " 0.11078272 0.10336882 0.09362555 0.08598622 0.10316844 0.10386976\n",
            " 0.10261741 0.09966187 0.0903444  0.08541014 0.08969317 0.08846587\n",
            " 0.09430182 0.09675642 0.0910958  0.07428929 0.06930495 0.0639449\n",
            " 0.06376957 0.07165936 0.06359424 0.0626675  0.05808391 0.04809017\n",
            " 0.05703193 0.05320708 0.0515999  0.05016743 0.04890943 0.04778221\n",
            " 0.04675809 0.04582854 0.04498401 0.04422354 0.04354604 0.0429545\n",
            " 0.042428   0.04196362 0.0415297  0.04115091]\n",
            "15 day output [[0.04081673]]\n",
            "16 day input [0.1261866  0.12804008 0.12265498 0.11944897 0.12303068 0.11927364\n",
            " 0.1265623  0.14174076 0.11772073 0.12140263 0.11403882 0.10985598\n",
            " 0.11932373 0.1253851  0.11742016 0.11496556 0.10917971 0.11003131\n",
            " 0.11251096 0.10770194 0.08926738 0.07854728 0.08919224 0.09833438\n",
            " 0.09908579 0.09665623 0.08328115 0.0841077  0.08050094 0.07889793\n",
            " 0.09054477 0.07899812 0.08909205 0.09244834 0.09272386 0.09154665\n",
            " 0.10126487 0.10672511 0.11396368 0.10647464 0.09507827 0.12247965\n",
            " 0.11646838 0.10973075 0.09565435 0.08025047 0.07899812 0.08035066\n",
            " 0.08180338 0.07020664 0.10026299 0.10735128 0.10379461 0.10820288\n",
            " 0.10507201 0.10990607 0.11133375 0.10311835 0.10855354 0.11078272\n",
            " 0.10336882 0.09362555 0.08598622 0.10316844 0.10386976 0.10261741\n",
            " 0.09966187 0.0903444  0.08541014 0.08969317 0.08846587 0.09430182\n",
            " 0.09675642 0.0910958  0.07428929 0.06930495 0.0639449  0.06376957\n",
            " 0.07165936 0.06359424 0.0626675  0.05808391 0.04809017 0.05703193\n",
            " 0.05320708 0.0515999  0.05016743 0.04890943 0.04778221 0.04675809\n",
            " 0.04582854 0.04498401 0.04422354 0.04354604 0.0429545  0.042428\n",
            " 0.04196362 0.0415297  0.04115091 0.04081673]\n",
            "16 day output [[0.04052354]]\n",
            "17 day input [0.12804008 0.12265498 0.11944897 0.12303068 0.11927364 0.1265623\n",
            " 0.14174076 0.11772073 0.12140263 0.11403882 0.10985598 0.11932373\n",
            " 0.1253851  0.11742016 0.11496556 0.10917971 0.11003131 0.11251096\n",
            " 0.10770194 0.08926738 0.07854728 0.08919224 0.09833438 0.09908579\n",
            " 0.09665623 0.08328115 0.0841077  0.08050094 0.07889793 0.09054477\n",
            " 0.07899812 0.08909205 0.09244834 0.09272386 0.09154665 0.10126487\n",
            " 0.10672511 0.11396368 0.10647464 0.09507827 0.12247965 0.11646838\n",
            " 0.10973075 0.09565435 0.08025047 0.07899812 0.08035066 0.08180338\n",
            " 0.07020664 0.10026299 0.10735128 0.10379461 0.10820288 0.10507201\n",
            " 0.10990607 0.11133375 0.10311835 0.10855354 0.11078272 0.10336882\n",
            " 0.09362555 0.08598622 0.10316844 0.10386976 0.10261741 0.09966187\n",
            " 0.0903444  0.08541014 0.08969317 0.08846587 0.09430182 0.09675642\n",
            " 0.0910958  0.07428929 0.06930495 0.0639449  0.06376957 0.07165936\n",
            " 0.06359424 0.0626675  0.05808391 0.04809017 0.05703193 0.05320708\n",
            " 0.0515999  0.05016743 0.04890943 0.04778221 0.04675809 0.04582854\n",
            " 0.04498401 0.04422354 0.04354604 0.0429545  0.042428   0.04196362\n",
            " 0.0415297  0.04115091 0.04081673 0.04052354]\n",
            "17 day output [[0.04027171]]\n",
            "18 day input [0.12265498 0.11944897 0.12303068 0.11927364 0.1265623  0.14174076\n",
            " 0.11772073 0.12140263 0.11403882 0.10985598 0.11932373 0.1253851\n",
            " 0.11742016 0.11496556 0.10917971 0.11003131 0.11251096 0.10770194\n",
            " 0.08926738 0.07854728 0.08919224 0.09833438 0.09908579 0.09665623\n",
            " 0.08328115 0.0841077  0.08050094 0.07889793 0.09054477 0.07899812\n",
            " 0.08909205 0.09244834 0.09272386 0.09154665 0.10126487 0.10672511\n",
            " 0.11396368 0.10647464 0.09507827 0.12247965 0.11646838 0.10973075\n",
            " 0.09565435 0.08025047 0.07899812 0.08035066 0.08180338 0.07020664\n",
            " 0.10026299 0.10735128 0.10379461 0.10820288 0.10507201 0.10990607\n",
            " 0.11133375 0.10311835 0.10855354 0.11078272 0.10336882 0.09362555\n",
            " 0.08598622 0.10316844 0.10386976 0.10261741 0.09966187 0.0903444\n",
            " 0.08541014 0.08969317 0.08846587 0.09430182 0.09675642 0.0910958\n",
            " 0.07428929 0.06930495 0.0639449  0.06376957 0.07165936 0.06359424\n",
            " 0.0626675  0.05808391 0.04809017 0.05703193 0.05320708 0.0515999\n",
            " 0.05016743 0.04890943 0.04778221 0.04675809 0.04582854 0.04498401\n",
            " 0.04422354 0.04354604 0.0429545  0.042428   0.04196362 0.0415297\n",
            " 0.04115091 0.04081673 0.04052354 0.04027171]\n",
            "18 day output [[0.04004601]]\n",
            "19 day input [0.11944897 0.12303068 0.11927364 0.1265623  0.14174076 0.11772073\n",
            " 0.12140263 0.11403882 0.10985598 0.11932373 0.1253851  0.11742016\n",
            " 0.11496556 0.10917971 0.11003131 0.11251096 0.10770194 0.08926738\n",
            " 0.07854728 0.08919224 0.09833438 0.09908579 0.09665623 0.08328115\n",
            " 0.0841077  0.08050094 0.07889793 0.09054477 0.07899812 0.08909205\n",
            " 0.09244834 0.09272386 0.09154665 0.10126487 0.10672511 0.11396368\n",
            " 0.10647464 0.09507827 0.12247965 0.11646838 0.10973075 0.09565435\n",
            " 0.08025047 0.07899812 0.08035066 0.08180338 0.07020664 0.10026299\n",
            " 0.10735128 0.10379461 0.10820288 0.10507201 0.10990607 0.11133375\n",
            " 0.10311835 0.10855354 0.11078272 0.10336882 0.09362555 0.08598622\n",
            " 0.10316844 0.10386976 0.10261741 0.09966187 0.0903444  0.08541014\n",
            " 0.08969317 0.08846587 0.09430182 0.09675642 0.0910958  0.07428929\n",
            " 0.06930495 0.0639449  0.06376957 0.07165936 0.06359424 0.0626675\n",
            " 0.05808391 0.04809017 0.05703193 0.05320708 0.0515999  0.05016743\n",
            " 0.04890943 0.04778221 0.04675809 0.04582854 0.04498401 0.04422354\n",
            " 0.04354604 0.0429545  0.042428   0.04196362 0.0415297  0.04115091\n",
            " 0.04081673 0.04052354 0.04027171 0.04004601]\n",
            "19 day output [[0.03984902]]\n",
            "20 day input [0.12303068 0.11927364 0.1265623  0.14174076 0.11772073 0.12140263\n",
            " 0.11403882 0.10985598 0.11932373 0.1253851  0.11742016 0.11496556\n",
            " 0.10917971 0.11003131 0.11251096 0.10770194 0.08926738 0.07854728\n",
            " 0.08919224 0.09833438 0.09908579 0.09665623 0.08328115 0.0841077\n",
            " 0.08050094 0.07889793 0.09054477 0.07899812 0.08909205 0.09244834\n",
            " 0.09272386 0.09154665 0.10126487 0.10672511 0.11396368 0.10647464\n",
            " 0.09507827 0.12247965 0.11646838 0.10973075 0.09565435 0.08025047\n",
            " 0.07899812 0.08035066 0.08180338 0.07020664 0.10026299 0.10735128\n",
            " 0.10379461 0.10820288 0.10507201 0.10990607 0.11133375 0.10311835\n",
            " 0.10855354 0.11078272 0.10336882 0.09362555 0.08598622 0.10316844\n",
            " 0.10386976 0.10261741 0.09966187 0.0903444  0.08541014 0.08969317\n",
            " 0.08846587 0.09430182 0.09675642 0.0910958  0.07428929 0.06930495\n",
            " 0.0639449  0.06376957 0.07165936 0.06359424 0.0626675  0.05808391\n",
            " 0.04809017 0.05703193 0.05320708 0.0515999  0.05016743 0.04890943\n",
            " 0.04778221 0.04675809 0.04582854 0.04498401 0.04422354 0.04354604\n",
            " 0.0429545  0.042428   0.04196362 0.0415297  0.04115091 0.04081673\n",
            " 0.04052354 0.04027171 0.04004601 0.03984902]\n",
            "20 day output [[0.03968322]]\n",
            "21 day input [0.11927364 0.1265623  0.14174076 0.11772073 0.12140263 0.11403882\n",
            " 0.10985598 0.11932373 0.1253851  0.11742016 0.11496556 0.10917971\n",
            " 0.11003131 0.11251096 0.10770194 0.08926738 0.07854728 0.08919224\n",
            " 0.09833438 0.09908579 0.09665623 0.08328115 0.0841077  0.08050094\n",
            " 0.07889793 0.09054477 0.07899812 0.08909205 0.09244834 0.09272386\n",
            " 0.09154665 0.10126487 0.10672511 0.11396368 0.10647464 0.09507827\n",
            " 0.12247965 0.11646838 0.10973075 0.09565435 0.08025047 0.07899812\n",
            " 0.08035066 0.08180338 0.07020664 0.10026299 0.10735128 0.10379461\n",
            " 0.10820288 0.10507201 0.10990607 0.11133375 0.10311835 0.10855354\n",
            " 0.11078272 0.10336882 0.09362555 0.08598622 0.10316844 0.10386976\n",
            " 0.10261741 0.09966187 0.0903444  0.08541014 0.08969317 0.08846587\n",
            " 0.09430182 0.09675642 0.0910958  0.07428929 0.06930495 0.0639449\n",
            " 0.06376957 0.07165936 0.06359424 0.0626675  0.05808391 0.04809017\n",
            " 0.05703193 0.05320708 0.0515999  0.05016743 0.04890943 0.04778221\n",
            " 0.04675809 0.04582854 0.04498401 0.04422354 0.04354604 0.0429545\n",
            " 0.042428   0.04196362 0.0415297  0.04115091 0.04081673 0.04052354\n",
            " 0.04027171 0.04004601 0.03984902 0.03968322]\n",
            "21 day output [[0.039533]]\n",
            "22 day input [0.1265623  0.14174076 0.11772073 0.12140263 0.11403882 0.10985598\n",
            " 0.11932373 0.1253851  0.11742016 0.11496556 0.10917971 0.11003131\n",
            " 0.11251096 0.10770194 0.08926738 0.07854728 0.08919224 0.09833438\n",
            " 0.09908579 0.09665623 0.08328115 0.0841077  0.08050094 0.07889793\n",
            " 0.09054477 0.07899812 0.08909205 0.09244834 0.09272386 0.09154665\n",
            " 0.10126487 0.10672511 0.11396368 0.10647464 0.09507827 0.12247965\n",
            " 0.11646838 0.10973075 0.09565435 0.08025047 0.07899812 0.08035066\n",
            " 0.08180338 0.07020664 0.10026299 0.10735128 0.10379461 0.10820288\n",
            " 0.10507201 0.10990607 0.11133375 0.10311835 0.10855354 0.11078272\n",
            " 0.10336882 0.09362555 0.08598622 0.10316844 0.10386976 0.10261741\n",
            " 0.09966187 0.0903444  0.08541014 0.08969317 0.08846587 0.09430182\n",
            " 0.09675642 0.0910958  0.07428929 0.06930495 0.0639449  0.06376957\n",
            " 0.07165936 0.06359424 0.0626675  0.05808391 0.04809017 0.05703193\n",
            " 0.05320708 0.0515999  0.05016743 0.04890943 0.04778221 0.04675809\n",
            " 0.04582854 0.04498401 0.04422354 0.04354604 0.0429545  0.042428\n",
            " 0.04196362 0.0415297  0.04115091 0.04081673 0.04052354 0.04027171\n",
            " 0.04004601 0.03984902 0.03968322 0.039533  ]\n",
            "22 day output [[0.03941027]]\n",
            "23 day input [0.14174076 0.11772073 0.12140263 0.11403882 0.10985598 0.11932373\n",
            " 0.1253851  0.11742016 0.11496556 0.10917971 0.11003131 0.11251096\n",
            " 0.10770194 0.08926738 0.07854728 0.08919224 0.09833438 0.09908579\n",
            " 0.09665623 0.08328115 0.0841077  0.08050094 0.07889793 0.09054477\n",
            " 0.07899812 0.08909205 0.09244834 0.09272386 0.09154665 0.10126487\n",
            " 0.10672511 0.11396368 0.10647464 0.09507827 0.12247965 0.11646838\n",
            " 0.10973075 0.09565435 0.08025047 0.07899812 0.08035066 0.08180338\n",
            " 0.07020664 0.10026299 0.10735128 0.10379461 0.10820288 0.10507201\n",
            " 0.10990607 0.11133375 0.10311835 0.10855354 0.11078272 0.10336882\n",
            " 0.09362555 0.08598622 0.10316844 0.10386976 0.10261741 0.09966187\n",
            " 0.0903444  0.08541014 0.08969317 0.08846587 0.09430182 0.09675642\n",
            " 0.0910958  0.07428929 0.06930495 0.0639449  0.06376957 0.07165936\n",
            " 0.06359424 0.0626675  0.05808391 0.04809017 0.05703193 0.05320708\n",
            " 0.0515999  0.05016743 0.04890943 0.04778221 0.04675809 0.04582854\n",
            " 0.04498401 0.04422354 0.04354604 0.0429545  0.042428   0.04196362\n",
            " 0.0415297  0.04115091 0.04081673 0.04052354 0.04027171 0.04004601\n",
            " 0.03984902 0.03968322 0.039533   0.03941027]\n",
            "23 day output [[0.03931697]]\n",
            "24 day input [0.11772073 0.12140263 0.11403882 0.10985598 0.11932373 0.1253851\n",
            " 0.11742016 0.11496556 0.10917971 0.11003131 0.11251096 0.10770194\n",
            " 0.08926738 0.07854728 0.08919224 0.09833438 0.09908579 0.09665623\n",
            " 0.08328115 0.0841077  0.08050094 0.07889793 0.09054477 0.07899812\n",
            " 0.08909205 0.09244834 0.09272386 0.09154665 0.10126487 0.10672511\n",
            " 0.11396368 0.10647464 0.09507827 0.12247965 0.11646838 0.10973075\n",
            " 0.09565435 0.08025047 0.07899812 0.08035066 0.08180338 0.07020664\n",
            " 0.10026299 0.10735128 0.10379461 0.10820288 0.10507201 0.10990607\n",
            " 0.11133375 0.10311835 0.10855354 0.11078272 0.10336882 0.09362555\n",
            " 0.08598622 0.10316844 0.10386976 0.10261741 0.09966187 0.0903444\n",
            " 0.08541014 0.08969317 0.08846587 0.09430182 0.09675642 0.0910958\n",
            " 0.07428929 0.06930495 0.0639449  0.06376957 0.07165936 0.06359424\n",
            " 0.0626675  0.05808391 0.04809017 0.05703193 0.05320708 0.0515999\n",
            " 0.05016743 0.04890943 0.04778221 0.04675809 0.04582854 0.04498401\n",
            " 0.04422354 0.04354604 0.0429545  0.042428   0.04196362 0.0415297\n",
            " 0.04115091 0.04081673 0.04052354 0.04027171 0.04004601 0.03984902\n",
            " 0.03968322 0.039533   0.03941027 0.03931697]\n",
            "24 day output [[0.03920643]]\n",
            "25 day input [0.12140263 0.11403882 0.10985598 0.11932373 0.1253851  0.11742016\n",
            " 0.11496556 0.10917971 0.11003131 0.11251096 0.10770194 0.08926738\n",
            " 0.07854728 0.08919224 0.09833438 0.09908579 0.09665623 0.08328115\n",
            " 0.0841077  0.08050094 0.07889793 0.09054477 0.07899812 0.08909205\n",
            " 0.09244834 0.09272386 0.09154665 0.10126487 0.10672511 0.11396368\n",
            " 0.10647464 0.09507827 0.12247965 0.11646838 0.10973075 0.09565435\n",
            " 0.08025047 0.07899812 0.08035066 0.08180338 0.07020664 0.10026299\n",
            " 0.10735128 0.10379461 0.10820288 0.10507201 0.10990607 0.11133375\n",
            " 0.10311835 0.10855354 0.11078272 0.10336882 0.09362555 0.08598622\n",
            " 0.10316844 0.10386976 0.10261741 0.09966187 0.0903444  0.08541014\n",
            " 0.08969317 0.08846587 0.09430182 0.09675642 0.0910958  0.07428929\n",
            " 0.06930495 0.0639449  0.06376957 0.07165936 0.06359424 0.0626675\n",
            " 0.05808391 0.04809017 0.05703193 0.05320708 0.0515999  0.05016743\n",
            " 0.04890943 0.04778221 0.04675809 0.04582854 0.04498401 0.04422354\n",
            " 0.04354604 0.0429545  0.042428   0.04196362 0.0415297  0.04115091\n",
            " 0.04081673 0.04052354 0.04027171 0.04004601 0.03984902 0.03968322\n",
            " 0.039533   0.03941027 0.03931697 0.03920643]\n",
            "25 day output [[0.03912932]]\n",
            "26 day input [0.11403882 0.10985598 0.11932373 0.1253851  0.11742016 0.11496556\n",
            " 0.10917971 0.11003131 0.11251096 0.10770194 0.08926738 0.07854728\n",
            " 0.08919224 0.09833438 0.09908579 0.09665623 0.08328115 0.0841077\n",
            " 0.08050094 0.07889793 0.09054477 0.07899812 0.08909205 0.09244834\n",
            " 0.09272386 0.09154665 0.10126487 0.10672511 0.11396368 0.10647464\n",
            " 0.09507827 0.12247965 0.11646838 0.10973075 0.09565435 0.08025047\n",
            " 0.07899812 0.08035066 0.08180338 0.07020664 0.10026299 0.10735128\n",
            " 0.10379461 0.10820288 0.10507201 0.10990607 0.11133375 0.10311835\n",
            " 0.10855354 0.11078272 0.10336882 0.09362555 0.08598622 0.10316844\n",
            " 0.10386976 0.10261741 0.09966187 0.0903444  0.08541014 0.08969317\n",
            " 0.08846587 0.09430182 0.09675642 0.0910958  0.07428929 0.06930495\n",
            " 0.0639449  0.06376957 0.07165936 0.06359424 0.0626675  0.05808391\n",
            " 0.04809017 0.05703193 0.05320708 0.0515999  0.05016743 0.04890943\n",
            " 0.04778221 0.04675809 0.04582854 0.04498401 0.04422354 0.04354604\n",
            " 0.0429545  0.042428   0.04196362 0.0415297  0.04115091 0.04081673\n",
            " 0.04052354 0.04027171 0.04004601 0.03984902 0.03968322 0.039533\n",
            " 0.03941027 0.03931697 0.03920643 0.03912932]\n",
            "26 day output [[0.03905509]]\n",
            "27 day input [0.10985598 0.11932373 0.1253851  0.11742016 0.11496556 0.10917971\n",
            " 0.11003131 0.11251096 0.10770194 0.08926738 0.07854728 0.08919224\n",
            " 0.09833438 0.09908579 0.09665623 0.08328115 0.0841077  0.08050094\n",
            " 0.07889793 0.09054477 0.07899812 0.08909205 0.09244834 0.09272386\n",
            " 0.09154665 0.10126487 0.10672511 0.11396368 0.10647464 0.09507827\n",
            " 0.12247965 0.11646838 0.10973075 0.09565435 0.08025047 0.07899812\n",
            " 0.08035066 0.08180338 0.07020664 0.10026299 0.10735128 0.10379461\n",
            " 0.10820288 0.10507201 0.10990607 0.11133375 0.10311835 0.10855354\n",
            " 0.11078272 0.10336882 0.09362555 0.08598622 0.10316844 0.10386976\n",
            " 0.10261741 0.09966187 0.0903444  0.08541014 0.08969317 0.08846587\n",
            " 0.09430182 0.09675642 0.0910958  0.07428929 0.06930495 0.0639449\n",
            " 0.06376957 0.07165936 0.06359424 0.0626675  0.05808391 0.04809017\n",
            " 0.05703193 0.05320708 0.0515999  0.05016743 0.04890943 0.04778221\n",
            " 0.04675809 0.04582854 0.04498401 0.04422354 0.04354604 0.0429545\n",
            " 0.042428   0.04196362 0.0415297  0.04115091 0.04081673 0.04052354\n",
            " 0.04027171 0.04004601 0.03984902 0.03968322 0.039533   0.03941027\n",
            " 0.03931697 0.03920643 0.03912932 0.03905509]\n",
            "27 day output [[0.03899089]]\n",
            "28 day input [0.11932373 0.1253851  0.11742016 0.11496556 0.10917971 0.11003131\n",
            " 0.11251096 0.10770194 0.08926738 0.07854728 0.08919224 0.09833438\n",
            " 0.09908579 0.09665623 0.08328115 0.0841077  0.08050094 0.07889793\n",
            " 0.09054477 0.07899812 0.08909205 0.09244834 0.09272386 0.09154665\n",
            " 0.10126487 0.10672511 0.11396368 0.10647464 0.09507827 0.12247965\n",
            " 0.11646838 0.10973075 0.09565435 0.08025047 0.07899812 0.08035066\n",
            " 0.08180338 0.07020664 0.10026299 0.10735128 0.10379461 0.10820288\n",
            " 0.10507201 0.10990607 0.11133375 0.10311835 0.10855354 0.11078272\n",
            " 0.10336882 0.09362555 0.08598622 0.10316844 0.10386976 0.10261741\n",
            " 0.09966187 0.0903444  0.08541014 0.08969317 0.08846587 0.09430182\n",
            " 0.09675642 0.0910958  0.07428929 0.06930495 0.0639449  0.06376957\n",
            " 0.07165936 0.06359424 0.0626675  0.05808391 0.04809017 0.05703193\n",
            " 0.05320708 0.0515999  0.05016743 0.04890943 0.04778221 0.04675809\n",
            " 0.04582854 0.04498401 0.04422354 0.04354604 0.0429545  0.042428\n",
            " 0.04196362 0.0415297  0.04115091 0.04081673 0.04052354 0.04027171\n",
            " 0.04004601 0.03984902 0.03968322 0.039533   0.03941027 0.03931697\n",
            " 0.03920643 0.03912932 0.03905509 0.03899089]\n",
            "28 day output [[0.03894625]]\n",
            "29 day input [0.1253851  0.11742016 0.11496556 0.10917971 0.11003131 0.11251096\n",
            " 0.10770194 0.08926738 0.07854728 0.08919224 0.09833438 0.09908579\n",
            " 0.09665623 0.08328115 0.0841077  0.08050094 0.07889793 0.09054477\n",
            " 0.07899812 0.08909205 0.09244834 0.09272386 0.09154665 0.10126487\n",
            " 0.10672511 0.11396368 0.10647464 0.09507827 0.12247965 0.11646838\n",
            " 0.10973075 0.09565435 0.08025047 0.07899812 0.08035066 0.08180338\n",
            " 0.07020664 0.10026299 0.10735128 0.10379461 0.10820288 0.10507201\n",
            " 0.10990607 0.11133375 0.10311835 0.10855354 0.11078272 0.10336882\n",
            " 0.09362555 0.08598622 0.10316844 0.10386976 0.10261741 0.09966187\n",
            " 0.0903444  0.08541014 0.08969317 0.08846587 0.09430182 0.09675642\n",
            " 0.0910958  0.07428929 0.06930495 0.0639449  0.06376957 0.07165936\n",
            " 0.06359424 0.0626675  0.05808391 0.04809017 0.05703193 0.05320708\n",
            " 0.0515999  0.05016743 0.04890943 0.04778221 0.04675809 0.04582854\n",
            " 0.04498401 0.04422354 0.04354604 0.0429545  0.042428   0.04196362\n",
            " 0.0415297  0.04115091 0.04081673 0.04052354 0.04027171 0.04004601\n",
            " 0.03984902 0.03968322 0.039533   0.03941027 0.03931697 0.03920643\n",
            " 0.03912932 0.03905509 0.03899089 0.03894625]\n",
            "29 day output [[0.03890971]]\n",
            "[[0.05320708453655243], [0.0515998974442482], [0.05016743391752243], [0.04890943318605423], [0.047782205045223236], [0.04675809293985367], [0.04582854360342026], [0.044984012842178345], [0.044223539531230927], [0.04354603588581085], [0.04295450448989868], [0.04242800176143646], [0.041963621973991394], [0.04152970016002655], [0.04115091264247894], [0.04081673175096512], [0.04052353650331497], [0.04027170687913895], [0.04004600644111633], [0.039849020540714264], [0.03968321532011032], [0.03953300416469574], [0.039410270750522614], [0.039316967129707336], [0.039206430315971375], [0.03912932425737381], [0.03905508667230606], [0.038990892469882965], [0.0389462485909462], [0.03890971094369888]]\n"
          ]
        }
      ]
    },
    {
      "cell_type": "code",
      "source": [
        "day_new = np.arange(1,100)\n",
        "day_pred = np.arange(100,130)"
      ],
      "metadata": {
        "id": "TO9x-L6QDXPv"
      },
      "execution_count": null,
      "outputs": []
    },
    {
      "cell_type": "code",
      "source": [
        "import matplotlib.pyplot as plt"
      ],
      "metadata": {
        "id": "f2i-xTLxDbJh"
      },
      "execution_count": null,
      "outputs": []
    },
    {
      "cell_type": "code",
      "source": [
        "len(df1)"
      ],
      "metadata": {
        "colab": {
          "base_uri": "https://localhost:8080/"
        },
        "id": "FOz0AY9XDdGj",
        "outputId": "c6e41b3e-20c1-4e9d-f9bb-6ee6b85fe692"
      },
      "execution_count": null,
      "outputs": [
        {
          "output_type": "execute_result",
          "data": {
            "text/plain": [
              "1258"
            ]
          },
          "metadata": {},
          "execution_count": 35
        }
      ]
    },
    {
      "cell_type": "code",
      "source": [
        "df3 = df1.tolist()\n",
        "df3.extend(lst_output)"
      ],
      "metadata": {
        "id": "g9PsUbjEDfy5"
      },
      "execution_count": null,
      "outputs": []
    },
    {
      "cell_type": "code",
      "source": [
        "plt.plot(day_new,scaler.inverse_transform(df1[1159:]))\n",
        "plt.plot(day_pred,scaler.inverse_transform(lst_output))"
      ],
      "metadata": {
        "colab": {
          "base_uri": "https://localhost:8080/",
          "height": 282
        },
        "id": "UFwCLT-xDjTK",
        "outputId": "f379322a-0229-476c-8b0f-e5edb32bd09e"
      },
      "execution_count": null,
      "outputs": [
        {
          "output_type": "execute_result",
          "data": {
            "text/plain": [
              "[<matplotlib.lines.Line2D at 0x7f73c00fbb20>]"
            ]
          },
          "metadata": {},
          "execution_count": 38
        },
        {
          "output_type": "display_data",
          "data": {
            "text/plain": [
              "<Figure size 432x288 with 1 Axes>"
            ],
            "image/png": "[encoded data removed]"
          },
          "metadata": {
            "needs_background": "light"
          }
        }
      ]
    }
  ]
}
