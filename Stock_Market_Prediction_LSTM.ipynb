{
  "nbformat": 4,
  "nbformat_minor": 0,
  "metadata": {
    "colab": {
      "provenance": []
    },
    "kernelspec": {
      "name": "python3",
      "display_name": "Python 3"
    },
    "language_info": {
      "name": "python"
    },
    "accelerator": "GPU",
    "gpuClass": "standard"
  },
  "cells": [
    {
      "cell_type": "markdown",
      "source": [
        "#Stock Market Prediction and Forecasting Using Stacked LSTM"
      ],
      "metadata": {
        "id": "YtYISQoxkjjz"
      }
    },
    {
      "cell_type": "code",
      "execution_count": 262,
      "metadata": {
        "id": "lxBgFDfJkfP5"
      },
      "outputs": [],
      "source": [
        "#Keras and Tensorflow > 2.0"
      ]
    },
    {
      "cell_type": "code",
      "source": [
        "# Data Collection\n",
        "import pandas_datareader as pdr"
      ],
      "metadata": {
        "id": "gEpBUa4IkuCp"
      },
      "execution_count": 263,
      "outputs": []
    },
    {
      "cell_type": "code",
      "source": [
        "key = '8138a60a6bcc7cdfa486834b128d5ce3c3a3e417'"
      ],
      "metadata": {
        "id": "Ub-FfxFwls3P"
      },
      "execution_count": 264,
      "outputs": []
    },
    {
      "cell_type": "code",
      "source": [
        "df = pdr.get_data_tiingo('AAPL', api_key=key)\n",
        "#df = pdr.get_data_tiingo('https://api.tiingo.com/tiingo/crypto/prices?tickers=Binance&startDate=2019-01-02&resampleFreq=5min')"
      ],
      "metadata": {
        "colab": {
          "base_uri": "https://localhost:8080/"
        },
        "id": "ZBxzgnohk3Ke",
        "outputId": "8a8164b1-2641-4889-eef8-59c0c663cdf8"
      },
      "execution_count": 265,
      "outputs": [
        {
          "output_type": "stream",
          "name": "stderr",
          "text": [
            "/usr/local/lib/python3.9/dist-packages/pandas_datareader/tiingo.py:234: FutureWarning: In a future version of pandas all arguments of concat except for the argument 'objs' will be keyword-only.\n",
            "  return pd.concat(dfs, self._concat_axis)\n"
          ]
        }
      ]
    },
    {
      "cell_type": "markdown",
      "source": [
        "4TY5S71DRVXKXQHZ\n",
        "Alpha Vantage Support"
      ],
      "metadata": {
        "id": "ZUPYOXiIgyAQ"
      }
    },
    {
      "cell_type": "code",
      "source": [
        "df.to_csv('AAPL.csv')\n",
        "#df.to_csv('Binance.csv')"
      ],
      "metadata": {
        "id": "YqjoQ9Epl7IV"
      },
      "execution_count": 266,
      "outputs": []
    },
    {
      "cell_type": "code",
      "source": [
        "import pandas as pd"
      ],
      "metadata": {
        "id": "XHeLovGXmJKE"
      },
      "execution_count": 267,
      "outputs": []
    },
    {
      "cell_type": "code",
      "source": [
        "df.head()"
      ],
      "metadata": {
        "colab": {
          "base_uri": "https://localhost:8080/",
          "height": 237
        },
        "id": "JQHy_xJqmNtv",
        "outputId": "2983e5b7-25d7-4741-9548-fea5734d0119"
      },
      "execution_count": 268,
      "outputs": [
        {
          "output_type": "execute_result",
          "data": {
            "text/plain": [
              "                                   close    high     low    open    volume  \\\n",
              "symbol date                                                                  \n",
              "AAPL   2018-03-27 00:00:00+00:00  168.34  175.15  166.92  173.68  38962839   \n",
              "       2018-03-28 00:00:00+00:00  166.48  170.02  165.19  167.25  41668545   \n",
              "       2018-03-29 00:00:00+00:00  167.78  171.75  166.90  167.81  38398505   \n",
              "       2018-04-02 00:00:00+00:00  166.68  168.94  164.47  166.64  37586791   \n",
              "       2018-04-03 00:00:00+00:00  168.39  168.75  164.88  167.64  30278046   \n",
              "\n",
              "                                   adjClose    adjHigh     adjLow    adjOpen  \\\n",
              "symbol date                                                                    \n",
              "AAPL   2018-03-27 00:00:00+00:00  40.066198  41.687030  39.728227  41.337159   \n",
              "       2018-03-28 00:00:00+00:00  39.623504  40.466051  39.316474  39.806770   \n",
              "       2018-03-29 00:00:00+00:00  39.932914  40.877804  39.723467  39.940054   \n",
              "       2018-04-02 00:00:00+00:00  39.671106  40.209003  39.145109  39.661585   \n",
              "       2018-04-03 00:00:00+00:00  40.078099  40.163781  39.242692  39.899593   \n",
              "\n",
              "                                  adjVolume  divCash  splitFactor  \n",
              "symbol date                                                        \n",
              "AAPL   2018-03-27 00:00:00+00:00  155851356      0.0          1.0  \n",
              "       2018-03-28 00:00:00+00:00  166674180      0.0          1.0  \n",
              "       2018-03-29 00:00:00+00:00  153594020      0.0          1.0  \n",
              "       2018-04-02 00:00:00+00:00  150347164      0.0          1.0  \n",
              "       2018-04-03 00:00:00+00:00  121112184      0.0          1.0  "
            ],
            "text/html": [
              "\n",
              "  <div id=\"df-2dfba292-fb35-44d5-bc04-f9e3dea02c04\">\n",
              "    <div class=\"colab-df-container\">\n",
              "      <div>\n",
              "<style scoped>\n",
              "    .dataframe tbody tr th:only-of-type {\n",
              "        vertical-align: middle;\n",
              "    }\n",
              "\n",
              "    .dataframe tbody tr th {\n",
              "        vertical-align: top;\n",
              "    }\n",
              "\n",
              "    .dataframe thead th {\n",
              "        text-align: right;\n",
              "    }\n",
              "</style>\n",
              "<table border=\"1\" class=\"dataframe\">\n",
              "  <thead>\n",
              "    <tr style=\"text-align: right;\">\n",
              "      <th></th>\n",
              "      <th></th>\n",
              "      <th>close</th>\n",
              "      <th>high</th>\n",
              "      <th>low</th>\n",
              "      <th>open</th>\n",
              "      <th>volume</th>\n",
              "      <th>adjClose</th>\n",
              "      <th>adjHigh</th>\n",
              "      <th>adjLow</th>\n",
              "      <th>adjOpen</th>\n",
              "      <th>adjVolume</th>\n",
              "      <th>divCash</th>\n",
              "      <th>splitFactor</th>\n",
              "    </tr>\n",
              "    <tr>\n",
              "      <th>symbol</th>\n",
              "      <th>date</th>\n",
              "      <th></th>\n",
              "      <th></th>\n",
              "      <th></th>\n",
              "      <th></th>\n",
              "      <th></th>\n",
              "      <th></th>\n",
              "      <th></th>\n",
              "      <th></th>\n",
              "      <th></th>\n",
              "      <th></th>\n",
              "      <th></th>\n",
              "      <th></th>\n",
              "    </tr>\n",
              "  </thead>\n",
              "  <tbody>\n",
              "    <tr>\n",
              "      <th rowspan=\"5\" valign=\"top\">AAPL</th>\n",
              "      <th>2018-03-27 00:00:00+00:00</th>\n",
              "      <td>168.34</td>\n",
              "      <td>175.15</td>\n",
              "      <td>166.92</td>\n",
              "      <td>173.68</td>\n",
              "      <td>38962839</td>\n",
              "      <td>40.066198</td>\n",
              "      <td>41.687030</td>\n",
              "      <td>39.728227</td>\n",
              "      <td>41.337159</td>\n",
              "      <td>155851356</td>\n",
              "      <td>0.0</td>\n",
              "      <td>1.0</td>\n",
              "    </tr>\n",
              "    <tr>\n",
              "      <th>2018-03-28 00:00:00+00:00</th>\n",
              "      <td>166.48</td>\n",
              "      <td>170.02</td>\n",
              "      <td>165.19</td>\n",
              "      <td>167.25</td>\n",
              "      <td>41668545</td>\n",
              "      <td>39.623504</td>\n",
              "      <td>40.466051</td>\n",
              "      <td>39.316474</td>\n",
              "      <td>39.806770</td>\n",
              "      <td>166674180</td>\n",
              "      <td>0.0</td>\n",
              "      <td>1.0</td>\n",
              "    </tr>\n",
              "    <tr>\n",
              "      <th>2018-03-29 00:00:00+00:00</th>\n",
              "      <td>167.78</td>\n",
              "      <td>171.75</td>\n",
              "      <td>166.90</td>\n",
              "      <td>167.81</td>\n",
              "      <td>38398505</td>\n",
              "      <td>39.932914</td>\n",
              "      <td>40.877804</td>\n",
              "      <td>39.723467</td>\n",
              "      <td>39.940054</td>\n",
              "      <td>153594020</td>\n",
              "      <td>0.0</td>\n",
              "      <td>1.0</td>\n",
              "    </tr>\n",
              "    <tr>\n",
              "      <th>2018-04-02 00:00:00+00:00</th>\n",
              "      <td>166.68</td>\n",
              "      <td>168.94</td>\n",
              "      <td>164.47</td>\n",
              "      <td>166.64</td>\n",
              "      <td>37586791</td>\n",
              "      <td>39.671106</td>\n",
              "      <td>40.209003</td>\n",
              "      <td>39.145109</td>\n",
              "      <td>39.661585</td>\n",
              "      <td>150347164</td>\n",
              "      <td>0.0</td>\n",
              "      <td>1.0</td>\n",
              "    </tr>\n",
              "    <tr>\n",
              "      <th>2018-04-03 00:00:00+00:00</th>\n",
              "      <td>168.39</td>\n",
              "      <td>168.75</td>\n",
              "      <td>164.88</td>\n",
              "      <td>167.64</td>\n",
              "      <td>30278046</td>\n",
              "      <td>40.078099</td>\n",
              "      <td>40.163781</td>\n",
              "      <td>39.242692</td>\n",
              "      <td>39.899593</td>\n",
              "      <td>121112184</td>\n",
              "      <td>0.0</td>\n",
              "      <td>1.0</td>\n",
              "    </tr>\n",
              "  </tbody>\n",
              "</table>\n",
              "</div>\n",
              "      <button class=\"colab-df-convert\" onclick=\"convertToInteractive('df-2dfba292-fb35-44d5-bc04-f9e3dea02c04')\"\n",
              "              title=\"Convert this dataframe to an interactive table.\"\n",
              "              style=\"display:none;\">\n",
              "        \n",
              "  <svg xmlns=\"http://www.w3.org/2000/svg\" height=\"24px\"viewBox=\"0 0 24 24\"\n",
              "       width=\"24px\">\n",
              "    <path d=\"M0 0h24v24H0V0z\" fill=\"none\"/>\n",
              "    <path d=\"M18.56 5.44l.94 2.06.94-2.06 2.06-.94-2.06-.94-.94-2.06-.94 2.06-2.06.94zm-11 1L8.5 8.5l.94-2.06 2.06-.94-2.06-.94L8.5 2.5l-.94 2.06-2.06.94zm10 10l.94 2.06.94-2.06 2.06-.94-2.06-.94-.94-2.06-.94 2.06-2.06.94z\"/><path d=\"M17.41 7.96l-1.37-1.37c-.4-.4-.92-.59-1.43-.59-.52 0-1.04.2-1.43.59L10.3 9.45l-7.72 7.72c-.78.78-.78 2.05 0 2.83L4 21.41c.39.39.9.59 1.41.59.51 0 1.02-.2 1.41-.59l7.78-7.78 2.81-2.81c.8-.78.8-2.07 0-2.86zM5.41 20L4 18.59l7.72-7.72 1.47 1.35L5.41 20z\"/>\n",
              "  </svg>\n",
              "      </button>\n",
              "      \n",
              "  <style>\n",
              "    .colab-df-container {\n",
              "      display:flex;\n",
              "      flex-wrap:wrap;\n",
              "      gap: 12px;\n",
              "    }\n",
              "\n",
              "    .colab-df-convert {\n",
              "      background-color: #E8F0FE;\n",
              "      border: none;\n",
              "      border-radius: 50%;\n",
              "      cursor: pointer;\n",
              "      display: none;\n",
              "      fill: #1967D2;\n",
              "      height: 32px;\n",
              "      padding: 0 0 0 0;\n",
              "      width: 32px;\n",
              "    }\n",
              "\n",
              "    .colab-df-convert:hover {\n",
              "      background-color: #E2EBFA;\n",
              "      box-shadow: 0px 1px 2px rgba(60, 64, 67, 0.3), 0px 1px 3px 1px rgba(60, 64, 67, 0.15);\n",
              "      fill: #174EA6;\n",
              "    }\n",
              "\n",
              "    [theme=dark] .colab-df-convert {\n",
              "      background-color: #3B4455;\n",
              "      fill: #D2E3FC;\n",
              "    }\n",
              "\n",
              "    [theme=dark] .colab-df-convert:hover {\n",
              "      background-color: #434B5C;\n",
              "      box-shadow: 0px 1px 3px 1px rgba(0, 0, 0, 0.15);\n",
              "      filter: drop-shadow(0px 1px 2px rgba(0, 0, 0, 0.3));\n",
              "      fill: #FFFFFF;\n",
              "    }\n",
              "  </style>\n",
              "\n",
              "      <script>\n",
              "        const buttonEl =\n",
              "          document.querySelector('#df-2dfba292-fb35-44d5-bc04-f9e3dea02c04 button.colab-df-convert');\n",
              "        buttonEl.style.display =\n",
              "          google.colab.kernel.accessAllowed ? 'block' : 'none';\n",
              "\n",
              "        async function convertToInteractive(key) {\n",
              "          const element = document.querySelector('#df-2dfba292-fb35-44d5-bc04-f9e3dea02c04');\n",
              "          const dataTable =\n",
              "            await google.colab.kernel.invokeFunction('convertToInteractive',\n",
              "                                                     [key], {});\n",
              "          if (!dataTable) return;\n",
              "\n",
              "          const docLinkHtml = 'Like what you see? Visit the ' +\n",
              "            '<a target=\"_blank\" href=https://colab.research.google.com/notebooks/data_table.ipynb>data table notebook</a>'\n",
              "            + ' to learn more about interactive tables.';\n",
              "          element.innerHTML = '';\n",
              "          dataTable['output_type'] = 'display_data';\n",
              "          await google.colab.output.renderOutput(dataTable, element);\n",
              "          const docLink = document.createElement('div');\n",
              "          docLink.innerHTML = docLinkHtml;\n",
              "          element.appendChild(docLink);\n",
              "        }\n",
              "      </script>\n",
              "    </div>\n",
              "  </div>\n",
              "  "
            ]
          },
          "metadata": {},
          "execution_count": 268
        }
      ]
    },
    {
      "cell_type": "code",
      "source": [
        "df.tail()"
      ],
      "metadata": {
        "colab": {
          "base_uri": "https://localhost:8080/",
          "height": 237
        },
        "id": "yXztNhy5mXO_",
        "outputId": "4fd21fc8-b845-47ac-ae7e-618da22e6b61"
      },
      "execution_count": 269,
      "outputs": [
        {
          "output_type": "execute_result",
          "data": {
            "text/plain": [
              "                                   close      high     low    open    volume  \\\n",
              "symbol date                                                                    \n",
              "AAPL   2023-03-20 00:00:00+00:00  157.40  157.8200  154.15  155.07  73641415   \n",
              "       2023-03-21 00:00:00+00:00  159.28  159.4000  156.54  157.32  73938285   \n",
              "       2023-03-22 00:00:00+00:00  157.83  162.1400  157.81  159.30  75701811   \n",
              "       2023-03-23 00:00:00+00:00  158.93  161.5501  157.68  158.83  67622060   \n",
              "       2023-03-24 00:00:00+00:00  160.25  160.3400  157.85  158.86  59256343   \n",
              "\n",
              "                                  adjClose   adjHigh  adjLow  adjOpen  \\\n",
              "symbol date                                                             \n",
              "AAPL   2023-03-20 00:00:00+00:00    157.40  157.8200  154.15   155.07   \n",
              "       2023-03-21 00:00:00+00:00    159.28  159.4000  156.54   157.32   \n",
              "       2023-03-22 00:00:00+00:00    157.83  162.1400  157.81   159.30   \n",
              "       2023-03-23 00:00:00+00:00    158.93  161.5501  157.68   158.83   \n",
              "       2023-03-24 00:00:00+00:00    160.25  160.3400  157.85   158.86   \n",
              "\n",
              "                                  adjVolume  divCash  splitFactor  \n",
              "symbol date                                                        \n",
              "AAPL   2023-03-20 00:00:00+00:00   73641415      0.0          1.0  \n",
              "       2023-03-21 00:00:00+00:00   73938285      0.0          1.0  \n",
              "       2023-03-22 00:00:00+00:00   75701811      0.0          1.0  \n",
              "       2023-03-23 00:00:00+00:00   67622060      0.0          1.0  \n",
              "       2023-03-24 00:00:00+00:00   59256343      0.0          1.0  "
            ],
            "text/html": [
              "\n",
              "  <div id=\"df-a5b82164-3d0d-4d6b-8be7-720e9925af7c\">\n",
              "    <div class=\"colab-df-container\">\n",
              "      <div>\n",
              "<style scoped>\n",
              "    .dataframe tbody tr th:only-of-type {\n",
              "        vertical-align: middle;\n",
              "    }\n",
              "\n",
              "    .dataframe tbody tr th {\n",
              "        vertical-align: top;\n",
              "    }\n",
              "\n",
              "    .dataframe thead th {\n",
              "        text-align: right;\n",
              "    }\n",
              "</style>\n",
              "<table border=\"1\" class=\"dataframe\">\n",
              "  <thead>\n",
              "    <tr style=\"text-align: right;\">\n",
              "      <th></th>\n",
              "      <th></th>\n",
              "      <th>close</th>\n",
              "      <th>high</th>\n",
              "      <th>low</th>\n",
              "      <th>open</th>\n",
              "      <th>volume</th>\n",
              "      <th>adjClose</th>\n",
              "      <th>adjHigh</th>\n",
              "      <th>adjLow</th>\n",
              "      <th>adjOpen</th>\n",
              "      <th>adjVolume</th>\n",
              "      <th>divCash</th>\n",
              "      <th>splitFactor</th>\n",
              "    </tr>\n",
              "    <tr>\n",
              "      <th>symbol</th>\n",
              "      <th>date</th>\n",
              "      <th></th>\n",
              "      <th></th>\n",
              "      <th></th>\n",
              "      <th></th>\n",
              "      <th></th>\n",
              "      <th></th>\n",
              "      <th></th>\n",
              "      <th></th>\n",
              "      <th></th>\n",
              "      <th></th>\n",
              "      <th></th>\n",
              "      <th></th>\n",
              "    </tr>\n",
              "  </thead>\n",
              "  <tbody>\n",
              "    <tr>\n",
              "      <th rowspan=\"5\" valign=\"top\">AAPL</th>\n",
              "      <th>2023-03-20 00:00:00+00:00</th>\n",
              "      <td>157.40</td>\n",
              "      <td>157.8200</td>\n",
              "      <td>154.15</td>\n",
              "      <td>155.07</td>\n",
              "      <td>73641415</td>\n",
              "      <td>157.40</td>\n",
              "      <td>157.8200</td>\n",
              "      <td>154.15</td>\n",
              "      <td>155.07</td>\n",
              "      <td>73641415</td>\n",
              "      <td>0.0</td>\n",
              "      <td>1.0</td>\n",
              "    </tr>\n",
              "    <tr>\n",
              "      <th>2023-03-21 00:00:00+00:00</th>\n",
              "      <td>159.28</td>\n",
              "      <td>159.4000</td>\n",
              "      <td>156.54</td>\n",
              "      <td>157.32</td>\n",
              "      <td>73938285</td>\n",
              "      <td>159.28</td>\n",
              "      <td>159.4000</td>\n",
              "      <td>156.54</td>\n",
              "      <td>157.32</td>\n",
              "      <td>73938285</td>\n",
              "      <td>0.0</td>\n",
              "      <td>1.0</td>\n",
              "    </tr>\n",
              "    <tr>\n",
              "      <th>2023-03-22 00:00:00+00:00</th>\n",
              "      <td>157.83</td>\n",
              "      <td>162.1400</td>\n",
              "      <td>157.81</td>\n",
              "      <td>159.30</td>\n",
              "      <td>75701811</td>\n",
              "      <td>157.83</td>\n",
              "      <td>162.1400</td>\n",
              "      <td>157.81</td>\n",
              "      <td>159.30</td>\n",
              "      <td>75701811</td>\n",
              "      <td>0.0</td>\n",
              "      <td>1.0</td>\n",
              "    </tr>\n",
              "    <tr>\n",
              "      <th>2023-03-23 00:00:00+00:00</th>\n",
              "      <td>158.93</td>\n",
              "      <td>161.5501</td>\n",
              "      <td>157.68</td>\n",
              "      <td>158.83</td>\n",
              "      <td>67622060</td>\n",
              "      <td>158.93</td>\n",
              "      <td>161.5501</td>\n",
              "      <td>157.68</td>\n",
              "      <td>158.83</td>\n",
              "      <td>67622060</td>\n",
              "      <td>0.0</td>\n",
              "      <td>1.0</td>\n",
              "    </tr>\n",
              "    <tr>\n",
              "      <th>2023-03-24 00:00:00+00:00</th>\n",
              "      <td>160.25</td>\n",
              "      <td>160.3400</td>\n",
              "      <td>157.85</td>\n",
              "      <td>158.86</td>\n",
              "      <td>59256343</td>\n",
              "      <td>160.25</td>\n",
              "      <td>160.3400</td>\n",
              "      <td>157.85</td>\n",
              "      <td>158.86</td>\n",
              "      <td>59256343</td>\n",
              "      <td>0.0</td>\n",
              "      <td>1.0</td>\n",
              "    </tr>\n",
              "  </tbody>\n",
              "</table>\n",
              "</div>\n",
              "      <button class=\"colab-df-convert\" onclick=\"convertToInteractive('df-a5b82164-3d0d-4d6b-8be7-720e9925af7c')\"\n",
              "              title=\"Convert this dataframe to an interactive table.\"\n",
              "              style=\"display:none;\">\n",
              "        \n",
              "  <svg xmlns=\"http://www.w3.org/2000/svg\" height=\"24px\"viewBox=\"0 0 24 24\"\n",
              "       width=\"24px\">\n",
              "    <path d=\"M0 0h24v24H0V0z\" fill=\"none\"/>\n",
              "    <path d=\"M18.56 5.44l.94 2.06.94-2.06 2.06-.94-2.06-.94-.94-2.06-.94 2.06-2.06.94zm-11 1L8.5 8.5l.94-2.06 2.06-.94-2.06-.94L8.5 2.5l-.94 2.06-2.06.94zm10 10l.94 2.06.94-2.06 2.06-.94-2.06-.94-.94-2.06-.94 2.06-2.06.94z\"/><path d=\"M17.41 7.96l-1.37-1.37c-.4-.4-.92-.59-1.43-.59-.52 0-1.04.2-1.43.59L10.3 9.45l-7.72 7.72c-.78.78-.78 2.05 0 2.83L4 21.41c.39.39.9.59 1.41.59.51 0 1.02-.2 1.41-.59l7.78-7.78 2.81-2.81c.8-.78.8-2.07 0-2.86zM5.41 20L4 18.59l7.72-7.72 1.47 1.35L5.41 20z\"/>\n",
              "  </svg>\n",
              "      </button>\n",
              "      \n",
              "  <style>\n",
              "    .colab-df-container {\n",
              "      display:flex;\n",
              "      flex-wrap:wrap;\n",
              "      gap: 12px;\n",
              "    }\n",
              "\n",
              "    .colab-df-convert {\n",
              "      background-color: #E8F0FE;\n",
              "      border: none;\n",
              "      border-radius: 50%;\n",
              "      cursor: pointer;\n",
              "      display: none;\n",
              "      fill: #1967D2;\n",
              "      height: 32px;\n",
              "      padding: 0 0 0 0;\n",
              "      width: 32px;\n",
              "    }\n",
              "\n",
              "    .colab-df-convert:hover {\n",
              "      background-color: #E2EBFA;\n",
              "      box-shadow: 0px 1px 2px rgba(60, 64, 67, 0.3), 0px 1px 3px 1px rgba(60, 64, 67, 0.15);\n",
              "      fill: #174EA6;\n",
              "    }\n",
              "\n",
              "    [theme=dark] .colab-df-convert {\n",
              "      background-color: #3B4455;\n",
              "      fill: #D2E3FC;\n",
              "    }\n",
              "\n",
              "    [theme=dark] .colab-df-convert:hover {\n",
              "      background-color: #434B5C;\n",
              "      box-shadow: 0px 1px 3px 1px rgba(0, 0, 0, 0.15);\n",
              "      filter: drop-shadow(0px 1px 2px rgba(0, 0, 0, 0.3));\n",
              "      fill: #FFFFFF;\n",
              "    }\n",
              "  </style>\n",
              "\n",
              "      <script>\n",
              "        const buttonEl =\n",
              "          document.querySelector('#df-a5b82164-3d0d-4d6b-8be7-720e9925af7c button.colab-df-convert');\n",
              "        buttonEl.style.display =\n",
              "          google.colab.kernel.accessAllowed ? 'block' : 'none';\n",
              "\n",
              "        async function convertToInteractive(key) {\n",
              "          const element = document.querySelector('#df-a5b82164-3d0d-4d6b-8be7-720e9925af7c');\n",
              "          const dataTable =\n",
              "            await google.colab.kernel.invokeFunction('convertToInteractive',\n",
              "                                                     [key], {});\n",
              "          if (!dataTable) return;\n",
              "\n",
              "          const docLinkHtml = 'Like what you see? Visit the ' +\n",
              "            '<a target=\"_blank\" href=https://colab.research.google.com/notebooks/data_table.ipynb>data table notebook</a>'\n",
              "            + ' to learn more about interactive tables.';\n",
              "          element.innerHTML = '';\n",
              "          dataTable['output_type'] = 'display_data';\n",
              "          await google.colab.output.renderOutput(dataTable, element);\n",
              "          const docLink = document.createElement('div');\n",
              "          docLink.innerHTML = docLinkHtml;\n",
              "          element.appendChild(docLink);\n",
              "        }\n",
              "      </script>\n",
              "    </div>\n",
              "  </div>\n",
              "  "
            ]
          },
          "metadata": {},
          "execution_count": 269
        }
      ]
    },
    {
      "cell_type": "code",
      "source": [
        "df1 = df.reset_index() ['close']"
      ],
      "metadata": {
        "id": "aSOXDkErmfMM"
      },
      "execution_count": 270,
      "outputs": []
    },
    {
      "cell_type": "code",
      "source": [
        "df1.shape"
      ],
      "metadata": {
        "colab": {
          "base_uri": "https://localhost:8080/"
        },
        "id": "wyWRx58Nml-T",
        "outputId": "9958350d-ef9c-4acf-de81-9273ada8cdbf"
      },
      "execution_count": 271,
      "outputs": [
        {
          "output_type": "execute_result",
          "data": {
            "text/plain": [
              "(1258,)"
            ]
          },
          "metadata": {},
          "execution_count": 271
        }
      ]
    },
    {
      "cell_type": "code",
      "source": [
        "import matplotlib.pyplot as plt\n",
        "plt.plot(df1)"
      ],
      "metadata": {
        "colab": {
          "base_uri": "https://localhost:8080/",
          "height": 282
        },
        "id": "6hfbxeQSm0AC",
        "outputId": "c643932b-2ba4-45bc-ff44-f0ae908872e7"
      },
      "execution_count": 272,
      "outputs": [
        {
          "output_type": "execute_result",
          "data": {
            "text/plain": [
              "[<matplotlib.lines.Line2D at 0x7f785452fdc0>]"
            ]
          },
          "metadata": {},
          "execution_count": 272
        },
        {
          "output_type": "display_data",
          "data": {
            "text/plain": [
              "<Figure size 432x288 with 1 Axes>"
            ],
            "image/png": "[encoded data removed]"
          },
          "metadata": {
            "needs_background": "light"
          }
        }
      ]
    },
    {
      "cell_type": "markdown",
      "source": [
        "LSTM are sensitive to the scale of the data. So we apply MinMax scaler"
      ],
      "metadata": {
        "id": "TVHa-EvfnIID"
      }
    },
    {
      "cell_type": "code",
      "source": [
        "import numpy as np"
      ],
      "metadata": {
        "id": "hpPUCRJcnOiZ"
      },
      "execution_count": 273,
      "outputs": []
    },
    {
      "cell_type": "code",
      "source": [
        "from sklearn.preprocessing import MinMaxScaler\n",
        "scaler = MinMaxScaler(feature_range=(0,1))\n",
        "df1 = scaler.fit_transform(np.array(df1).reshape(-1,1))"
      ],
      "metadata": {
        "id": "SGN6bz96nTCb"
      },
      "execution_count": 274,
      "outputs": []
    },
    {
      "cell_type": "code",
      "source": [
        "df1.shape"
      ],
      "metadata": {
        "colab": {
          "base_uri": "https://localhost:8080/"
        },
        "id": "rIsrB29vn1t3",
        "outputId": "0a400af6-e0e3-4cb4-d727-b9ec4a270c51"
      },
      "execution_count": 275,
      "outputs": [
        {
          "output_type": "execute_result",
          "data": {
            "text/plain": [
              "(1258, 1)"
            ]
          },
          "metadata": {},
          "execution_count": 275
        }
      ]
    },
    {
      "cell_type": "code",
      "source": [
        "import numpy\n",
        "#converting the array of values into a dataset matrix\n",
        "\n",
        "def create_dataset(dataset, time_step=1):\n",
        "  dataX, dataY = [], []\n",
        "  for i in range(len(dataset)-time_step):\n",
        "    a = dataset[i:(i+time_step), 0]  # 1,2,3 ... 100 where y will get 101 value\n",
        "    dataX.append(a)\n",
        "    dataY.append(dataset[i+time_step, 0])\n",
        "  return numpy.array(dataX), numpy.array(dataY)"
      ],
      "metadata": {
        "id": "1FgpW6pCoY2I"
      },
      "execution_count": 276,
      "outputs": []
    },
    {
      "cell_type": "code",
      "source": [
        "#Spliting dataset into train and test split\n",
        "training_size = int(len(df1)*0.65)\n",
        "test_size = len(df1)-training_size\n",
        "train_data,test_data = df1[0:training_size,:], df1[training_size:len(df1),:1]"
      ],
      "metadata": {
        "id": "IyTLolz6n9lb"
      },
      "execution_count": 277,
      "outputs": []
    },
    {
      "cell_type": "code",
      "source": [
        "# reshape into X=t, t+1, t+2, t+3 and then Y=t+4\n",
        "time_step = 100\n",
        "X_train, y_train = create_dataset(train_data, time_step)\n",
        "X_test, ytest = create_dataset(test_data, time_step)"
      ],
      "metadata": {
        "id": "s584ynQtqEMW"
      },
      "execution_count": 278,
      "outputs": []
    },
    {
      "cell_type": "code",
      "source": [
        "print(X_train)"
      ],
      "metadata": {
        "colab": {
          "base_uri": "https://localhost:8080/"
        },
        "id": "XStVQVHjrd7g",
        "outputId": "3cd4a40c-83af-440f-c429-676c003c6afd"
      },
      "execution_count": 279,
      "outputs": [
        {
          "output_type": "stream",
          "name": "stdout",
          "text": [
            "[[0.15403882 0.14938009 0.15263619 ... 0.2577583  0.2589856  0.26670006]\n",
            " [0.14938009 0.15263619 0.14988103 ... 0.2589856  0.26670006 0.27737007]\n",
            " [0.15263619 0.14988103 0.15416406 ... 0.26670006 0.27737007 0.27206011]\n",
            " ...\n",
            " [0.0882154  0.07576706 0.06291797 ... 0.05838447 0.06249217 0.05916093]\n",
            " [0.07576706 0.06291797 0.06837821 ... 0.06249217 0.05916093 0.06376957]\n",
            " [0.06291797 0.06837821 0.0705072  ... 0.05916093 0.06376957 0.06797746]]\n"
          ]
        }
      ]
    },
    {
      "cell_type": "code",
      "source": [
        "len(test_data)"
      ],
      "metadata": {
        "colab": {
          "base_uri": "https://localhost:8080/"
        },
        "id": "YQy43upJ4Y-l",
        "outputId": "ce74b64b-ac37-4e61-d2fb-682ed35f12f6"
      },
      "execution_count": 280,
      "outputs": [
        {
          "output_type": "execute_result",
          "data": {
            "text/plain": [
              "441"
            ]
          },
          "metadata": {},
          "execution_count": 280
        }
      ]
    },
    {
      "cell_type": "code",
      "source": [
        "print(X_test.shape), print(ytest.shape)"
      ],
      "metadata": {
        "colab": {
          "base_uri": "https://localhost:8080/"
        },
        "id": "iChnl0Cprhdv",
        "outputId": "ca484f57-4860-4622-dc2f-d48c1c96354b"
      },
      "execution_count": 281,
      "outputs": [
        {
          "output_type": "stream",
          "name": "stdout",
          "text": [
            "(341, 100)\n",
            "(341,)\n"
          ]
        },
        {
          "output_type": "execute_result",
          "data": {
            "text/plain": [
              "(None, None)"
            ]
          },
          "metadata": {},
          "execution_count": 281
        }
      ]
    },
    {
      "cell_type": "markdown",
      "source": [
        "Data Preparation process is over.\n",
        "Next we need to create LSTM model"
      ],
      "metadata": {
        "id": "kPN6CIxusNDS"
      }
    },
    {
      "cell_type": "code",
      "source": [
        "from tensorflow.keras.models import Sequential\n",
        "from tensorflow.keras.layers import Dense\n",
        "from tensorflow.keras.layers import LSTM"
      ],
      "metadata": {
        "id": "PKDQxDXMsGJ_"
      },
      "execution_count": 282,
      "outputs": []
    },
    {
      "cell_type": "code",
      "source": [
        "model=Sequential()\n",
        "model.add(LSTM(50,return_sequences=True, input_shape=(100,1)))\n",
        "model.add(LSTM(50,return_sequences=True))\n",
        "model.add(LSTM(50))\n",
        "model.add(Dense(1))\n",
        "model.summary()"
      ],
      "metadata": {
        "colab": {
          "base_uri": "https://localhost:8080/"
        },
        "id": "0hBbbKF8syTV",
        "outputId": "7b6e7f5e-e46a-4f45-e701-3662606387e3"
      },
      "execution_count": 283,
      "outputs": [
        {
          "output_type": "stream",
          "name": "stdout",
          "text": [
            "Model: \"sequential_7\"\n",
            "_________________________________________________________________\n",
            " Layer (type)                Output Shape              Param #   \n",
            "=================================================================\n",
            " lstm_21 (LSTM)              (None, 100, 50)           10400     \n",
            "                                                                 \n",
            " lstm_22 (LSTM)              (None, 100, 50)           20200     \n",
            "                                                                 \n",
            " lstm_23 (LSTM)              (None, 50)                20200     \n",
            "                                                                 \n",
            " dense_7 (Dense)             (None, 1)                 51        \n",
            "                                                                 \n",
            "=================================================================\n",
            "Total params: 50,851\n",
            "Trainable params: 50,851\n",
            "Non-trainable params: 0\n",
            "_________________________________________________________________\n"
          ]
        }
      ]
    },
    {
      "cell_type": "code",
      "source": [
        "model.compile(loss='mean_squared_error', optimizer='adam', metrics=['accuracy'])"
      ],
      "metadata": {
        "id": "INudJwBfuSEp"
      },
      "execution_count": 284,
      "outputs": []
    },
    {
      "cell_type": "code",
      "source": [
        "model.fit(X_train,y_train,validation_data=(X_test,ytest), epochs=100, batch_size=64, verbose=1)"
      ],
      "metadata": {
        "colab": {
          "base_uri": "https://localhost:8080/"
        },
        "id": "rEgq18d4ub7e",
        "outputId": "97bf2540-7139-4729-9f23-bebf9796d69c"
      },
      "execution_count": 285,
      "outputs": [
        {
          "output_type": "stream",
          "name": "stdout",
          "text": [
            "Epoch 1/100\n",
            "12/12 [==============================] - 7s 120ms/step - loss: 0.0352 - accuracy: 0.0014 - val_loss: 0.0013 - val_accuracy: 0.0000e+00\n",
            "Epoch 2/100\n",
            "12/12 [==============================] - 0s 22ms/step - loss: 0.0129 - accuracy: 0.0028 - val_loss: 6.6033e-04 - val_accuracy: 0.0000e+00\n",
            "Epoch 3/100\n",
            "12/12 [==============================] - 0s 24ms/step - loss: 0.0095 - accuracy: 0.0028 - val_loss: 6.2997e-04 - val_accuracy: 0.0000e+00\n",
            "Epoch 4/100\n",
            "12/12 [==============================] - 0s 17ms/step - loss: 0.0085 - accuracy: 0.0028 - val_loss: 3.9009e-04 - val_accuracy: 0.0000e+00\n",
            "Epoch 5/100\n",
            "12/12 [==============================] - 0s 18ms/step - loss: 0.0074 - accuracy: 0.0028 - val_loss: 3.6643e-04 - val_accuracy: 0.0000e+00\n",
            "Epoch 6/100\n",
            "12/12 [==============================] - 0s 21ms/step - loss: 0.0072 - accuracy: 0.0028 - val_loss: 4.3023e-04 - val_accuracy: 0.0000e+00\n",
            "Epoch 7/100\n",
            "12/12 [==============================] - 0s 21ms/step - loss: 0.0067 - accuracy: 0.0028 - val_loss: 4.7119e-04 - val_accuracy: 0.0000e+00\n",
            "Epoch 8/100\n",
            "12/12 [==============================] - 0s 18ms/step - loss: 0.0055 - accuracy: 0.0028 - val_loss: 3.7244e-04 - val_accuracy: 0.0000e+00\n",
            "Epoch 9/100\n",
            "12/12 [==============================] - 0s 20ms/step - loss: 0.0050 - accuracy: 0.0028 - val_loss: 3.8331e-04 - val_accuracy: 0.0000e+00\n",
            "Epoch 10/100\n",
            "12/12 [==============================] - 0s 19ms/step - loss: 0.0047 - accuracy: 0.0028 - val_loss: 3.3674e-04 - val_accuracy: 0.0000e+00\n",
            "Epoch 11/100\n",
            "12/12 [==============================] - 0s 18ms/step - loss: 0.0047 - accuracy: 0.0028 - val_loss: 4.4518e-04 - val_accuracy: 0.0000e+00\n",
            "Epoch 12/100\n",
            "12/12 [==============================] - 0s 18ms/step - loss: 0.0044 - accuracy: 0.0028 - val_loss: 6.0010e-04 - val_accuracy: 0.0000e+00\n",
            "Epoch 13/100\n",
            "12/12 [==============================] - 0s 19ms/step - loss: 0.0038 - accuracy: 0.0028 - val_loss: 3.4479e-04 - val_accuracy: 0.0000e+00\n",
            "Epoch 14/100\n",
            "12/12 [==============================] - 0s 18ms/step - loss: 0.0035 - accuracy: 0.0028 - val_loss: 3.0399e-04 - val_accuracy: 0.0000e+00\n",
            "Epoch 15/100\n",
            "12/12 [==============================] - 0s 18ms/step - loss: 0.0037 - accuracy: 0.0028 - val_loss: 8.2769e-04 - val_accuracy: 0.0000e+00\n",
            "Epoch 16/100\n",
            "12/12 [==============================] - 0s 22ms/step - loss: 0.0046 - accuracy: 0.0028 - val_loss: 2.5339e-04 - val_accuracy: 0.0000e+00\n",
            "Epoch 17/100\n",
            "12/12 [==============================] - 0s 20ms/step - loss: 0.0043 - accuracy: 0.0028 - val_loss: 2.6718e-04 - val_accuracy: 0.0000e+00\n",
            "Epoch 18/100\n",
            "12/12 [==============================] - 0s 18ms/step - loss: 0.0036 - accuracy: 0.0028 - val_loss: 3.0029e-04 - val_accuracy: 0.0000e+00\n",
            "Epoch 19/100\n",
            "12/12 [==============================] - 0s 24ms/step - loss: 0.0037 - accuracy: 0.0028 - val_loss: 3.1812e-04 - val_accuracy: 0.0000e+00\n",
            "Epoch 20/100\n",
            "12/12 [==============================] - 0s 22ms/step - loss: 0.0035 - accuracy: 0.0028 - val_loss: 2.7626e-04 - val_accuracy: 0.0000e+00\n",
            "Epoch 21/100\n",
            "12/12 [==============================] - 0s 29ms/step - loss: 0.0028 - accuracy: 0.0028 - val_loss: 3.2837e-04 - val_accuracy: 0.0000e+00\n",
            "Epoch 22/100\n",
            "12/12 [==============================] - 0s 26ms/step - loss: 0.0027 - accuracy: 0.0028 - val_loss: 4.4867e-04 - val_accuracy: 0.0000e+00\n",
            "Epoch 23/100\n",
            "12/12 [==============================] - 0s 27ms/step - loss: 0.0036 - accuracy: 0.0014 - val_loss: 3.4898e-04 - val_accuracy: 0.0000e+00\n",
            "Epoch 24/100\n",
            "12/12 [==============================] - 0s 26ms/step - loss: 0.0027 - accuracy: 0.0028 - val_loss: 3.6059e-04 - val_accuracy: 0.0000e+00\n",
            "Epoch 25/100\n",
            "12/12 [==============================] - 0s 26ms/step - loss: 0.0023 - accuracy: 0.0028 - val_loss: 4.5095e-04 - val_accuracy: 0.0000e+00\n",
            "Epoch 26/100\n",
            "12/12 [==============================] - 0s 27ms/step - loss: 0.0021 - accuracy: 0.0028 - val_loss: 2.8701e-04 - val_accuracy: 0.0000e+00\n",
            "Epoch 27/100\n",
            "12/12 [==============================] - 0s 26ms/step - loss: 0.0022 - accuracy: 0.0028 - val_loss: 2.5610e-04 - val_accuracy: 0.0000e+00\n",
            "Epoch 28/100\n",
            "12/12 [==============================] - 0s 29ms/step - loss: 0.0020 - accuracy: 0.0028 - val_loss: 2.8956e-04 - val_accuracy: 0.0000e+00\n",
            "Epoch 29/100\n",
            "12/12 [==============================] - 0s 26ms/step - loss: 0.0023 - accuracy: 0.0028 - val_loss: 2.6781e-04 - val_accuracy: 0.0000e+00\n",
            "Epoch 30/100\n",
            "12/12 [==============================] - 0s 25ms/step - loss: 0.0022 - accuracy: 0.0028 - val_loss: 2.9057e-04 - val_accuracy: 0.0000e+00\n",
            "Epoch 31/100\n",
            "12/12 [==============================] - 0s 18ms/step - loss: 0.0022 - accuracy: 0.0028 - val_loss: 2.8731e-04 - val_accuracy: 0.0000e+00\n",
            "Epoch 32/100\n",
            "12/12 [==============================] - 0s 21ms/step - loss: 0.0024 - accuracy: 0.0028 - val_loss: 2.8570e-04 - val_accuracy: 0.0000e+00\n",
            "Epoch 33/100\n",
            "12/12 [==============================] - 0s 19ms/step - loss: 0.0030 - accuracy: 0.0028 - val_loss: 7.3332e-04 - val_accuracy: 0.0000e+00\n",
            "Epoch 34/100\n",
            "12/12 [==============================] - 0s 22ms/step - loss: 0.0028 - accuracy: 0.0028 - val_loss: 4.0621e-04 - val_accuracy: 0.0000e+00\n",
            "Epoch 35/100\n",
            "12/12 [==============================] - 0s 23ms/step - loss: 0.0029 - accuracy: 0.0028 - val_loss: 6.1465e-04 - val_accuracy: 0.0000e+00\n",
            "Epoch 36/100\n",
            "12/12 [==============================] - 0s 18ms/step - loss: 0.0020 - accuracy: 0.0028 - val_loss: 3.0741e-04 - val_accuracy: 0.0000e+00\n",
            "Epoch 37/100\n",
            "12/12 [==============================] - 0s 19ms/step - loss: 0.0017 - accuracy: 0.0028 - val_loss: 2.9878e-04 - val_accuracy: 0.0000e+00\n",
            "Epoch 38/100\n",
            "12/12 [==============================] - 0s 22ms/step - loss: 0.0018 - accuracy: 0.0028 - val_loss: 2.8417e-04 - val_accuracy: 0.0000e+00\n",
            "Epoch 39/100\n",
            "12/12 [==============================] - 0s 19ms/step - loss: 0.0020 - accuracy: 0.0028 - val_loss: 2.5740e-04 - val_accuracy: 0.0000e+00\n",
            "Epoch 40/100\n",
            "12/12 [==============================] - 0s 20ms/step - loss: 0.0016 - accuracy: 0.0028 - val_loss: 2.6549e-04 - val_accuracy: 0.0000e+00\n",
            "Epoch 41/100\n",
            "12/12 [==============================] - 0s 19ms/step - loss: 0.0044 - accuracy: 0.0028 - val_loss: 2.6683e-04 - val_accuracy: 0.0000e+00\n",
            "Epoch 42/100\n",
            "12/12 [==============================] - 0s 19ms/step - loss: 0.0043 - accuracy: 0.0028 - val_loss: 3.6728e-04 - val_accuracy: 0.0000e+00\n",
            "Epoch 43/100\n",
            "12/12 [==============================] - 0s 21ms/step - loss: 0.0027 - accuracy: 0.0028 - val_loss: 6.0174e-04 - val_accuracy: 0.0000e+00\n",
            "Epoch 44/100\n",
            "12/12 [==============================] - 0s 19ms/step - loss: 0.0030 - accuracy: 0.0028 - val_loss: 3.3425e-04 - val_accuracy: 0.0000e+00\n",
            "Epoch 45/100\n",
            "12/12 [==============================] - 0s 19ms/step - loss: 0.0020 - accuracy: 0.0028 - val_loss: 2.7565e-04 - val_accuracy: 0.0000e+00\n",
            "Epoch 46/100\n",
            "12/12 [==============================] - 0s 19ms/step - loss: 0.0028 - accuracy: 0.0028 - val_loss: 3.6386e-04 - val_accuracy: 0.0000e+00\n",
            "Epoch 47/100\n",
            "12/12 [==============================] - 0s 20ms/step - loss: 0.0021 - accuracy: 0.0028 - val_loss: 3.4768e-04 - val_accuracy: 0.0000e+00\n",
            "Epoch 48/100\n",
            "12/12 [==============================] - 0s 20ms/step - loss: 0.0031 - accuracy: 0.0014 - val_loss: 2.8285e-04 - val_accuracy: 0.0000e+00\n",
            "Epoch 49/100\n",
            "12/12 [==============================] - 0s 18ms/step - loss: 0.0027 - accuracy: 0.0028 - val_loss: 2.7721e-04 - val_accuracy: 0.0000e+00\n",
            "Epoch 50/100\n",
            "12/12 [==============================] - 0s 19ms/step - loss: 0.0022 - accuracy: 0.0028 - val_loss: 2.5926e-04 - val_accuracy: 0.0000e+00\n",
            "Epoch 51/100\n",
            "12/12 [==============================] - 0s 23ms/step - loss: 0.0018 - accuracy: 0.0028 - val_loss: 2.5393e-04 - val_accuracy: 0.0000e+00\n",
            "Epoch 52/100\n",
            "12/12 [==============================] - 0s 20ms/step - loss: 0.0021 - accuracy: 0.0028 - val_loss: 2.5918e-04 - val_accuracy: 0.0000e+00\n",
            "Epoch 53/100\n",
            "12/12 [==============================] - 0s 19ms/step - loss: 0.0018 - accuracy: 0.0028 - val_loss: 2.8941e-04 - val_accuracy: 0.0000e+00\n",
            "Epoch 54/100\n",
            "12/12 [==============================] - 0s 21ms/step - loss: 0.0032 - accuracy: 0.0028 - val_loss: 4.0766e-04 - val_accuracy: 0.0000e+00\n",
            "Epoch 55/100\n",
            "12/12 [==============================] - 0s 22ms/step - loss: 0.0020 - accuracy: 0.0028 - val_loss: 4.8074e-04 - val_accuracy: 0.0000e+00\n",
            "Epoch 56/100\n",
            "12/12 [==============================] - 0s 19ms/step - loss: 0.0019 - accuracy: 0.0028 - val_loss: 2.4921e-04 - val_accuracy: 0.0000e+00\n",
            "Epoch 57/100\n",
            "12/12 [==============================] - 0s 18ms/step - loss: 0.0019 - accuracy: 0.0028 - val_loss: 2.8562e-04 - val_accuracy: 0.0000e+00\n",
            "Epoch 58/100\n",
            "12/12 [==============================] - 0s 18ms/step - loss: 0.0025 - accuracy: 0.0028 - val_loss: 2.8387e-04 - val_accuracy: 0.0000e+00\n",
            "Epoch 59/100\n",
            "12/12 [==============================] - 0s 21ms/step - loss: 0.0045 - accuracy: 0.0014 - val_loss: 2.9843e-04 - val_accuracy: 0.0000e+00\n",
            "Epoch 60/100\n",
            "12/12 [==============================] - 0s 21ms/step - loss: 0.0042 - accuracy: 0.0028 - val_loss: 3.6590e-04 - val_accuracy: 0.0000e+00\n",
            "Epoch 61/100\n",
            "12/12 [==============================] - 0s 20ms/step - loss: 0.0033 - accuracy: 0.0028 - val_loss: 2.7117e-04 - val_accuracy: 0.0000e+00\n",
            "Epoch 62/100\n",
            "12/12 [==============================] - 0s 19ms/step - loss: 0.0028 - accuracy: 0.0028 - val_loss: 2.8742e-04 - val_accuracy: 0.0000e+00\n",
            "Epoch 63/100\n",
            "12/12 [==============================] - 0s 19ms/step - loss: 0.0024 - accuracy: 0.0028 - val_loss: 2.8973e-04 - val_accuracy: 0.0000e+00\n",
            "Epoch 64/100\n",
            "12/12 [==============================] - 0s 19ms/step - loss: 0.0021 - accuracy: 0.0028 - val_loss: 2.4786e-04 - val_accuracy: 0.0000e+00\n",
            "Epoch 65/100\n",
            "12/12 [==============================] - 0s 19ms/step - loss: 0.0020 - accuracy: 0.0028 - val_loss: 2.4292e-04 - val_accuracy: 0.0000e+00\n",
            "Epoch 66/100\n",
            "12/12 [==============================] - 0s 19ms/step - loss: 0.0018 - accuracy: 0.0028 - val_loss: 2.5401e-04 - val_accuracy: 0.0000e+00\n",
            "Epoch 67/100\n",
            "12/12 [==============================] - 0s 18ms/step - loss: 0.0020 - accuracy: 0.0028 - val_loss: 2.6828e-04 - val_accuracy: 0.0000e+00\n",
            "Epoch 68/100\n",
            "12/12 [==============================] - 0s 20ms/step - loss: 0.0020 - accuracy: 0.0028 - val_loss: 2.4079e-04 - val_accuracy: 0.0000e+00\n",
            "Epoch 69/100\n",
            "12/12 [==============================] - 0s 18ms/step - loss: 0.0017 - accuracy: 0.0028 - val_loss: 2.3817e-04 - val_accuracy: 0.0000e+00\n",
            "Epoch 70/100\n",
            "12/12 [==============================] - 0s 20ms/step - loss: 0.0022 - accuracy: 0.0028 - val_loss: 3.1786e-04 - val_accuracy: 0.0000e+00\n",
            "Epoch 71/100\n",
            "12/12 [==============================] - 0s 19ms/step - loss: 0.0021 - accuracy: 0.0028 - val_loss: 3.6605e-04 - val_accuracy: 0.0000e+00\n",
            "Epoch 72/100\n",
            "12/12 [==============================] - 0s 27ms/step - loss: 0.0020 - accuracy: 0.0028 - val_loss: 2.3665e-04 - val_accuracy: 0.0000e+00\n",
            "Epoch 73/100\n",
            "12/12 [==============================] - 0s 27ms/step - loss: 0.0016 - accuracy: 0.0028 - val_loss: 3.3127e-04 - val_accuracy: 0.0000e+00\n",
            "Epoch 74/100\n",
            "12/12 [==============================] - 0s 26ms/step - loss: 0.0015 - accuracy: 0.0028 - val_loss: 2.3215e-04 - val_accuracy: 0.0000e+00\n",
            "Epoch 75/100\n",
            "12/12 [==============================] - 0s 26ms/step - loss: 0.0015 - accuracy: 0.0028 - val_loss: 2.6911e-04 - val_accuracy: 0.0000e+00\n",
            "Epoch 76/100\n",
            "12/12 [==============================] - 0s 26ms/step - loss: 0.0014 - accuracy: 0.0028 - val_loss: 2.3740e-04 - val_accuracy: 0.0000e+00\n",
            "Epoch 77/100\n",
            "12/12 [==============================] - 0s 26ms/step - loss: 0.0013 - accuracy: 0.0028 - val_loss: 2.4377e-04 - val_accuracy: 0.0000e+00\n",
            "Epoch 78/100\n",
            "12/12 [==============================] - 0s 27ms/step - loss: 0.0013 - accuracy: 0.0028 - val_loss: 2.4234e-04 - val_accuracy: 0.0000e+00\n",
            "Epoch 79/100\n",
            "12/12 [==============================] - 0s 26ms/step - loss: 0.0013 - accuracy: 0.0028 - val_loss: 2.3584e-04 - val_accuracy: 0.0000e+00\n",
            "Epoch 80/100\n",
            "12/12 [==============================] - 0s 26ms/step - loss: 0.0014 - accuracy: 0.0028 - val_loss: 3.6300e-04 - val_accuracy: 0.0000e+00\n",
            "Epoch 81/100\n",
            "12/12 [==============================] - 0s 24ms/step - loss: 0.0015 - accuracy: 0.0028 - val_loss: 2.3744e-04 - val_accuracy: 0.0000e+00\n",
            "Epoch 82/100\n",
            "12/12 [==============================] - 0s 19ms/step - loss: 0.0013 - accuracy: 0.0028 - val_loss: 2.3304e-04 - val_accuracy: 0.0000e+00\n",
            "Epoch 83/100\n",
            "12/12 [==============================] - 0s 18ms/step - loss: 0.0014 - accuracy: 0.0028 - val_loss: 2.4745e-04 - val_accuracy: 0.0000e+00\n",
            "Epoch 84/100\n",
            "12/12 [==============================] - 0s 18ms/step - loss: 0.0011 - accuracy: 0.0028 - val_loss: 2.4486e-04 - val_accuracy: 0.0000e+00\n",
            "Epoch 85/100\n",
            "12/12 [==============================] - 0s 19ms/step - loss: 0.0012 - accuracy: 0.0028 - val_loss: 2.3949e-04 - val_accuracy: 0.0000e+00\n",
            "Epoch 86/100\n",
            "12/12 [==============================] - 0s 21ms/step - loss: 0.0013 - accuracy: 0.0028 - val_loss: 2.5012e-04 - val_accuracy: 0.0000e+00\n",
            "Epoch 87/100\n",
            "12/12 [==============================] - 0s 18ms/step - loss: 0.0011 - accuracy: 0.0028 - val_loss: 2.9302e-04 - val_accuracy: 0.0000e+00\n",
            "Epoch 88/100\n",
            "12/12 [==============================] - 0s 19ms/step - loss: 0.0013 - accuracy: 0.0028 - val_loss: 2.3251e-04 - val_accuracy: 0.0000e+00\n",
            "Epoch 89/100\n",
            "12/12 [==============================] - 0s 20ms/step - loss: 0.0014 - accuracy: 0.0028 - val_loss: 2.6535e-04 - val_accuracy: 0.0000e+00\n",
            "Epoch 90/100\n",
            "12/12 [==============================] - 0s 19ms/step - loss: 0.0013 - accuracy: 0.0028 - val_loss: 2.4154e-04 - val_accuracy: 0.0000e+00\n",
            "Epoch 91/100\n",
            "12/12 [==============================] - 0s 19ms/step - loss: 0.0014 - accuracy: 0.0028 - val_loss: 2.6011e-04 - val_accuracy: 0.0000e+00\n",
            "Epoch 92/100\n",
            "12/12 [==============================] - 0s 21ms/step - loss: 0.0012 - accuracy: 0.0028 - val_loss: 2.3736e-04 - val_accuracy: 0.0000e+00\n",
            "Epoch 93/100\n",
            "12/12 [==============================] - 0s 21ms/step - loss: 0.0012 - accuracy: 0.0028 - val_loss: 2.4201e-04 - val_accuracy: 0.0000e+00\n",
            "Epoch 94/100\n",
            "12/12 [==============================] - 0s 18ms/step - loss: 0.0012 - accuracy: 0.0028 - val_loss: 3.5374e-04 - val_accuracy: 0.0000e+00\n",
            "Epoch 95/100\n",
            "12/12 [==============================] - 0s 22ms/step - loss: 0.0014 - accuracy: 0.0028 - val_loss: 2.4342e-04 - val_accuracy: 0.0000e+00\n",
            "Epoch 96/100\n",
            "12/12 [==============================] - 0s 18ms/step - loss: 0.0013 - accuracy: 0.0028 - val_loss: 2.3312e-04 - val_accuracy: 0.0000e+00\n",
            "Epoch 97/100\n",
            "12/12 [==============================] - 0s 18ms/step - loss: 0.0012 - accuracy: 0.0028 - val_loss: 2.4245e-04 - val_accuracy: 0.0000e+00\n",
            "Epoch 98/100\n",
            "12/12 [==============================] - 0s 20ms/step - loss: 0.0013 - accuracy: 0.0028 - val_loss: 2.5222e-04 - val_accuracy: 0.0000e+00\n",
            "Epoch 99/100\n",
            "12/12 [==============================] - 0s 19ms/step - loss: 0.0011 - accuracy: 0.0028 - val_loss: 2.4095e-04 - val_accuracy: 0.0000e+00\n",
            "Epoch 100/100\n",
            "12/12 [==============================] - 0s 19ms/step - loss: 9.8617e-04 - accuracy: 0.0028 - val_loss: 2.3062e-04 - val_accuracy: 0.0000e+00\n"
          ]
        },
        {
          "output_type": "execute_result",
          "data": {
            "text/plain": [
              "<keras.callbacks.History at 0x7f78544a3eb0>"
            ]
          },
          "metadata": {},
          "execution_count": 285
        }
      ]
    },
    {
      "cell_type": "code",
      "source": [
        "import tensorflow as tf\n",
        "tf.__version__"
      ],
      "metadata": {
        "colab": {
          "base_uri": "https://localhost:8080/",
          "height": 36
        },
        "id": "mFk6R-93wqfq",
        "outputId": "d0f12fbb-b746-4f1a-dec6-1b5749c2c871"
      },
      "execution_count": 286,
      "outputs": [
        {
          "output_type": "execute_result",
          "data": {
            "text/plain": [
              "'2.11.0'"
            ],
            "application/vnd.google.colaboratory.intrinsic+json": {
              "type": "string"
            }
          },
          "metadata": {},
          "execution_count": 286
        }
      ]
    },
    {
      "cell_type": "code",
      "source": [
        "## Lets Do the prediction and check performance metrics\n",
        "train_predict = model.predict(X_train)\n",
        "test_predict = model.predict(X_test)"
      ],
      "metadata": {
        "colab": {
          "base_uri": "https://localhost:8080/"
        },
        "id": "rbAyza3xwzAC",
        "outputId": "95863bde-819f-4171-a4e2-f6eb0ed60c57"
      },
      "execution_count": 287,
      "outputs": [
        {
          "output_type": "stream",
          "name": "stdout",
          "text": [
            "23/23 [==============================] - 1s 6ms/step\n",
            "11/11 [==============================] - 0s 6ms/step\n"
          ]
        }
      ]
    },
    {
      "cell_type": "code",
      "source": [
        "train_predict=scaler.inverse_transform(train_predict)\n",
        "test_predict=scaler.inverse_transform(test_predict)"
      ],
      "metadata": {
        "id": "c-bgW4VAxGgY"
      },
      "execution_count": 288,
      "outputs": []
    },
    {
      "cell_type": "code",
      "source": [],
      "metadata": {
        "id": "-MwXvCcklBMy"
      },
      "execution_count": 288,
      "outputs": []
    },
    {
      "cell_type": "code",
      "source": [
        "import math\n",
        "from sklearn.metrics import mean_squared_error\n",
        "math.sqrt(mean_squared_error(y_train, train_predict))"
      ],
      "metadata": {
        "colab": {
          "base_uri": "https://localhost:8080/"
        },
        "id": "OamVIaFTxvGA",
        "outputId": "c878671e-c5ae-4857-a5bb-b8e21dfb81d1"
      },
      "execution_count": 289,
      "outputs": [
        {
          "output_type": "execute_result",
          "data": {
            "text/plain": [
              "226.3260899320295"
            ]
          },
          "metadata": {},
          "execution_count": 289
        }
      ]
    },
    {
      "cell_type": "code",
      "source": [
        "# Test Data RMSE\n",
        "math.sqrt(mean_squared_error(ytest, test_predict))"
      ],
      "metadata": {
        "colab": {
          "base_uri": "https://localhost:8080/"
        },
        "id": "3-B08sI2x8k1",
        "outputId": "1a4f35d1-9357-4cb9-a4fe-603049a08bb7"
      },
      "execution_count": 290,
      "outputs": [
        {
          "output_type": "execute_result",
          "data": {
            "text/plain": [
              "155.65155822890242"
            ]
          },
          "metadata": {},
          "execution_count": 290
        }
      ]
    },
    {
      "cell_type": "code",
      "source": [
        "#from sklearn.metrics import accuracy_score\n",
        "#model_acc = accuracy_score(ytest, test_predict)"
      ],
      "metadata": {
        "id": "fkPTUAYTlVB0"
      },
      "execution_count": 291,
      "outputs": []
    },
    {
      "cell_type": "markdown",
      "source": [
        "Since the value is around 157 the prediction might be good."
      ],
      "metadata": {
        "id": "gY4u2-ekz60q"
      }
    },
    {
      "cell_type": "code",
      "source": [
        "#Plotting\n",
        "#shift train predictions for plotting\n",
        "look_back = 100\n",
        "trainPredictPlot = numpy.empty_like(df1)\n",
        "trainPredictPlot[:, :] = np.nan\n",
        "trainPredictPlot[look_back:len(train_predict)+look_back, :] = train_predict\n",
        "#shift test predict for plotting\n",
        "testPredictPlot = numpy.empty_like(df1)\n",
        "testPredictPlot[:, :] = numpy.nan\n",
        "testPredictPlot[len(train_predict)+(look_back*2):len(df1), :] = test_predict\n",
        "#plot baseline and predictions\n",
        "plt.plot(scaler.inverse_transform(df1))\n",
        "plt.plot(trainPredictPlot)\n",
        "plt.plot(testPredictPlot)\n",
        "plt.show()"
      ],
      "metadata": {
        "colab": {
          "base_uri": "https://localhost:8080/",
          "height": 265
        },
        "id": "F1N0g1Nlz4Rs",
        "outputId": "663110d1-3533-45c9-cd24-22fa73564c0e"
      },
      "execution_count": 292,
      "outputs": [
        {
          "output_type": "display_data",
          "data": {
            "text/plain": [
              "<Figure size 432x288 with 1 Axes>"
            ],
            "image/png": "[encoded data removed]"
          },
          "metadata": {
            "needs_background": "light"
          }
        }
      ]
    },
    {
      "cell_type": "markdown",
      "source": [
        "We have predicted the output. And next we are going to be predicting the next future 30 days"
      ],
      "metadata": {
        "id": "2Q3_7dql3QND"
      }
    },
    {
      "cell_type": "code",
      "source": [
        "len(test_data)"
      ],
      "metadata": {
        "colab": {
          "base_uri": "https://localhost:8080/"
        },
        "id": "4B4_DyB232u3",
        "outputId": "8a073a75-2bd3-4487-9d37-24a8cb0988cb"
      },
      "execution_count": 293,
      "outputs": [
        {
          "output_type": "execute_result",
          "data": {
            "text/plain": [
              "441"
            ]
          },
          "metadata": {},
          "execution_count": 293
        }
      ]
    },
    {
      "cell_type": "code",
      "source": [
        "x_input=test_data[340:].reshape(1,-1)\n",
        "x_input.shape"
      ],
      "metadata": {
        "colab": {
          "base_uri": "https://localhost:8080/"
        },
        "id": "OSyRVuRK3L1f",
        "outputId": "e7001769-07ae-4ca3-84f4-97c816920013"
      },
      "execution_count": 294,
      "outputs": [
        {
          "output_type": "execute_result",
          "data": {
            "text/plain": [
              "(1, 101)"
            ]
          },
          "metadata": {},
          "execution_count": 294
        }
      ]
    },
    {
      "cell_type": "code",
      "source": [
        "x_input=test_data[340:].reshape(1,-1)"
      ],
      "metadata": {
        "id": "sUlmgJBI3mCZ"
      },
      "execution_count": 295,
      "outputs": []
    },
    {
      "cell_type": "code",
      "source": [
        "x_input.shape"
      ],
      "metadata": {
        "colab": {
          "base_uri": "https://localhost:8080/"
        },
        "id": "vK-LRI5G3tyR",
        "outputId": "2b3579a8-1429-4f95-c838-f7c221d13f60"
      },
      "execution_count": 296,
      "outputs": [
        {
          "output_type": "execute_result",
          "data": {
            "text/plain": [
              "(1, 101)"
            ]
          },
          "metadata": {},
          "execution_count": 296
        }
      ]
    },
    {
      "cell_type": "code",
      "source": [
        "temp_input = list(x_input)\n",
        "temp_input = temp_input[0].tolist()"
      ],
      "metadata": {
        "id": "NTrtjHmdENq_"
      },
      "execution_count": 297,
      "outputs": []
    },
    {
      "cell_type": "code",
      "source": [
        "len(temp_input)"
      ],
      "metadata": {
        "colab": {
          "base_uri": "https://localhost:8080/"
        },
        "id": "9ee9KWXPGoU7",
        "outputId": "994d2e2d-61b9-446b-afa4-3309c442521a"
      },
      "execution_count": 298,
      "outputs": [
        {
          "output_type": "execute_result",
          "data": {
            "text/plain": [
              "101"
            ]
          },
          "metadata": {},
          "execution_count": 298
        }
      ]
    },
    {
      "cell_type": "code",
      "source": [
        "from numpy import array\n",
        "\n",
        "lst_output=[]\n",
        "n_steps = 100\n",
        "i=0\n",
        "while(i<30):\n",
        "  if(len(temp_input)>100):\n",
        "    #print(temp_input)\n",
        "    x_input=np.array(temp_input[1:])\n",
        "    print(\"{} day input {}\".format(i,x_input))\n",
        "    x_input=x_input.reshape(1,-1)\n",
        "    x_input=x_input.reshape((1,n_steps,1))\n",
        "    #print(x_input)\n",
        "    yhat = model.predict(x_input, verbose=0)\n",
        "    print(\"{} day output {}\".format(i,yhat))\n",
        "    temp_input.extend(yhat[0].tolist())\n",
        "    temp_input=temp_input[1:]\n",
        "    #print(temp_input)\n",
        "    lst_output.extend(yhat.tolist())\n",
        "    i=i+1\n",
        "  else:\n",
        "    x_input=x_input.reshape((1, n_steps,1))\n",
        "    yhat = model.predict(x_input,verbose=0)\n",
        "    print(yhat[0])\n",
        "    temp_input.extend(yhat[0].tolist())\n",
        "    print(len(temp_input))\n",
        "    lst_output.extend(yhat.tolist())\n",
        "    i=i+1\n",
        "\n",
        "print(lst_output)"
      ],
      "metadata": {
        "colab": {
          "base_uri": "https://localhost:8080/"
        },
        "id": "D0MwcRLQEZ1A",
        "outputId": "970f5ba0-d5f1-492b-e1e9-93d064a2accd"
      },
      "execution_count": 299,
      "outputs": [
        {
          "output_type": "stream",
          "name": "stdout",
          "text": [
            "0 day input [0.11646838 0.10973075 0.09565435 0.08025047 0.07899812 0.08035066\n",
            " 0.08180338 0.07020664 0.10026299 0.10735128 0.10379461 0.10820288\n",
            " 0.10507201 0.10990607 0.11133375 0.10311835 0.10855354 0.11078272\n",
            " 0.10336882 0.09362555 0.08598622 0.10316844 0.10386976 0.10261741\n",
            " 0.09966187 0.0903444  0.08541014 0.08969317 0.08846587 0.09430182\n",
            " 0.09675642 0.0910958  0.07428929 0.06930495 0.0639449  0.06376957\n",
            " 0.07165936 0.06359424 0.0626675  0.05808391 0.04809017 0.05703193\n",
            " 0.05783344 0.04566061 0.04889167 0.04553538 0.05705698 0.05838447\n",
            " 0.05983719 0.06675016 0.06654978 0.06993112 0.07288666 0.07105823\n",
            " 0.07120852 0.07772073 0.08583594 0.08939261 0.08771446 0.09297433\n",
            " 0.09790858 0.09056982 0.09380088 0.09665623 0.11015654 0.11937383\n",
            " 0.11243582 0.11974953 0.11291171 0.11028178 0.11063244 0.11774577\n",
            " 0.11611772 0.12145272 0.11739512 0.11448967 0.10429555 0.10537257\n",
            " 0.10659987 0.09986224 0.10289292 0.10161553 0.09635567 0.09785848\n",
            " 0.11068253 0.11769568 0.11211021 0.11529117 0.10958046 0.10434565\n",
            " 0.1092799  0.11458986 0.11559173 0.12275517 0.12062617 0.12663745\n",
            " 0.13134627 0.12771446 0.13046963 0.13377583]\n",
            "0 day output [[0.12486332]]\n",
            "1 day input [0.10973075 0.09565435 0.08025047 0.07899812 0.08035066 0.08180338\n",
            " 0.07020664 0.10026299 0.10735128 0.10379461 0.10820288 0.10507201\n",
            " 0.10990607 0.11133375 0.10311835 0.10855354 0.11078272 0.10336882\n",
            " 0.09362555 0.08598622 0.10316844 0.10386976 0.10261741 0.09966187\n",
            " 0.0903444  0.08541014 0.08969317 0.08846587 0.09430182 0.09675642\n",
            " 0.0910958  0.07428929 0.06930495 0.0639449  0.06376957 0.07165936\n",
            " 0.06359424 0.0626675  0.05808391 0.04809017 0.05703193 0.05783344\n",
            " 0.04566061 0.04889167 0.04553538 0.05705698 0.05838447 0.05983719\n",
            " 0.06675016 0.06654978 0.06993112 0.07288666 0.07105823 0.07120852\n",
            " 0.07772073 0.08583594 0.08939261 0.08771446 0.09297433 0.09790858\n",
            " 0.09056982 0.09380088 0.09665623 0.11015654 0.11937383 0.11243582\n",
            " 0.11974953 0.11291171 0.11028178 0.11063244 0.11774577 0.11611772\n",
            " 0.12145272 0.11739512 0.11448967 0.10429555 0.10537257 0.10659987\n",
            " 0.09986224 0.10289292 0.10161553 0.09635567 0.09785848 0.11068253\n",
            " 0.11769568 0.11211021 0.11529117 0.10958046 0.10434565 0.1092799\n",
            " 0.11458986 0.11559173 0.12275517 0.12062617 0.12663745 0.13134627\n",
            " 0.12771446 0.13046963 0.13377583 0.12486332]\n",
            "1 day output [[0.12650768]]\n",
            "2 day input [0.09565435 0.08025047 0.07899812 0.08035066 0.08180338 0.07020664\n",
            " 0.10026299 0.10735128 0.10379461 0.10820288 0.10507201 0.10990607\n",
            " 0.11133375 0.10311835 0.10855354 0.11078272 0.10336882 0.09362555\n",
            " 0.08598622 0.10316844 0.10386976 0.10261741 0.09966187 0.0903444\n",
            " 0.08541014 0.08969317 0.08846587 0.09430182 0.09675642 0.0910958\n",
            " 0.07428929 0.06930495 0.0639449  0.06376957 0.07165936 0.06359424\n",
            " 0.0626675  0.05808391 0.04809017 0.05703193 0.05783344 0.04566061\n",
            " 0.04889167 0.04553538 0.05705698 0.05838447 0.05983719 0.06675016\n",
            " 0.06654978 0.06993112 0.07288666 0.07105823 0.07120852 0.07772073\n",
            " 0.08583594 0.08939261 0.08771446 0.09297433 0.09790858 0.09056982\n",
            " 0.09380088 0.09665623 0.11015654 0.11937383 0.11243582 0.11974953\n",
            " 0.11291171 0.11028178 0.11063244 0.11774577 0.11611772 0.12145272\n",
            " 0.11739512 0.11448967 0.10429555 0.10537257 0.10659987 0.09986224\n",
            " 0.10289292 0.10161553 0.09635567 0.09785848 0.11068253 0.11769568\n",
            " 0.11211021 0.11529117 0.10958046 0.10434565 0.1092799  0.11458986\n",
            " 0.11559173 0.12275517 0.12062617 0.12663745 0.13134627 0.12771446\n",
            " 0.13046963 0.13377583 0.12486332 0.12650768]\n",
            "2 day output [[0.12764546]]\n",
            "3 day input [0.08025047 0.07899812 0.08035066 0.08180338 0.07020664 0.10026299\n",
            " 0.10735128 0.10379461 0.10820288 0.10507201 0.10990607 0.11133375\n",
            " 0.10311835 0.10855354 0.11078272 0.10336882 0.09362555 0.08598622\n",
            " 0.10316844 0.10386976 0.10261741 0.09966187 0.0903444  0.08541014\n",
            " 0.08969317 0.08846587 0.09430182 0.09675642 0.0910958  0.07428929\n",
            " 0.06930495 0.0639449  0.06376957 0.07165936 0.06359424 0.0626675\n",
            " 0.05808391 0.04809017 0.05703193 0.05783344 0.04566061 0.04889167\n",
            " 0.04553538 0.05705698 0.05838447 0.05983719 0.06675016 0.06654978\n",
            " 0.06993112 0.07288666 0.07105823 0.07120852 0.07772073 0.08583594\n",
            " 0.08939261 0.08771446 0.09297433 0.09790858 0.09056982 0.09380088\n",
            " 0.09665623 0.11015654 0.11937383 0.11243582 0.11974953 0.11291171\n",
            " 0.11028178 0.11063244 0.11774577 0.11611772 0.12145272 0.11739512\n",
            " 0.11448967 0.10429555 0.10537257 0.10659987 0.09986224 0.10289292\n",
            " 0.10161553 0.09635567 0.09785848 0.11068253 0.11769568 0.11211021\n",
            " 0.11529117 0.10958046 0.10434565 0.1092799  0.11458986 0.11559173\n",
            " 0.12275517 0.12062617 0.12663745 0.13134627 0.12771446 0.13046963\n",
            " 0.13377583 0.12486332 0.12650768 0.12764546]\n",
            "3 day output [[0.12840897]]\n",
            "4 day input [0.07899812 0.08035066 0.08180338 0.07020664 0.10026299 0.10735128\n",
            " 0.10379461 0.10820288 0.10507201 0.10990607 0.11133375 0.10311835\n",
            " 0.10855354 0.11078272 0.10336882 0.09362555 0.08598622 0.10316844\n",
            " 0.10386976 0.10261741 0.09966187 0.0903444  0.08541014 0.08969317\n",
            " 0.08846587 0.09430182 0.09675642 0.0910958  0.07428929 0.06930495\n",
            " 0.0639449  0.06376957 0.07165936 0.06359424 0.0626675  0.05808391\n",
            " 0.04809017 0.05703193 0.05783344 0.04566061 0.04889167 0.04553538\n",
            " 0.05705698 0.05838447 0.05983719 0.06675016 0.06654978 0.06993112\n",
            " 0.07288666 0.07105823 0.07120852 0.07772073 0.08583594 0.08939261\n",
            " 0.08771446 0.09297433 0.09790858 0.09056982 0.09380088 0.09665623\n",
            " 0.11015654 0.11937383 0.11243582 0.11974953 0.11291171 0.11028178\n",
            " 0.11063244 0.11774577 0.11611772 0.12145272 0.11739512 0.11448967\n",
            " 0.10429555 0.10537257 0.10659987 0.09986224 0.10289292 0.10161553\n",
            " 0.09635567 0.09785848 0.11068253 0.11769568 0.11211021 0.11529117\n",
            " 0.10958046 0.10434565 0.1092799  0.11458986 0.11559173 0.12275517\n",
            " 0.12062617 0.12663745 0.13134627 0.12771446 0.13046963 0.13377583\n",
            " 0.12486332 0.12650768 0.12764546 0.12840897]\n",
            "4 day output [[0.12893037]]\n",
            "5 day input [0.08035066 0.08180338 0.07020664 0.10026299 0.10735128 0.10379461\n",
            " 0.10820288 0.10507201 0.10990607 0.11133375 0.10311835 0.10855354\n",
            " 0.11078272 0.10336882 0.09362555 0.08598622 0.10316844 0.10386976\n",
            " 0.10261741 0.09966187 0.0903444  0.08541014 0.08969317 0.08846587\n",
            " 0.09430182 0.09675642 0.0910958  0.07428929 0.06930495 0.0639449\n",
            " 0.06376957 0.07165936 0.06359424 0.0626675  0.05808391 0.04809017\n",
            " 0.05703193 0.05783344 0.04566061 0.04889167 0.04553538 0.05705698\n",
            " 0.05838447 0.05983719 0.06675016 0.06654978 0.06993112 0.07288666\n",
            " 0.07105823 0.07120852 0.07772073 0.08583594 0.08939261 0.08771446\n",
            " 0.09297433 0.09790858 0.09056982 0.09380088 0.09665623 0.11015654\n",
            " 0.11937383 0.11243582 0.11974953 0.11291171 0.11028178 0.11063244\n",
            " 0.11774577 0.11611772 0.12145272 0.11739512 0.11448967 0.10429555\n",
            " 0.10537257 0.10659987 0.09986224 0.10289292 0.10161553 0.09635567\n",
            " 0.09785848 0.11068253 0.11769568 0.11211021 0.11529117 0.10958046\n",
            " 0.10434565 0.1092799  0.11458986 0.11559173 0.12275517 0.12062617\n",
            " 0.12663745 0.13134627 0.12771446 0.13046963 0.13377583 0.12486332\n",
            " 0.12650768 0.12764546 0.12840897 0.12893037]\n",
            "5 day output [[0.12930465]]\n",
            "6 day input [0.08180338 0.07020664 0.10026299 0.10735128 0.10379461 0.10820288\n",
            " 0.10507201 0.10990607 0.11133375 0.10311835 0.10855354 0.11078272\n",
            " 0.10336882 0.09362555 0.08598622 0.10316844 0.10386976 0.10261741\n",
            " 0.09966187 0.0903444  0.08541014 0.08969317 0.08846587 0.09430182\n",
            " 0.09675642 0.0910958  0.07428929 0.06930495 0.0639449  0.06376957\n",
            " 0.07165936 0.06359424 0.0626675  0.05808391 0.04809017 0.05703193\n",
            " 0.05783344 0.04566061 0.04889167 0.04553538 0.05705698 0.05838447\n",
            " 0.05983719 0.06675016 0.06654978 0.06993112 0.07288666 0.07105823\n",
            " 0.07120852 0.07772073 0.08583594 0.08939261 0.08771446 0.09297433\n",
            " 0.09790858 0.09056982 0.09380088 0.09665623 0.11015654 0.11937383\n",
            " 0.11243582 0.11974953 0.11291171 0.11028178 0.11063244 0.11774577\n",
            " 0.11611772 0.12145272 0.11739512 0.11448967 0.10429555 0.10537257\n",
            " 0.10659987 0.09986224 0.10289292 0.10161553 0.09635567 0.09785848\n",
            " 0.11068253 0.11769568 0.11211021 0.11529117 0.10958046 0.10434565\n",
            " 0.1092799  0.11458986 0.11559173 0.12275517 0.12062617 0.12663745\n",
            " 0.13134627 0.12771446 0.13046963 0.13377583 0.12486332 0.12650768\n",
            " 0.12764546 0.12840897 0.12893037 0.12930465]\n",
            "6 day output [[0.12959044]]\n",
            "7 day input [0.07020664 0.10026299 0.10735128 0.10379461 0.10820288 0.10507201\n",
            " 0.10990607 0.11133375 0.10311835 0.10855354 0.11078272 0.10336882\n",
            " 0.09362555 0.08598622 0.10316844 0.10386976 0.10261741 0.09966187\n",
            " 0.0903444  0.08541014 0.08969317 0.08846587 0.09430182 0.09675642\n",
            " 0.0910958  0.07428929 0.06930495 0.0639449  0.06376957 0.07165936\n",
            " 0.06359424 0.0626675  0.05808391 0.04809017 0.05703193 0.05783344\n",
            " 0.04566061 0.04889167 0.04553538 0.05705698 0.05838447 0.05983719\n",
            " 0.06675016 0.06654978 0.06993112 0.07288666 0.07105823 0.07120852\n",
            " 0.07772073 0.08583594 0.08939261 0.08771446 0.09297433 0.09790858\n",
            " 0.09056982 0.09380088 0.09665623 0.11015654 0.11937383 0.11243582\n",
            " 0.11974953 0.11291171 0.11028178 0.11063244 0.11774577 0.11611772\n",
            " 0.12145272 0.11739512 0.11448967 0.10429555 0.10537257 0.10659987\n",
            " 0.09986224 0.10289292 0.10161553 0.09635567 0.09785848 0.11068253\n",
            " 0.11769568 0.11211021 0.11529117 0.10958046 0.10434565 0.1092799\n",
            " 0.11458986 0.11559173 0.12275517 0.12062617 0.12663745 0.13134627\n",
            " 0.12771446 0.13046963 0.13377583 0.12486332 0.12650768 0.12764546\n",
            " 0.12840897 0.12893037 0.12930465 0.12959044]\n",
            "7 day output [[0.12982115]]\n",
            "8 day input [0.10026299 0.10735128 0.10379461 0.10820288 0.10507201 0.10990607\n",
            " 0.11133375 0.10311835 0.10855354 0.11078272 0.10336882 0.09362555\n",
            " 0.08598622 0.10316844 0.10386976 0.10261741 0.09966187 0.0903444\n",
            " 0.08541014 0.08969317 0.08846587 0.09430182 0.09675642 0.0910958\n",
            " 0.07428929 0.06930495 0.0639449  0.06376957 0.07165936 0.06359424\n",
            " 0.0626675  0.05808391 0.04809017 0.05703193 0.05783344 0.04566061\n",
            " 0.04889167 0.04553538 0.05705698 0.05838447 0.05983719 0.06675016\n",
            " 0.06654978 0.06993112 0.07288666 0.07105823 0.07120852 0.07772073\n",
            " 0.08583594 0.08939261 0.08771446 0.09297433 0.09790858 0.09056982\n",
            " 0.09380088 0.09665623 0.11015654 0.11937383 0.11243582 0.11974953\n",
            " 0.11291171 0.11028178 0.11063244 0.11774577 0.11611772 0.12145272\n",
            " 0.11739512 0.11448967 0.10429555 0.10537257 0.10659987 0.09986224\n",
            " 0.10289292 0.10161553 0.09635567 0.09785848 0.11068253 0.11769568\n",
            " 0.11211021 0.11529117 0.10958046 0.10434565 0.1092799  0.11458986\n",
            " 0.11559173 0.12275517 0.12062617 0.12663745 0.13134627 0.12771446\n",
            " 0.13046963 0.13377583 0.12486332 0.12650768 0.12764546 0.12840897\n",
            " 0.12893037 0.12930465 0.12959044 0.12982115]\n",
            "8 day output [[0.13001528]]\n",
            "9 day input [0.10735128 0.10379461 0.10820288 0.10507201 0.10990607 0.11133375\n",
            " 0.10311835 0.10855354 0.11078272 0.10336882 0.09362555 0.08598622\n",
            " 0.10316844 0.10386976 0.10261741 0.09966187 0.0903444  0.08541014\n",
            " 0.08969317 0.08846587 0.09430182 0.09675642 0.0910958  0.07428929\n",
            " 0.06930495 0.0639449  0.06376957 0.07165936 0.06359424 0.0626675\n",
            " 0.05808391 0.04809017 0.05703193 0.05783344 0.04566061 0.04889167\n",
            " 0.04553538 0.05705698 0.05838447 0.05983719 0.06675016 0.06654978\n",
            " 0.06993112 0.07288666 0.07105823 0.07120852 0.07772073 0.08583594\n",
            " 0.08939261 0.08771446 0.09297433 0.09790858 0.09056982 0.09380088\n",
            " 0.09665623 0.11015654 0.11937383 0.11243582 0.11974953 0.11291171\n",
            " 0.11028178 0.11063244 0.11774577 0.11611772 0.12145272 0.11739512\n",
            " 0.11448967 0.10429555 0.10537257 0.10659987 0.09986224 0.10289292\n",
            " 0.10161553 0.09635567 0.09785848 0.11068253 0.11769568 0.11211021\n",
            " 0.11529117 0.10958046 0.10434565 0.1092799  0.11458986 0.11559173\n",
            " 0.12275517 0.12062617 0.12663745 0.13134627 0.12771446 0.13046963\n",
            " 0.13377583 0.12486332 0.12650768 0.12764546 0.12840897 0.12893037\n",
            " 0.12930465 0.12959044 0.12982115 0.13001528]\n",
            "9 day output [[0.13018367]]\n",
            "10 day input [0.10379461 0.10820288 0.10507201 0.10990607 0.11133375 0.10311835\n",
            " 0.10855354 0.11078272 0.10336882 0.09362555 0.08598622 0.10316844\n",
            " 0.10386976 0.10261741 0.09966187 0.0903444  0.08541014 0.08969317\n",
            " 0.08846587 0.09430182 0.09675642 0.0910958  0.07428929 0.06930495\n",
            " 0.0639449  0.06376957 0.07165936 0.06359424 0.0626675  0.05808391\n",
            " 0.04809017 0.05703193 0.05783344 0.04566061 0.04889167 0.04553538\n",
            " 0.05705698 0.05838447 0.05983719 0.06675016 0.06654978 0.06993112\n",
            " 0.07288666 0.07105823 0.07120852 0.07772073 0.08583594 0.08939261\n",
            " 0.08771446 0.09297433 0.09790858 0.09056982 0.09380088 0.09665623\n",
            " 0.11015654 0.11937383 0.11243582 0.11974953 0.11291171 0.11028178\n",
            " 0.11063244 0.11774577 0.11611772 0.12145272 0.11739512 0.11448967\n",
            " 0.10429555 0.10537257 0.10659987 0.09986224 0.10289292 0.10161553\n",
            " 0.09635567 0.09785848 0.11068253 0.11769568 0.11211021 0.11529117\n",
            " 0.10958046 0.10434565 0.1092799  0.11458986 0.11559173 0.12275517\n",
            " 0.12062617 0.12663745 0.13134627 0.12771446 0.13046963 0.13377583\n",
            " 0.12486332 0.12650768 0.12764546 0.12840897 0.12893037 0.12930465\n",
            " 0.12959044 0.12982115 0.13001528 0.13018367]\n",
            "10 day output [[0.13033351]]\n",
            "11 day input [0.10820288 0.10507201 0.10990607 0.11133375 0.10311835 0.10855354\n",
            " 0.11078272 0.10336882 0.09362555 0.08598622 0.10316844 0.10386976\n",
            " 0.10261741 0.09966187 0.0903444  0.08541014 0.08969317 0.08846587\n",
            " 0.09430182 0.09675642 0.0910958  0.07428929 0.06930495 0.0639449\n",
            " 0.06376957 0.07165936 0.06359424 0.0626675  0.05808391 0.04809017\n",
            " 0.05703193 0.05783344 0.04566061 0.04889167 0.04553538 0.05705698\n",
            " 0.05838447 0.05983719 0.06675016 0.06654978 0.06993112 0.07288666\n",
            " 0.07105823 0.07120852 0.07772073 0.08583594 0.08939261 0.08771446\n",
            " 0.09297433 0.09790858 0.09056982 0.09380088 0.09665623 0.11015654\n",
            " 0.11937383 0.11243582 0.11974953 0.11291171 0.11028178 0.11063244\n",
            " 0.11774577 0.11611772 0.12145272 0.11739512 0.11448967 0.10429555\n",
            " 0.10537257 0.10659987 0.09986224 0.10289292 0.10161553 0.09635567\n",
            " 0.09785848 0.11068253 0.11769568 0.11211021 0.11529117 0.10958046\n",
            " 0.10434565 0.1092799  0.11458986 0.11559173 0.12275517 0.12062617\n",
            " 0.12663745 0.13134627 0.12771446 0.13046963 0.13377583 0.12486332\n",
            " 0.12650768 0.12764546 0.12840897 0.12893037 0.12930465 0.12959044\n",
            " 0.12982115 0.13001528 0.13018367 0.13033351]\n",
            "11 day output [[0.13047032]]\n",
            "12 day input [0.10507201 0.10990607 0.11133375 0.10311835 0.10855354 0.11078272\n",
            " 0.10336882 0.09362555 0.08598622 0.10316844 0.10386976 0.10261741\n",
            " 0.09966187 0.0903444  0.08541014 0.08969317 0.08846587 0.09430182\n",
            " 0.09675642 0.0910958  0.07428929 0.06930495 0.0639449  0.06376957\n",
            " 0.07165936 0.06359424 0.0626675  0.05808391 0.04809017 0.05703193\n",
            " 0.05783344 0.04566061 0.04889167 0.04553538 0.05705698 0.05838447\n",
            " 0.05983719 0.06675016 0.06654978 0.06993112 0.07288666 0.07105823\n",
            " 0.07120852 0.07772073 0.08583594 0.08939261 0.08771446 0.09297433\n",
            " 0.09790858 0.09056982 0.09380088 0.09665623 0.11015654 0.11937383\n",
            " 0.11243582 0.11974953 0.11291171 0.11028178 0.11063244 0.11774577\n",
            " 0.11611772 0.12145272 0.11739512 0.11448967 0.10429555 0.10537257\n",
            " 0.10659987 0.09986224 0.10289292 0.10161553 0.09635567 0.09785848\n",
            " 0.11068253 0.11769568 0.11211021 0.11529117 0.10958046 0.10434565\n",
            " 0.1092799  0.11458986 0.11559173 0.12275517 0.12062617 0.12663745\n",
            " 0.13134627 0.12771446 0.13046963 0.13377583 0.12486332 0.12650768\n",
            " 0.12764546 0.12840897 0.12893037 0.12930465 0.12959044 0.12982115\n",
            " 0.13001528 0.13018367 0.13033351 0.13047032]\n",
            "12 day output [[0.13059883]]\n",
            "13 day input [0.10990607 0.11133375 0.10311835 0.10855354 0.11078272 0.10336882\n",
            " 0.09362555 0.08598622 0.10316844 0.10386976 0.10261741 0.09966187\n",
            " 0.0903444  0.08541014 0.08969317 0.08846587 0.09430182 0.09675642\n",
            " 0.0910958  0.07428929 0.06930495 0.0639449  0.06376957 0.07165936\n",
            " 0.06359424 0.0626675  0.05808391 0.04809017 0.05703193 0.05783344\n",
            " 0.04566061 0.04889167 0.04553538 0.05705698 0.05838447 0.05983719\n",
            " 0.06675016 0.06654978 0.06993112 0.07288666 0.07105823 0.07120852\n",
            " 0.07772073 0.08583594 0.08939261 0.08771446 0.09297433 0.09790858\n",
            " 0.09056982 0.09380088 0.09665623 0.11015654 0.11937383 0.11243582\n",
            " 0.11974953 0.11291171 0.11028178 0.11063244 0.11774577 0.11611772\n",
            " 0.12145272 0.11739512 0.11448967 0.10429555 0.10537257 0.10659987\n",
            " 0.09986224 0.10289292 0.10161553 0.09635567 0.09785848 0.11068253\n",
            " 0.11769568 0.11211021 0.11529117 0.10958046 0.10434565 0.1092799\n",
            " 0.11458986 0.11559173 0.12275517 0.12062617 0.12663745 0.13134627\n",
            " 0.12771446 0.13046963 0.13377583 0.12486332 0.12650768 0.12764546\n",
            " 0.12840897 0.12893037 0.12930465 0.12959044 0.12982115 0.13001528\n",
            " 0.13018367 0.13033351 0.13047032 0.13059883]\n",
            "13 day output [[0.13072303]]\n",
            "14 day input [0.11133375 0.10311835 0.10855354 0.11078272 0.10336882 0.09362555\n",
            " 0.08598622 0.10316844 0.10386976 0.10261741 0.09966187 0.0903444\n",
            " 0.08541014 0.08969317 0.08846587 0.09430182 0.09675642 0.0910958\n",
            " 0.07428929 0.06930495 0.0639449  0.06376957 0.07165936 0.06359424\n",
            " 0.0626675  0.05808391 0.04809017 0.05703193 0.05783344 0.04566061\n",
            " 0.04889167 0.04553538 0.05705698 0.05838447 0.05983719 0.06675016\n",
            " 0.06654978 0.06993112 0.07288666 0.07105823 0.07120852 0.07772073\n",
            " 0.08583594 0.08939261 0.08771446 0.09297433 0.09790858 0.09056982\n",
            " 0.09380088 0.09665623 0.11015654 0.11937383 0.11243582 0.11974953\n",
            " 0.11291171 0.11028178 0.11063244 0.11774577 0.11611772 0.12145272\n",
            " 0.11739512 0.11448967 0.10429555 0.10537257 0.10659987 0.09986224\n",
            " 0.10289292 0.10161553 0.09635567 0.09785848 0.11068253 0.11769568\n",
            " 0.11211021 0.11529117 0.10958046 0.10434565 0.1092799  0.11458986\n",
            " 0.11559173 0.12275517 0.12062617 0.12663745 0.13134627 0.12771446\n",
            " 0.13046963 0.13377583 0.12486332 0.12650768 0.12764546 0.12840897\n",
            " 0.12893037 0.12930465 0.12959044 0.12982115 0.13001528 0.13018367\n",
            " 0.13033351 0.13047032 0.13059883 0.13072303]\n",
            "14 day output [[0.13084628]]\n",
            "15 day input [0.10311835 0.10855354 0.11078272 0.10336882 0.09362555 0.08598622\n",
            " 0.10316844 0.10386976 0.10261741 0.09966187 0.0903444  0.08541014\n",
            " 0.08969317 0.08846587 0.09430182 0.09675642 0.0910958  0.07428929\n",
            " 0.06930495 0.0639449  0.06376957 0.07165936 0.06359424 0.0626675\n",
            " 0.05808391 0.04809017 0.05703193 0.05783344 0.04566061 0.04889167\n",
            " 0.04553538 0.05705698 0.05838447 0.05983719 0.06675016 0.06654978\n",
            " 0.06993112 0.07288666 0.07105823 0.07120852 0.07772073 0.08583594\n",
            " 0.08939261 0.08771446 0.09297433 0.09790858 0.09056982 0.09380088\n",
            " 0.09665623 0.11015654 0.11937383 0.11243582 0.11974953 0.11291171\n",
            " 0.11028178 0.11063244 0.11774577 0.11611772 0.12145272 0.11739512\n",
            " 0.11448967 0.10429555 0.10537257 0.10659987 0.09986224 0.10289292\n",
            " 0.10161553 0.09635567 0.09785848 0.11068253 0.11769568 0.11211021\n",
            " 0.11529117 0.10958046 0.10434565 0.1092799  0.11458986 0.11559173\n",
            " 0.12275517 0.12062617 0.12663745 0.13134627 0.12771446 0.13046963\n",
            " 0.13377583 0.12486332 0.12650768 0.12764546 0.12840897 0.12893037\n",
            " 0.12930465 0.12959044 0.12982115 0.13001528 0.13018367 0.13033351\n",
            " 0.13047032 0.13059883 0.13072303 0.13084628]\n",
            "15 day output [[0.13097118]]\n",
            "16 day input [0.10855354 0.11078272 0.10336882 0.09362555 0.08598622 0.10316844\n",
            " 0.10386976 0.10261741 0.09966187 0.0903444  0.08541014 0.08969317\n",
            " 0.08846587 0.09430182 0.09675642 0.0910958  0.07428929 0.06930495\n",
            " 0.0639449  0.06376957 0.07165936 0.06359424 0.0626675  0.05808391\n",
            " 0.04809017 0.05703193 0.05783344 0.04566061 0.04889167 0.04553538\n",
            " 0.05705698 0.05838447 0.05983719 0.06675016 0.06654978 0.06993112\n",
            " 0.07288666 0.07105823 0.07120852 0.07772073 0.08583594 0.08939261\n",
            " 0.08771446 0.09297433 0.09790858 0.09056982 0.09380088 0.09665623\n",
            " 0.11015654 0.11937383 0.11243582 0.11974953 0.11291171 0.11028178\n",
            " 0.11063244 0.11774577 0.11611772 0.12145272 0.11739512 0.11448967\n",
            " 0.10429555 0.10537257 0.10659987 0.09986224 0.10289292 0.10161553\n",
            " 0.09635567 0.09785848 0.11068253 0.11769568 0.11211021 0.11529117\n",
            " 0.10958046 0.10434565 0.1092799  0.11458986 0.11559173 0.12275517\n",
            " 0.12062617 0.12663745 0.13134627 0.12771446 0.13046963 0.13377583\n",
            " 0.12486332 0.12650768 0.12764546 0.12840897 0.12893037 0.12930465\n",
            " 0.12959044 0.12982115 0.13001528 0.13018367 0.13033351 0.13047032\n",
            " 0.13059883 0.13072303 0.13084628 0.13097118]\n",
            "16 day output [[0.13109949]]\n",
            "17 day input [0.11078272 0.10336882 0.09362555 0.08598622 0.10316844 0.10386976\n",
            " 0.10261741 0.09966187 0.0903444  0.08541014 0.08969317 0.08846587\n",
            " 0.09430182 0.09675642 0.0910958  0.07428929 0.06930495 0.0639449\n",
            " 0.06376957 0.07165936 0.06359424 0.0626675  0.05808391 0.04809017\n",
            " 0.05703193 0.05783344 0.04566061 0.04889167 0.04553538 0.05705698\n",
            " 0.05838447 0.05983719 0.06675016 0.06654978 0.06993112 0.07288666\n",
            " 0.07105823 0.07120852 0.07772073 0.08583594 0.08939261 0.08771446\n",
            " 0.09297433 0.09790858 0.09056982 0.09380088 0.09665623 0.11015654\n",
            " 0.11937383 0.11243582 0.11974953 0.11291171 0.11028178 0.11063244\n",
            " 0.11774577 0.11611772 0.12145272 0.11739512 0.11448967 0.10429555\n",
            " 0.10537257 0.10659987 0.09986224 0.10289292 0.10161553 0.09635567\n",
            " 0.09785848 0.11068253 0.11769568 0.11211021 0.11529117 0.10958046\n",
            " 0.10434565 0.1092799  0.11458986 0.11559173 0.12275517 0.12062617\n",
            " 0.12663745 0.13134627 0.12771446 0.13046963 0.13377583 0.12486332\n",
            " 0.12650768 0.12764546 0.12840897 0.12893037 0.12930465 0.12959044\n",
            " 0.12982115 0.13001528 0.13018367 0.13033351 0.13047032 0.13059883\n",
            " 0.13072303 0.13084628 0.13097118 0.13109949]\n",
            "17 day output [[0.13123234]]\n",
            "18 day input [0.10336882 0.09362555 0.08598622 0.10316844 0.10386976 0.10261741\n",
            " 0.09966187 0.0903444  0.08541014 0.08969317 0.08846587 0.09430182\n",
            " 0.09675642 0.0910958  0.07428929 0.06930495 0.0639449  0.06376957\n",
            " 0.07165936 0.06359424 0.0626675  0.05808391 0.04809017 0.05703193\n",
            " 0.05783344 0.04566061 0.04889167 0.04553538 0.05705698 0.05838447\n",
            " 0.05983719 0.06675016 0.06654978 0.06993112 0.07288666 0.07105823\n",
            " 0.07120852 0.07772073 0.08583594 0.08939261 0.08771446 0.09297433\n",
            " 0.09790858 0.09056982 0.09380088 0.09665623 0.11015654 0.11937383\n",
            " 0.11243582 0.11974953 0.11291171 0.11028178 0.11063244 0.11774577\n",
            " 0.11611772 0.12145272 0.11739512 0.11448967 0.10429555 0.10537257\n",
            " 0.10659987 0.09986224 0.10289292 0.10161553 0.09635567 0.09785848\n",
            " 0.11068253 0.11769568 0.11211021 0.11529117 0.10958046 0.10434565\n",
            " 0.1092799  0.11458986 0.11559173 0.12275517 0.12062617 0.12663745\n",
            " 0.13134627 0.12771446 0.13046963 0.13377583 0.12486332 0.12650768\n",
            " 0.12764546 0.12840897 0.12893037 0.12930465 0.12959044 0.12982115\n",
            " 0.13001528 0.13018367 0.13033351 0.13047032 0.13059883 0.13072303\n",
            " 0.13084628 0.13097118 0.13109949 0.13123234]\n",
            "18 day output [[0.13137013]]\n",
            "19 day input [0.09362555 0.08598622 0.10316844 0.10386976 0.10261741 0.09966187\n",
            " 0.0903444  0.08541014 0.08969317 0.08846587 0.09430182 0.09675642\n",
            " 0.0910958  0.07428929 0.06930495 0.0639449  0.06376957 0.07165936\n",
            " 0.06359424 0.0626675  0.05808391 0.04809017 0.05703193 0.05783344\n",
            " 0.04566061 0.04889167 0.04553538 0.05705698 0.05838447 0.05983719\n",
            " 0.06675016 0.06654978 0.06993112 0.07288666 0.07105823 0.07120852\n",
            " 0.07772073 0.08583594 0.08939261 0.08771446 0.09297433 0.09790858\n",
            " 0.09056982 0.09380088 0.09665623 0.11015654 0.11937383 0.11243582\n",
            " 0.11974953 0.11291171 0.11028178 0.11063244 0.11774577 0.11611772\n",
            " 0.12145272 0.11739512 0.11448967 0.10429555 0.10537257 0.10659987\n",
            " 0.09986224 0.10289292 0.10161553 0.09635567 0.09785848 0.11068253\n",
            " 0.11769568 0.11211021 0.11529117 0.10958046 0.10434565 0.1092799\n",
            " 0.11458986 0.11559173 0.12275517 0.12062617 0.12663745 0.13134627\n",
            " 0.12771446 0.13046963 0.13377583 0.12486332 0.12650768 0.12764546\n",
            " 0.12840897 0.12893037 0.12930465 0.12959044 0.12982115 0.13001528\n",
            " 0.13018367 0.13033351 0.13047032 0.13059883 0.13072303 0.13084628\n",
            " 0.13097118 0.13109949 0.13123234 0.13137013]\n",
            "19 day output [[0.13151275]]\n",
            "20 day input [0.08598622 0.10316844 0.10386976 0.10261741 0.09966187 0.0903444\n",
            " 0.08541014 0.08969317 0.08846587 0.09430182 0.09675642 0.0910958\n",
            " 0.07428929 0.06930495 0.0639449  0.06376957 0.07165936 0.06359424\n",
            " 0.0626675  0.05808391 0.04809017 0.05703193 0.05783344 0.04566061\n",
            " 0.04889167 0.04553538 0.05705698 0.05838447 0.05983719 0.06675016\n",
            " 0.06654978 0.06993112 0.07288666 0.07105823 0.07120852 0.07772073\n",
            " 0.08583594 0.08939261 0.08771446 0.09297433 0.09790858 0.09056982\n",
            " 0.09380088 0.09665623 0.11015654 0.11937383 0.11243582 0.11974953\n",
            " 0.11291171 0.11028178 0.11063244 0.11774577 0.11611772 0.12145272\n",
            " 0.11739512 0.11448967 0.10429555 0.10537257 0.10659987 0.09986224\n",
            " 0.10289292 0.10161553 0.09635567 0.09785848 0.11068253 0.11769568\n",
            " 0.11211021 0.11529117 0.10958046 0.10434565 0.1092799  0.11458986\n",
            " 0.11559173 0.12275517 0.12062617 0.12663745 0.13134627 0.12771446\n",
            " 0.13046963 0.13377583 0.12486332 0.12650768 0.12764546 0.12840897\n",
            " 0.12893037 0.12930465 0.12959044 0.12982115 0.13001528 0.13018367\n",
            " 0.13033351 0.13047032 0.13059883 0.13072303 0.13084628 0.13097118\n",
            " 0.13109949 0.13123234 0.13137013 0.13151275]\n",
            "20 day output [[0.13165966]]\n",
            "21 day input [0.10316844 0.10386976 0.10261741 0.09966187 0.0903444  0.08541014\n",
            " 0.08969317 0.08846587 0.09430182 0.09675642 0.0910958  0.07428929\n",
            " 0.06930495 0.0639449  0.06376957 0.07165936 0.06359424 0.0626675\n",
            " 0.05808391 0.04809017 0.05703193 0.05783344 0.04566061 0.04889167\n",
            " 0.04553538 0.05705698 0.05838447 0.05983719 0.06675016 0.06654978\n",
            " 0.06993112 0.07288666 0.07105823 0.07120852 0.07772073 0.08583594\n",
            " 0.08939261 0.08771446 0.09297433 0.09790858 0.09056982 0.09380088\n",
            " 0.09665623 0.11015654 0.11937383 0.11243582 0.11974953 0.11291171\n",
            " 0.11028178 0.11063244 0.11774577 0.11611772 0.12145272 0.11739512\n",
            " 0.11448967 0.10429555 0.10537257 0.10659987 0.09986224 0.10289292\n",
            " 0.10161553 0.09635567 0.09785848 0.11068253 0.11769568 0.11211021\n",
            " 0.11529117 0.10958046 0.10434565 0.1092799  0.11458986 0.11559173\n",
            " 0.12275517 0.12062617 0.12663745 0.13134627 0.12771446 0.13046963\n",
            " 0.13377583 0.12486332 0.12650768 0.12764546 0.12840897 0.12893037\n",
            " 0.12930465 0.12959044 0.12982115 0.13001528 0.13018367 0.13033351\n",
            " 0.13047032 0.13059883 0.13072303 0.13084628 0.13097118 0.13109949\n",
            " 0.13123234 0.13137013 0.13151275 0.13165966]\n",
            "21 day output [[0.13181002]]\n",
            "22 day input [0.10386976 0.10261741 0.09966187 0.0903444  0.08541014 0.08969317\n",
            " 0.08846587 0.09430182 0.09675642 0.0910958  0.07428929 0.06930495\n",
            " 0.0639449  0.06376957 0.07165936 0.06359424 0.0626675  0.05808391\n",
            " 0.04809017 0.05703193 0.05783344 0.04566061 0.04889167 0.04553538\n",
            " 0.05705698 0.05838447 0.05983719 0.06675016 0.06654978 0.06993112\n",
            " 0.07288666 0.07105823 0.07120852 0.07772073 0.08583594 0.08939261\n",
            " 0.08771446 0.09297433 0.09790858 0.09056982 0.09380088 0.09665623\n",
            " 0.11015654 0.11937383 0.11243582 0.11974953 0.11291171 0.11028178\n",
            " 0.11063244 0.11774577 0.11611772 0.12145272 0.11739512 0.11448967\n",
            " 0.10429555 0.10537257 0.10659987 0.09986224 0.10289292 0.10161553\n",
            " 0.09635567 0.09785848 0.11068253 0.11769568 0.11211021 0.11529117\n",
            " 0.10958046 0.10434565 0.1092799  0.11458986 0.11559173 0.12275517\n",
            " 0.12062617 0.12663745 0.13134627 0.12771446 0.13046963 0.13377583\n",
            " 0.12486332 0.12650768 0.12764546 0.12840897 0.12893037 0.12930465\n",
            " 0.12959044 0.12982115 0.13001528 0.13018367 0.13033351 0.13047032\n",
            " 0.13059883 0.13072303 0.13084628 0.13097118 0.13109949 0.13123234\n",
            " 0.13137013 0.13151275 0.13165966 0.13181002]\n",
            "22 day output [[0.13196285]]\n",
            "23 day input [0.10261741 0.09966187 0.0903444  0.08541014 0.08969317 0.08846587\n",
            " 0.09430182 0.09675642 0.0910958  0.07428929 0.06930495 0.0639449\n",
            " 0.06376957 0.07165936 0.06359424 0.0626675  0.05808391 0.04809017\n",
            " 0.05703193 0.05783344 0.04566061 0.04889167 0.04553538 0.05705698\n",
            " 0.05838447 0.05983719 0.06675016 0.06654978 0.06993112 0.07288666\n",
            " 0.07105823 0.07120852 0.07772073 0.08583594 0.08939261 0.08771446\n",
            " 0.09297433 0.09790858 0.09056982 0.09380088 0.09665623 0.11015654\n",
            " 0.11937383 0.11243582 0.11974953 0.11291171 0.11028178 0.11063244\n",
            " 0.11774577 0.11611772 0.12145272 0.11739512 0.11448967 0.10429555\n",
            " 0.10537257 0.10659987 0.09986224 0.10289292 0.10161553 0.09635567\n",
            " 0.09785848 0.11068253 0.11769568 0.11211021 0.11529117 0.10958046\n",
            " 0.10434565 0.1092799  0.11458986 0.11559173 0.12275517 0.12062617\n",
            " 0.12663745 0.13134627 0.12771446 0.13046963 0.13377583 0.12486332\n",
            " 0.12650768 0.12764546 0.12840897 0.12893037 0.12930465 0.12959044\n",
            " 0.12982115 0.13001528 0.13018367 0.13033351 0.13047032 0.13059883\n",
            " 0.13072303 0.13084628 0.13097118 0.13109949 0.13123234 0.13137013\n",
            " 0.13151275 0.13165966 0.13181002 0.13196285]\n",
            "23 day output [[0.13211703]]\n",
            "24 day input [0.09966187 0.0903444  0.08541014 0.08969317 0.08846587 0.09430182\n",
            " 0.09675642 0.0910958  0.07428929 0.06930495 0.0639449  0.06376957\n",
            " 0.07165936 0.06359424 0.0626675  0.05808391 0.04809017 0.05703193\n",
            " 0.05783344 0.04566061 0.04889167 0.04553538 0.05705698 0.05838447\n",
            " 0.05983719 0.06675016 0.06654978 0.06993112 0.07288666 0.07105823\n",
            " 0.07120852 0.07772073 0.08583594 0.08939261 0.08771446 0.09297433\n",
            " 0.09790858 0.09056982 0.09380088 0.09665623 0.11015654 0.11937383\n",
            " 0.11243582 0.11974953 0.11291171 0.11028178 0.11063244 0.11774577\n",
            " 0.11611772 0.12145272 0.11739512 0.11448967 0.10429555 0.10537257\n",
            " 0.10659987 0.09986224 0.10289292 0.10161553 0.09635567 0.09785848\n",
            " 0.11068253 0.11769568 0.11211021 0.11529117 0.10958046 0.10434565\n",
            " 0.1092799  0.11458986 0.11559173 0.12275517 0.12062617 0.12663745\n",
            " 0.13134627 0.12771446 0.13046963 0.13377583 0.12486332 0.12650768\n",
            " 0.12764546 0.12840897 0.12893037 0.12930465 0.12959044 0.12982115\n",
            " 0.13001528 0.13018367 0.13033351 0.13047032 0.13059883 0.13072303\n",
            " 0.13084628 0.13097118 0.13109949 0.13123234 0.13137013 0.13151275\n",
            " 0.13165966 0.13181002 0.13196285 0.13211703]\n",
            "24 day output [[0.13227151]]\n",
            "25 day input [0.0903444  0.08541014 0.08969317 0.08846587 0.09430182 0.09675642\n",
            " 0.0910958  0.07428929 0.06930495 0.0639449  0.06376957 0.07165936\n",
            " 0.06359424 0.0626675  0.05808391 0.04809017 0.05703193 0.05783344\n",
            " 0.04566061 0.04889167 0.04553538 0.05705698 0.05838447 0.05983719\n",
            " 0.06675016 0.06654978 0.06993112 0.07288666 0.07105823 0.07120852\n",
            " 0.07772073 0.08583594 0.08939261 0.08771446 0.09297433 0.09790858\n",
            " 0.09056982 0.09380088 0.09665623 0.11015654 0.11937383 0.11243582\n",
            " 0.11974953 0.11291171 0.11028178 0.11063244 0.11774577 0.11611772\n",
            " 0.12145272 0.11739512 0.11448967 0.10429555 0.10537257 0.10659987\n",
            " 0.09986224 0.10289292 0.10161553 0.09635567 0.09785848 0.11068253\n",
            " 0.11769568 0.11211021 0.11529117 0.10958046 0.10434565 0.1092799\n",
            " 0.11458986 0.11559173 0.12275517 0.12062617 0.12663745 0.13134627\n",
            " 0.12771446 0.13046963 0.13377583 0.12486332 0.12650768 0.12764546\n",
            " 0.12840897 0.12893037 0.12930465 0.12959044 0.12982115 0.13001528\n",
            " 0.13018367 0.13033351 0.13047032 0.13059883 0.13072303 0.13084628\n",
            " 0.13097118 0.13109949 0.13123234 0.13137013 0.13151275 0.13165966\n",
            " 0.13181002 0.13196285 0.13211703 0.13227151]\n",
            "25 day output [[0.13242523]]\n",
            "26 day input [0.08541014 0.08969317 0.08846587 0.09430182 0.09675642 0.0910958\n",
            " 0.07428929 0.06930495 0.0639449  0.06376957 0.07165936 0.06359424\n",
            " 0.0626675  0.05808391 0.04809017 0.05703193 0.05783344 0.04566061\n",
            " 0.04889167 0.04553538 0.05705698 0.05838447 0.05983719 0.06675016\n",
            " 0.06654978 0.06993112 0.07288666 0.07105823 0.07120852 0.07772073\n",
            " 0.08583594 0.08939261 0.08771446 0.09297433 0.09790858 0.09056982\n",
            " 0.09380088 0.09665623 0.11015654 0.11937383 0.11243582 0.11974953\n",
            " 0.11291171 0.11028178 0.11063244 0.11774577 0.11611772 0.12145272\n",
            " 0.11739512 0.11448967 0.10429555 0.10537257 0.10659987 0.09986224\n",
            " 0.10289292 0.10161553 0.09635567 0.09785848 0.11068253 0.11769568\n",
            " 0.11211021 0.11529117 0.10958046 0.10434565 0.1092799  0.11458986\n",
            " 0.11559173 0.12275517 0.12062617 0.12663745 0.13134627 0.12771446\n",
            " 0.13046963 0.13377583 0.12486332 0.12650768 0.12764546 0.12840897\n",
            " 0.12893037 0.12930465 0.12959044 0.12982115 0.13001528 0.13018367\n",
            " 0.13033351 0.13047032 0.13059883 0.13072303 0.13084628 0.13097118\n",
            " 0.13109949 0.13123234 0.13137013 0.13151275 0.13165966 0.13181002\n",
            " 0.13196285 0.13211703 0.13227151 0.13242523]\n",
            "26 day output [[0.1325773]]\n",
            "27 day input [0.08969317 0.08846587 0.09430182 0.09675642 0.0910958  0.07428929\n",
            " 0.06930495 0.0639449  0.06376957 0.07165936 0.06359424 0.0626675\n",
            " 0.05808391 0.04809017 0.05703193 0.05783344 0.04566061 0.04889167\n",
            " 0.04553538 0.05705698 0.05838447 0.05983719 0.06675016 0.06654978\n",
            " 0.06993112 0.07288666 0.07105823 0.07120852 0.07772073 0.08583594\n",
            " 0.08939261 0.08771446 0.09297433 0.09790858 0.09056982 0.09380088\n",
            " 0.09665623 0.11015654 0.11937383 0.11243582 0.11974953 0.11291171\n",
            " 0.11028178 0.11063244 0.11774577 0.11611772 0.12145272 0.11739512\n",
            " 0.11448967 0.10429555 0.10537257 0.10659987 0.09986224 0.10289292\n",
            " 0.10161553 0.09635567 0.09785848 0.11068253 0.11769568 0.11211021\n",
            " 0.11529117 0.10958046 0.10434565 0.1092799  0.11458986 0.11559173\n",
            " 0.12275517 0.12062617 0.12663745 0.13134627 0.12771446 0.13046963\n",
            " 0.13377583 0.12486332 0.12650768 0.12764546 0.12840897 0.12893037\n",
            " 0.12930465 0.12959044 0.12982115 0.13001528 0.13018367 0.13033351\n",
            " 0.13047032 0.13059883 0.13072303 0.13084628 0.13097118 0.13109949\n",
            " 0.13123234 0.13137013 0.13151275 0.13165966 0.13181002 0.13196285\n",
            " 0.13211703 0.13227151 0.13242523 0.1325773 ]\n",
            "27 day output [[0.13272695]]\n",
            "28 day input [0.08846587 0.09430182 0.09675642 0.0910958  0.07428929 0.06930495\n",
            " 0.0639449  0.06376957 0.07165936 0.06359424 0.0626675  0.05808391\n",
            " 0.04809017 0.05703193 0.05783344 0.04566061 0.04889167 0.04553538\n",
            " 0.05705698 0.05838447 0.05983719 0.06675016 0.06654978 0.06993112\n",
            " 0.07288666 0.07105823 0.07120852 0.07772073 0.08583594 0.08939261\n",
            " 0.08771446 0.09297433 0.09790858 0.09056982 0.09380088 0.09665623\n",
            " 0.11015654 0.11937383 0.11243582 0.11974953 0.11291171 0.11028178\n",
            " 0.11063244 0.11774577 0.11611772 0.12145272 0.11739512 0.11448967\n",
            " 0.10429555 0.10537257 0.10659987 0.09986224 0.10289292 0.10161553\n",
            " 0.09635567 0.09785848 0.11068253 0.11769568 0.11211021 0.11529117\n",
            " 0.10958046 0.10434565 0.1092799  0.11458986 0.11559173 0.12275517\n",
            " 0.12062617 0.12663745 0.13134627 0.12771446 0.13046963 0.13377583\n",
            " 0.12486332 0.12650768 0.12764546 0.12840897 0.12893037 0.12930465\n",
            " 0.12959044 0.12982115 0.13001528 0.13018367 0.13033351 0.13047032\n",
            " 0.13059883 0.13072303 0.13084628 0.13097118 0.13109949 0.13123234\n",
            " 0.13137013 0.13151275 0.13165966 0.13181002 0.13196285 0.13211703\n",
            " 0.13227151 0.13242523 0.1325773  0.13272695]\n",
            "28 day output [[0.1328736]]\n",
            "29 day input [0.09430182 0.09675642 0.0910958  0.07428929 0.06930495 0.0639449\n",
            " 0.06376957 0.07165936 0.06359424 0.0626675  0.05808391 0.04809017\n",
            " 0.05703193 0.05783344 0.04566061 0.04889167 0.04553538 0.05705698\n",
            " 0.05838447 0.05983719 0.06675016 0.06654978 0.06993112 0.07288666\n",
            " 0.07105823 0.07120852 0.07772073 0.08583594 0.08939261 0.08771446\n",
            " 0.09297433 0.09790858 0.09056982 0.09380088 0.09665623 0.11015654\n",
            " 0.11937383 0.11243582 0.11974953 0.11291171 0.11028178 0.11063244\n",
            " 0.11774577 0.11611772 0.12145272 0.11739512 0.11448967 0.10429555\n",
            " 0.10537257 0.10659987 0.09986224 0.10289292 0.10161553 0.09635567\n",
            " 0.09785848 0.11068253 0.11769568 0.11211021 0.11529117 0.10958046\n",
            " 0.10434565 0.1092799  0.11458986 0.11559173 0.12275517 0.12062617\n",
            " 0.12663745 0.13134627 0.12771446 0.13046963 0.13377583 0.12486332\n",
            " 0.12650768 0.12764546 0.12840897 0.12893037 0.12930465 0.12959044\n",
            " 0.12982115 0.13001528 0.13018367 0.13033351 0.13047032 0.13059883\n",
            " 0.13072303 0.13084628 0.13097118 0.13109949 0.13123234 0.13137013\n",
            " 0.13151275 0.13165966 0.13181002 0.13196285 0.13211703 0.13227151\n",
            " 0.13242523 0.1325773  0.13272695 0.13287359]\n",
            "29 day output [[0.13301678]]\n",
            "[[0.12486331909894943], [0.1265076845884323], [0.12764546275138855], [0.12840896844863892], [0.12893037497997284], [0.1293046474456787], [0.12959043681621552], [0.12982115149497986], [0.1300152838230133], [0.13018366694450378], [0.13033351302146912], [0.13047032058238983], [0.13059882819652557], [0.1307230293750763], [0.1308462768793106], [0.13097117841243744], [0.13109949231147766], [0.1312323361635208], [0.13137012720108032], [0.13151274621486664], [0.13165965676307678], [0.1318100243806839], [0.131962850689888], [0.13211703300476074], [0.13227151334285736], [0.1324252337217331], [0.1325773000717163], [0.13272695243358612], [0.13287359476089478], [0.13301678001880646]]\n"
          ]
        }
      ]
    },
    {
      "cell_type": "code",
      "source": [
        "day_new = np.arange(1,100)\n",
        "day_pred = np.arange(100,130)"
      ],
      "metadata": {
        "id": "zXH1WQmpG-1e"
      },
      "execution_count": 300,
      "outputs": []
    },
    {
      "cell_type": "code",
      "source": [
        "import matplotlib.pyplot as plt"
      ],
      "metadata": {
        "id": "uzTa_-MxIOx8"
      },
      "execution_count": 301,
      "outputs": []
    },
    {
      "cell_type": "code",
      "source": [
        "len(df1)"
      ],
      "metadata": {
        "colab": {
          "base_uri": "https://localhost:8080/"
        },
        "id": "idjf-NGqITco",
        "outputId": "f7e3ca19-7ad8-476a-9f3a-d0aee7287108"
      },
      "execution_count": 302,
      "outputs": [
        {
          "output_type": "execute_result",
          "data": {
            "text/plain": [
              "1258"
            ]
          },
          "metadata": {},
          "execution_count": 302
        }
      ]
    },
    {
      "cell_type": "code",
      "source": [
        "df3 = df1.tolist()\n",
        "df3.extend(lst_output)"
      ],
      "metadata": {
        "id": "fa1Edn-nIWV2"
      },
      "execution_count": 303,
      "outputs": []
    },
    {
      "cell_type": "code",
      "source": [
        "plt.plot(day_new,scaler.inverse_transform(df1[1159:]))\n",
        "plt.plot(day_pred,scaler.inverse_transform(lst_output))"
      ],
      "metadata": {
        "colab": {
          "base_uri": "https://localhost:8080/",
          "height": 282
        },
        "id": "hVa1UblbId3W",
        "outputId": "fee3ba8d-30ee-4bee-ba87-c3b369cb7baf"
      },
      "execution_count": 304,
      "outputs": [
        {
          "output_type": "execute_result",
          "data": {
            "text/plain": [
              "[<matplotlib.lines.Line2D at 0x7f784c908670>]"
            ]
          },
          "metadata": {},
          "execution_count": 304
        },
        {
          "output_type": "display_data",
          "data": {
            "text/plain": [
              "<Figure size 432x288 with 1 Axes>"
            ],
            "image/png": "[encoded data removed]"
          },
          "metadata": {
            "needs_background": "light"
          }
        }
      ]
    }
  ]
}